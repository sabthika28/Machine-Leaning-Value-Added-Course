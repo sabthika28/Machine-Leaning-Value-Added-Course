{
 "cells": [
  {
   "cell_type": "code",
   "execution_count": 1,
   "id": "7192208c",
   "metadata": {},
   "outputs": [
    {
     "name": "stdout",
     "output_type": "stream",
     "text": [
      "Welcome\n"
     ]
    }
   ],
   "source": [
    "print(\"Welcome\")"
   ]
  },
  {
   "cell_type": "code",
   "execution_count": 2,
   "id": "a9df2124",
   "metadata": {},
   "outputs": [
    {
     "name": "stdout",
     "output_type": "stream",
     "text": [
      "pip 23.2.1 from C:\\Users\\sabth\\Documents\\anaconda\\Lib\\site-packages\\pip (python 3.11)\n",
      "\n",
      "Note: you may need to restart the kernel to use updated packages.\n"
     ]
    }
   ],
   "source": [
    "pip--version"
   ]
  },
  {
   "cell_type": "code",
   "execution_count": 3,
   "id": "1cd1039f",
   "metadata": {},
   "outputs": [
    {
     "name": "stdout",
     "output_type": "stream",
     "text": [
      "Requirement already satisfied: camelcase in c:\\users\\sabth\\documents\\anaconda\\lib\\site-packages (0.2)\n",
      "Note: you may need to restart the kernel to use updated packages.\n"
     ]
    }
   ],
   "source": [
    "pip install camelcase  # to install any package"
   ]
  },
  {
   "cell_type": "code",
   "execution_count": 4,
   "id": "7889bcbd",
   "metadata": {},
   "outputs": [],
   "source": [
    "import camelcase # for executing the installed package we have to import the package"
   ]
  },
  {
   "cell_type": "code",
   "execution_count": 5,
   "id": "b58319e9",
   "metadata": {},
   "outputs": [
    {
     "name": "stdout",
     "output_type": "stream",
     "text": [
      "Hello World\n"
     ]
    }
   ],
   "source": [
    "c = camelcase.CamelCase()\n",
    "\n",
    "txt = \"hello world\"\n",
    "\n",
    "print(c.hump(txt))"
   ]
  },
  {
   "cell_type": "code",
   "execution_count": 6,
   "id": "b25d42c4",
   "metadata": {},
   "outputs": [
    {
     "name": "stdout",
     "output_type": "stream",
     "text": [
      "Package                       Version\n",
      "----------------------------- ---------------\n",
      "aiobotocore                   2.5.0\n",
      "aiofiles                      22.1.0\n",
      "aiohttp                       3.8.5\n",
      "aioitertools                  0.7.1\n",
      "aiosignal                     1.2.0\n",
      "aiosqlite                     0.18.0\n",
      "alabaster                     0.7.12\n",
      "anaconda-anon-usage           0.4.2\n",
      "anaconda-catalogs             0.2.0\n",
      "anaconda-client               1.12.1\n",
      "anaconda-cloud-auth           0.1.3\n",
      "anaconda-navigator            2.5.0\n",
      "anaconda-project              0.11.1\n",
      "anyio                         3.5.0\n",
      "appdirs                       1.4.4\n",
      "argon2-cffi                   21.3.0\n",
      "argon2-cffi-bindings          21.2.0\n",
      "arrow                         1.2.3\n",
      "astroid                       2.14.2\n",
      "astropy                       5.1\n",
      "asttokens                     2.0.5\n",
      "async-timeout                 4.0.2\n",
      "atomicwrites                  1.4.0\n",
      "attrs                         22.1.0\n",
      "Automat                       20.2.0\n",
      "autopep8                      1.6.0\n",
      "Babel                         2.11.0\n",
      "backcall                      0.2.0\n",
      "backports.functools-lru-cache 1.6.4\n",
      "backports.tempfile            1.0\n",
      "backports.weakref             1.0.post1\n",
      "bcrypt                        3.2.0\n",
      "beautifulsoup4                4.12.2\n",
      "binaryornot                   0.4.4\n",
      "black                         0.0\n",
      "bleach                        4.1.0\n",
      "bokeh                         3.2.1\n",
      "boltons                       23.0.0\n",
      "botocore                      1.29.76\n",
      "Bottleneck                    1.3.5\n",
      "brotlipy                      0.7.0\n",
      "camelcase                     0.2\n",
      "certifi                       2023.7.22\n",
      "cffi                          1.15.1\n",
      "chardet                       4.0.0\n",
      "charset-normalizer            2.0.4\n",
      "click                         8.0.4\n",
      "cloudpickle                   2.2.1\n",
      "clyent                        1.2.2\n",
      "colorama                      0.4.6\n",
      "colorcet                      3.0.1\n",
      "comm                          0.1.2\n",
      "conda                         23.7.4\n",
      "conda-build                   3.26.1\n",
      "conda-content-trust           0.2.0\n",
      "conda_index                   0.3.0\n",
      "conda-libmamba-solver         23.7.0\n",
      "conda-pack                    0.6.0\n",
      "conda-package-handling        2.2.0\n",
      "conda_package_streaming       0.9.0\n",
      "conda-repo-cli                1.0.75\n",
      "conda-token                   0.4.0\n",
      "conda-verify                  3.4.2\n",
      "constantly                    15.1.0\n",
      "contourpy                     1.0.5\n",
      "cookiecutter                  1.7.3\n",
      "cryptography                  41.0.3\n",
      "cssselect                     1.1.0\n",
      "cycler                        0.11.0\n",
      "cytoolz                       0.12.0\n",
      "daal4py                       2023.1.1\n",
      "dask                          2023.6.0\n",
      "datasets                      2.12.0\n",
      "datashader                    0.15.2\n",
      "datashape                     0.5.4\n",
      "debugpy                       1.6.7\n",
      "decorator                     5.1.1\n",
      "defusedxml                    0.7.1\n",
      "diff-match-patch              20200713\n",
      "dill                          0.3.6\n",
      "distributed                   2023.6.0\n",
      "docstring-to-markdown         0.11\n",
      "docutils                      0.18.1\n",
      "entrypoints                   0.4\n",
      "et-xmlfile                    1.1.0\n",
      "executing                     0.8.3\n",
      "fastjsonschema                2.16.2\n",
      "filelock                      3.9.0\n",
      "flake8                        6.0.0\n",
      "Flask                         2.2.2\n",
      "fonttools                     4.25.0\n",
      "frozenlist                    1.3.3\n",
      "fsspec                        2023.4.0\n",
      "future                        0.18.3\n",
      "gensim                        4.3.0\n",
      "glob2                         0.7\n",
      "greenlet                      2.0.1\n",
      "h5py                          3.9.0\n",
      "HeapDict                      1.0.1\n",
      "holoviews                     1.17.1\n",
      "huggingface-hub               0.15.1\n",
      "hvplot                        0.8.4\n",
      "hyperlink                     21.0.0\n",
      "idna                          3.4\n",
      "imagecodecs                   2023.1.23\n",
      "imageio                       2.26.0\n",
      "imagesize                     1.4.1\n",
      "imbalanced-learn              0.10.1\n",
      "importlib-metadata            6.0.0\n",
      "incremental                   21.3.0\n",
      "inflection                    0.5.1\n",
      "iniconfig                     1.1.1\n",
      "intake                        0.6.8\n",
      "intervaltree                  3.1.0\n",
      "ipykernel                     6.25.0\n",
      "ipython                       8.15.0\n",
      "ipython-genutils              0.2.0\n",
      "ipywidgets                    8.0.4\n",
      "isort                         5.9.3\n",
      "itemadapter                   0.3.0\n",
      "itemloaders                   1.0.4\n",
      "itsdangerous                  2.0.1\n",
      "jaraco.classes                3.2.1\n",
      "jedi                          0.18.1\n",
      "jellyfish                     1.0.1\n",
      "Jinja2                        3.1.2\n",
      "jinja2-time                   0.2.0\n",
      "jmespath                      0.10.0\n",
      "joblib                        1.2.0\n",
      "json5                         0.9.6\n",
      "jsonpatch                     1.32\n",
      "jsonpointer                   2.1\n",
      "jsonschema                    4.17.3\n",
      "jupyter                       1.0.0\n",
      "jupyter_client                7.4.9\n",
      "jupyter-console               6.6.3\n",
      "jupyter_core                  5.3.0\n",
      "jupyter-events                0.6.3\n",
      "jupyter-server                1.23.4\n",
      "jupyter_server_fileid         0.9.0\n",
      "jupyter_server_ydoc           0.8.0\n",
      "jupyter-ydoc                  0.2.4\n",
      "jupyterlab                    3.6.3\n",
      "jupyterlab-pygments           0.1.2\n",
      "jupyterlab_server             2.22.0\n",
      "jupyterlab-widgets            3.0.5\n",
      "kaleido                       0.2.1\n",
      "keyring                       23.13.1\n",
      "kiwisolver                    1.4.4\n",
      "lazy_loader                   0.2\n",
      "lazy-object-proxy             1.6.0\n",
      "libarchive-c                  2.9\n",
      "libmambapy                    1.5.1\n",
      "linkify-it-py                 2.0.0\n",
      "llvmlite                      0.40.0\n",
      "lmdb                          1.4.1\n",
      "locket                        1.0.0\n",
      "lxml                          4.9.3\n",
      "lz4                           4.3.2\n",
      "Markdown                      3.4.1\n",
      "markdown-it-py                2.2.0\n",
      "MarkupSafe                    2.1.1\n",
      "matplotlib                    3.7.2\n",
      "matplotlib-inline             0.1.6\n",
      "mccabe                        0.7.0\n",
      "mdit-py-plugins               0.3.0\n",
      "mdurl                         0.1.0\n",
      "menuinst                      1.4.19\n",
      "mistune                       0.8.4\n",
      "mkl-fft                       1.3.8\n",
      "mkl-random                    1.2.4\n",
      "mkl-service                   2.4.0\n",
      "more-itertools                8.12.0\n",
      "mpmath                        1.3.0\n",
      "msgpack                       1.0.3\n",
      "multidict                     6.0.2\n",
      "multipledispatch              0.6.0\n",
      "multiprocess                  0.70.14\n",
      "munkres                       1.1.4\n",
      "mypy-extensions               1.0.0\n",
      "navigator-updater             0.4.0\n",
      "nbclassic                     0.5.5\n",
      "nbclient                      0.5.13\n",
      "nbconvert                     6.5.4\n",
      "nbformat                      5.9.2\n",
      "nest-asyncio                  1.5.6\n",
      "networkx                      3.1\n",
      "nltk                          3.8.1\n",
      "notebook                      6.5.4\n",
      "notebook_shim                 0.2.2\n",
      "numba                         0.57.1\n",
      "numexpr                       2.8.4\n",
      "numpy                         1.24.3\n",
      "numpydoc                      1.5.0\n",
      "openpyxl                      3.0.10\n",
      "packaging                     23.1\n",
      "pandas                        2.0.3\n",
      "pandocfilters                 1.5.0\n",
      "panel                         1.2.3\n",
      "param                         1.13.0\n",
      "paramiko                      2.8.1\n",
      "parsel                        1.6.0\n",
      "parso                         0.8.3\n",
      "partd                         1.4.0\n",
      "pathlib                       1.0.1\n",
      "pathspec                      0.10.3\n",
      "patsy                         0.5.3\n",
      "pep8                          1.7.1\n",
      "pexpect                       4.8.0\n",
      "pickleshare                   0.7.5\n",
      "Pillow                        9.4.0\n",
      "pip                           23.2.1\n",
      "pkce                          1.0.3\n",
      "pkginfo                       1.9.6\n",
      "platformdirs                  3.10.0\n",
      "plotly                        5.9.0\n",
      "pluggy                        1.0.0\n",
      "ply                           3.11\n",
      "poyo                          0.5.0\n",
      "prometheus-client             0.14.1\n",
      "prompt-toolkit                3.0.36\n",
      "Protego                       0.1.16\n",
      "psutil                        5.9.0\n",
      "ptyprocess                    0.7.0\n",
      "pure-eval                     0.2.2\n",
      "py-cpuinfo                    8.0.0\n",
      "pyarrow                       11.0.0\n",
      "pyasn1                        0.4.8\n",
      "pyasn1-modules                0.2.8\n",
      "pycodestyle                   2.10.0\n",
      "pycosat                       0.6.4\n",
      "pycparser                     2.21\n",
      "pyct                          0.5.0\n",
      "pycurl                        7.45.2\n",
      "pydantic                      1.10.8\n",
      "PyDispatcher                  2.0.5\n",
      "pydocstyle                    6.3.0\n",
      "pyerfa                        2.0.0\n",
      "pyflakes                      3.0.1\n",
      "Pygments                      2.15.1\n",
      "PyJWT                         2.4.0\n",
      "pylint                        2.16.2\n",
      "pylint-venv                   2.3.0\n",
      "pyls-spyder                   0.4.0\n",
      "PyNaCl                        1.5.0\n",
      "pyodbc                        4.0.34\n",
      "pyOpenSSL                     23.2.0\n",
      "pyparsing                     3.0.9\n",
      "PyQt5                         5.15.7\n",
      "PyQt5-sip                     12.11.0\n",
      "PyQtWebEngine                 5.15.4\n",
      "pyrsistent                    0.18.0\n",
      "PySocks                       1.7.1\n",
      "pytest                        7.4.0\n",
      "python-dateutil               2.8.2\n",
      "python-dotenv                 0.21.0\n",
      "python-json-logger            2.0.7\n",
      "python-lsp-black              1.2.1\n",
      "python-lsp-jsonrpc            1.0.0\n",
      "python-lsp-server             1.7.2\n",
      "python-slugify                5.0.2\n",
      "python-snappy                 0.6.1\n",
      "pytoolconfig                  1.2.5\n",
      "pytz                          2023.3.post1\n",
      "pyviz-comms                   2.3.0\n",
      "PyWavelets                    1.4.1\n",
      "pywin32                       305.1\n",
      "pywin32-ctypes                0.2.0\n",
      "pywinpty                      2.0.10\n",
      "PyYAML                        6.0\n",
      "pyzmq                         23.2.0\n",
      "QDarkStyle                    3.0.2\n",
      "qstylizer                     0.2.2\n",
      "QtAwesome                     1.2.2\n",
      "qtconsole                     5.4.2\n",
      "QtPy                          2.2.0\n",
      "queuelib                      1.5.0\n",
      "regex                         2022.7.9\n",
      "requests                      2.31.0\n",
      "requests-file                 1.5.1\n",
      "requests-toolbelt             1.0.0\n",
      "responses                     0.13.3\n",
      "rfc3339-validator             0.1.4\n",
      "rfc3986-validator             0.1.1\n",
      "rope                          1.7.0\n",
      "Rtree                         1.0.1\n",
      "ruamel.yaml                   0.17.21\n",
      "ruamel-yaml-conda             0.17.21\n",
      "s3fs                          2023.4.0\n",
      "safetensors                   0.3.2\n",
      "scikit-image                  0.20.0\n",
      "scikit-learn                  1.3.0\n",
      "scikit-learn-intelex          20230426.121932\n",
      "scipy                         1.11.1\n",
      "Scrapy                        2.8.0\n",
      "seaborn                       0.12.2\n",
      "Send2Trash                    1.8.0\n",
      "service-identity              18.1.0\n",
      "setuptools                    68.0.0\n",
      "sip                           6.6.2\n",
      "six                           1.16.0\n",
      "smart-open                    5.2.1\n",
      "sniffio                       1.2.0\n",
      "snowballstemmer               2.2.0\n",
      "sortedcontainers              2.4.0\n",
      "soupsieve                     2.4\n",
      "Sphinx                        5.0.2\n",
      "sphinxcontrib-applehelp       1.0.2\n",
      "sphinxcontrib-devhelp         1.0.2\n",
      "sphinxcontrib-htmlhelp        2.0.0\n",
      "sphinxcontrib-jsmath          1.0.1\n",
      "sphinxcontrib-qthelp          1.0.3\n",
      "sphinxcontrib-serializinghtml 1.1.5\n",
      "spyder                        5.4.3\n",
      "spyder-kernels                2.4.4\n",
      "SQLAlchemy                    1.4.39\n",
      "stack-data                    0.2.0\n",
      "statsmodels                   0.14.0\n",
      "sympy                         1.11.1\n",
      "tables                        3.8.0\n",
      "tabulate                      0.8.10\n",
      "TBB                           0.2\n",
      "tblib                         1.7.0\n",
      "tenacity                      8.2.2\n",
      "terminado                     0.17.1\n",
      "text-unidecode                1.3\n",
      "textdistance                  4.2.1\n",
      "threadpoolctl                 2.2.0\n",
      "three-merge                   0.1.1\n",
      "tifffile                      2023.4.12\n",
      "tinycss2                      1.2.1\n",
      "tldextract                    3.2.0\n",
      "tokenizers                    0.13.2\n",
      "toml                          0.10.2\n",
      "tomlkit                       0.11.1\n",
      "toolz                         0.12.0\n",
      "tornado                       6.3.2\n",
      "tqdm                          4.65.0\n",
      "traitlets                     5.7.1\n",
      "transformers                  4.32.1\n",
      "Twisted                       22.10.0\n",
      "twisted-iocpsupport           1.0.2\n",
      "typing_extensions             4.7.1\n",
      "tzdata                        2023.3\n",
      "uc-micro-py                   1.0.1\n",
      "ujson                         5.4.0\n",
      "Unidecode                     1.2.0\n",
      "urllib3                       1.26.16\n",
      "w3lib                         1.21.0\n",
      "watchdog                      2.1.6\n",
      "wcwidth                       0.2.5\n",
      "webencodings                  0.5.1\n",
      "websocket-client              0.58.0\n",
      "Werkzeug                      2.2.3\n",
      "whatthepatch                  1.0.2\n",
      "wheel                         0.38.4\n",
      "widgetsnbextension            4.0.5\n",
      "win-inet-pton                 1.1.0\n",
      "wrapt                         1.14.1\n",
      "xarray                        2023.6.0\n",
      "xlwings                       0.29.1\n",
      "xxhash                        2.0.2\n",
      "xyzservices                   2022.9.0\n",
      "y-py                          0.5.9\n",
      "yapf                          0.31.0\n",
      "yarl                          1.8.1\n",
      "ypy-websocket                 0.8.2\n",
      "zict                          2.2.0\n",
      "zipp                          3.11.0\n",
      "zope.interface                5.4.0\n",
      "zstandard                     0.19.0\n",
      "Note: you may need to restart the kernel to use updated packages.\n"
     ]
    }
   ],
   "source": [
    "pip list # to check the  packages that are available"
   ]
  },
  {
   "cell_type": "code",
   "execution_count": 7,
   "id": "73212aca",
   "metadata": {},
   "outputs": [
    {
     "name": "stdout",
     "output_type": "stream",
     "text": [
      "[ 2  8 10  5  9]\n"
     ]
    }
   ],
   "source": [
    "import numpy\n",
    "arr=numpy.array([2,8,10,5,9])\n",
    "print(arr)\n",
    "\n",
    "# to print array"
   ]
  },
  {
   "cell_type": "code",
   "execution_count": 8,
   "id": "98a6bd98",
   "metadata": {},
   "outputs": [],
   "source": [
    "import numpy as np # numpy is renamed as np"
   ]
  },
  {
   "cell_type": "code",
   "execution_count": 9,
   "id": "7762a250",
   "metadata": {},
   "outputs": [
    {
     "name": "stdout",
     "output_type": "stream",
     "text": [
      "1.24.3\n"
     ]
    }
   ],
   "source": [
    "print(np.__version__) # checking numpy version"
   ]
  },
  {
   "cell_type": "code",
   "execution_count": 10,
   "id": "f343efbb",
   "metadata": {},
   "outputs": [
    {
     "name": "stdout",
     "output_type": "stream",
     "text": [
      "<class 'numpy.ndarray'>\n"
     ]
    }
   ],
   "source": [
    "# to get the datatype of the variable\n",
    "print(type(arr))\n"
   ]
  },
  {
   "cell_type": "code",
   "execution_count": 11,
   "id": "685213e1",
   "metadata": {},
   "outputs": [
    {
     "name": "stdout",
     "output_type": "stream",
     "text": [
      "25\n"
     ]
    }
   ],
   "source": [
    "arr=np.array(25)\n",
    "print(arr)"
   ]
  },
  {
   "cell_type": "code",
   "execution_count": 12,
   "id": "c8df8125",
   "metadata": {},
   "outputs": [
    {
     "name": "stdout",
     "output_type": "stream",
     "text": [
      "[[1 2 3]\n",
      " [4 5 6]\n",
      " [7 8 9]]\n"
     ]
    }
   ],
   "source": [
    "arr=np.array([[1,2,3],[4,5,6],[7,8,9]])\n",
    "print(arr)"
   ]
  },
  {
   "cell_type": "code",
   "execution_count": 13,
   "id": "b97f4fae",
   "metadata": {},
   "outputs": [
    {
     "name": "stdout",
     "output_type": "stream",
     "text": [
      "[[[ 1  2  3]\n",
      "  [ 4  5  6]\n",
      "  [ 7  8  9]]\n",
      "\n",
      " [[10 11 12]\n",
      "  [13 14 15]\n",
      "  [16 17 18]]]\n"
     ]
    }
   ],
   "source": [
    "arr=np.array([[[1,2,3],[4,5,6],[7,8,9]],[[10,11,12],[13,14,15],[16,17,18]]])\n",
    "print(arr)"
   ]
  },
  {
   "cell_type": "code",
   "execution_count": 14,
   "id": "01d8c377",
   "metadata": {},
   "outputs": [
    {
     "name": "stdout",
     "output_type": "stream",
     "text": [
      "0\n",
      "1\n",
      "2\n",
      "3\n"
     ]
    }
   ],
   "source": [
    "#Checking no of dimension-ndim attribute\n",
    "\n",
    "import numpy as np\n",
    "arr=np.array(5)\n",
    "arr1=np.array([2,8,10,5,9])\n",
    "arr2=np.array([[1,2,3],[4,5,6],[7,8,9]])\n",
    "arr3=np.array([[[1,2,3],[4,5,6],[7,8,9]],[[10,11,12],[13,14,15],[16,17,18]]])\n",
    "print(arr.ndim)\n",
    "print(arr1.ndim)\n",
    "print(arr2.ndim)\n",
    "print(arr3.ndim)"
   ]
  },
  {
   "cell_type": "code",
   "execution_count": 15,
   "id": "f440f54b",
   "metadata": {},
   "outputs": [
    {
     "name": "stdout",
     "output_type": "stream",
     "text": [
      "[[[[[6 7 8]]]]]\n"
     ]
    }
   ],
   "source": [
    "arr=np.array([6,7,8],ndmin=5)\n",
    "print(arr)"
   ]
  },
  {
   "cell_type": "code",
   "execution_count": 16,
   "id": "0ec35424",
   "metadata": {},
   "outputs": [
    {
     "name": "stdout",
     "output_type": "stream",
     "text": [
      "[ 2  8 10  5  9]\n",
      "2\n",
      "8\n",
      "10\n",
      "5\n",
      "9\n"
     ]
    }
   ],
   "source": [
    "# accessing the array element using its index number\n",
    "\n",
    "arr=np.array([2,8,10,5,9])\n",
    "print(arr)\n",
    "print(arr[0])\n",
    "print(arr[1])\n",
    "print(arr[2])\n",
    "print(arr[3])\n",
    "print(arr[4])"
   ]
  },
  {
   "cell_type": "code",
   "execution_count": 17,
   "id": "cae820bc",
   "metadata": {
    "scrolled": true
   },
   "outputs": [
    {
     "name": "stdout",
     "output_type": "stream",
     "text": [
      "1\n",
      "2\n",
      "3\n",
      "4\n",
      "5\n",
      "6\n",
      "7\n"
     ]
    }
   ],
   "source": [
    "arr=np.array([1,2,3,4,5,6,7])\n",
    "for i in range(len(arr)):\n",
    "    print(arr[i])"
   ]
  },
  {
   "cell_type": "code",
   "execution_count": 18,
   "id": "381204b4",
   "metadata": {},
   "outputs": [
    {
     "name": "stdout",
     "output_type": "stream",
     "text": [
      "15\n",
      "3.0\n"
     ]
    }
   ],
   "source": [
    "arr=np.array([1,2,3,4,5]) # to print sum & average of the array\n",
    "sum = 0\n",
    "for i in range(len(arr)):\n",
    "    sum = sum+arr[i]\n",
    "    avg = sum/len(arr)\n",
    "print(sum)\n",
    "print(avg)\n",
    "\n"
   ]
  },
  {
   "cell_type": "code",
   "execution_count": 19,
   "id": "991b803d",
   "metadata": {},
   "outputs": [
    {
     "name": "stdout",
     "output_type": "stream",
     "text": [
      "[5 4 3 2 1]\n"
     ]
    }
   ],
   "source": [
    "# to print the reverse of the array in slicing method\n",
    "arr=np.array([1,2,3,4,5])\n",
    "print(arr[::-1])\n",
    "\n"
   ]
  },
  {
   "cell_type": "code",
   "execution_count": 20,
   "id": "f7d3a3cb",
   "metadata": {},
   "outputs": [
    {
     "name": "stdout",
     "output_type": "stream",
     "text": [
      "5\n",
      "4\n",
      "3\n",
      "2\n",
      "1\n"
     ]
    }
   ],
   "source": [
    "# to print the reverse of the array\n",
    "arr=np.array([1,2,3,4,5])\n",
    "for i in range(len(arr)-1,-1,-1):\n",
    "    print(arr[i])"
   ]
  },
  {
   "cell_type": "code",
   "execution_count": 21,
   "id": "932a8c3a",
   "metadata": {},
   "outputs": [],
   "source": [
    "# to find max value and 2nd max value\n",
    "arr=np.array([1,2,3,4,5])\n"
   ]
  },
  {
   "cell_type": "code",
   "execution_count": 22,
   "id": "7add43d2",
   "metadata": {},
   "outputs": [
    {
     "name": "stdout",
     "output_type": "stream",
     "text": [
      "First 1D array: [1 2 3]\n",
      "Second 1D array: [4 5 6]\n",
      "Third 1D array: [7 8 9]\n"
     ]
    }
   ],
   "source": [
    "#Accessing 2D Arrays\n",
    "#To access 2D arrays we need nested loop one is for row and another is for column\n",
    "\n",
    "a=np.array([[1,2,3],[4,5,6],[7,8,9]])\n",
    "print(\"First 1D array:\",a[0])\n",
    "print(\"Second 1D array:\",a[1])\n",
    "print(\"Third 1D array:\",a[2])"
   ]
  },
  {
   "cell_type": "code",
   "execution_count": 23,
   "id": "2333005e",
   "metadata": {},
   "outputs": [
    {
     "name": "stdout",
     "output_type": "stream",
     "text": [
      "Accessing row 0 elements:\n",
      "1\n",
      "2\n",
      "3\n",
      "Accessing row 1 elements:\n",
      "4\n",
      "5\n",
      "6\n",
      "Accessing row 2 elements:\n",
      "7\n",
      "8\n",
      "9\n"
     ]
    }
   ],
   "source": [
    "print(\"Accessing row 0 elements:\")\n",
    "print(a[0,0])\n",
    "print(a[0,1])\n",
    "print(a[0,2])\n",
    "print(\"Accessing row 1 elements:\")\n",
    "print(a[1,0])\n",
    "print(a[1,1])\n",
    "print(a[1,2])\n",
    "print(\"Accessing row 2 elements:\")\n",
    "print(a[2,0])\n",
    "print(a[2,1])\n",
    "print(a[2,2])"
   ]
  },
  {
   "cell_type": "code",
   "execution_count": 24,
   "id": "8ca9369c",
   "metadata": {},
   "outputs": [
    {
     "name": "stdout",
     "output_type": "stream",
     "text": [
      "Accessing column 0 elements:\n",
      "1\n",
      "4\n",
      "7\n",
      "Accessing column 1 elements:\n",
      "2\n",
      "5\n",
      "8\n",
      "Accessing column 2 elements:\n",
      "3\n",
      "6\n",
      "9\n"
     ]
    }
   ],
   "source": [
    "print(\"Accessing column 0 elements:\")\n",
    "print(a[0,0])\n",
    "print(a[1,0])\n",
    "print(a[2,0])\n",
    "print(\"Accessing column 1 elements:\")\n",
    "print(a[0,1])\n",
    "print(a[1,1])\n",
    "print(a[2,1])\n",
    "print(\"Accessing column 2 elements:\")\n",
    "print(a[0,2])\n",
    "print(a[1,2])\n",
    "print(a[2,2])"
   ]
  },
  {
   "cell_type": "code",
   "execution_count": 25,
   "id": "a3028b44",
   "metadata": {},
   "outputs": [
    {
     "name": "stdout",
     "output_type": "stream",
     "text": [
      "The given matrix is:\n",
      "1 2 3 \n",
      "4 5 6 \n",
      "7 8 9 \n"
     ]
    }
   ],
   "source": [
    "print(\"The given matrix is:\")\n",
    "for i in range(len(a)):\n",
    "    for j in range(len(a[i])):\n",
    "        print(a[i,j],end=' ')\n",
    "    print()"
   ]
  },
  {
   "cell_type": "code",
   "execution_count": 26,
   "id": "59c79c60",
   "metadata": {},
   "outputs": [
    {
     "name": "stdout",
     "output_type": "stream",
     "text": [
      "[1 2 3]\n",
      "[4 5 6]\n",
      "[7 8 9]\n"
     ]
    }
   ],
   "source": [
    "for i in a:\n",
    "    print(i)"
   ]
  },
  {
   "cell_type": "code",
   "execution_count": 27,
   "id": "8350cb01",
   "metadata": {},
   "outputs": [
    {
     "name": "stdout",
     "output_type": "stream",
     "text": [
      "1 2 3 \n",
      "4 5 6 \n",
      "7 8 9 \n",
      "10 11 12 \n",
      "13 14 15 \n",
      "16 17 18 \n"
     ]
    }
   ],
   "source": [
    "a=np.array([[[1,2,3],[4,5,6],[7,8,9]],[[10,11,12],[13,14,15],[16,17,18]]])\n",
    "for i in a:\n",
    "    for j in i:\n",
    "        for k in j:\n",
    "            print(k,end=' ')\n",
    "        print()"
   ]
  },
  {
   "cell_type": "markdown",
   "id": "60420076",
   "metadata": {},
   "source": [
    "# Array slicing :\n",
    "\n",
    "Slicing in python means taking elements from one given index to another given index.\n",
    "\n",
    "We pass slice instead of index like this: [start:end].\n",
    "\n",
    "We can also define the step, like this: [start:end:step].\n",
    "\n",
    "If we don't pass start its considered 0"
   ]
  },
  {
   "cell_type": "code",
   "execution_count": 28,
   "id": "1a1fd312",
   "metadata": {},
   "outputs": [
    {
     "name": "stdout",
     "output_type": "stream",
     "text": [
      "[ 4  5  6  7  8  9 10]\n",
      "[1 2 3 4 5]\n",
      "[1 2 3]\n"
     ]
    }
   ],
   "source": [
    "a=np.array([1,2,3,4,5,6,7,8,9,10])\n",
    "print(a[3:]) # start\n",
    "print(a[0:5]) # start : stop\n",
    "print(a[:3]) # stop"
   ]
  },
  {
   "cell_type": "code",
   "execution_count": 29,
   "id": "e7bc673a",
   "metadata": {},
   "outputs": [
    {
     "name": "stdout",
     "output_type": "stream",
     "text": [
      "[1 2 3 4 5]\n"
     ]
    }
   ],
   "source": [
    "print(a[-10:-5]) # reverse\n"
   ]
  },
  {
   "cell_type": "code",
   "execution_count": 30,
   "id": "2e1519b9",
   "metadata": {},
   "outputs": [
    {
     "name": "stdout",
     "output_type": "stream",
     "text": [
      "[1 3 5 7 9]\n"
     ]
    }
   ],
   "source": [
    "print(a[0::2]) # removing even values or middle values"
   ]
  },
  {
   "cell_type": "code",
   "execution_count": 31,
   "id": "aeba95e5",
   "metadata": {},
   "outputs": [
    {
     "name": "stdout",
     "output_type": "stream",
     "text": [
      "[[ 1  2  3  4  5]\n",
      " [ 6  7  8  9 10]]\n",
      "[7 8 9]\n"
     ]
    }
   ],
   "source": [
    "#Slicing 2D Arrays\n",
    "\n",
    "a=np.array([[1,2,3,4,5],[6,7,8,9,10]])\n",
    "print(a)\n",
    "print(a[1,1:4])"
   ]
  },
  {
   "cell_type": "markdown",
   "id": "5473d797",
   "metadata": {},
   "source": [
    "# Data Types in NumPy\n",
    "\n",
    "NumPy has some extra data types, and refer to data types with one character, like i for integers, u for unsigned integers etc.\n",
    "\n",
    "Below is a list of all data types in NumPy and the characters used to represent them.\n",
    "\n",
    "i - integer b - boolean u - unsigned integer f - float c - complex float m - timedelta M - datetime O - object S - string U - unicode string V - fixed chunk of memory for other type ( void )"
   ]
  },
  {
   "cell_type": "code",
   "execution_count": 32,
   "id": "8ed66ca8",
   "metadata": {},
   "outputs": [
    {
     "name": "stdout",
     "output_type": "stream",
     "text": [
      "int32\n",
      "float64\n",
      "<U5\n"
     ]
    }
   ],
   "source": [
    "#Checking datatype of an array-dtype property\n",
    "\n",
    "a=np.array([1,2,3])\n",
    "b=np.array([2.2,4.5,8.9])\n",
    "c=np.array(['Tom','Jerry','c']) # unicode string\n",
    "print(a.dtype)\n",
    "print(b.dtype)\n",
    "print(c.dtype)"
   ]
  },
  {
   "cell_type": "code",
   "execution_count": 33,
   "id": "9d3cbe3a",
   "metadata": {},
   "outputs": [
    {
     "name": "stdout",
     "output_type": "stream",
     "text": [
      "[b'1' b'2' b'3']\n",
      "|S1\n"
     ]
    }
   ],
   "source": [
    "#Creating arrays with defined datatype\n",
    "\n",
    "a=np.array([1,2,3],dtype='S')\n",
    "print(a)\n",
    "print(a.dtype)"
   ]
  },
  {
   "cell_type": "code",
   "execution_count": 34,
   "id": "fce92fae",
   "metadata": {},
   "outputs": [
    {
     "name": "stdout",
     "output_type": "stream",
     "text": [
      "[1.1 2.2 3.3]\n",
      "float64\n",
      "[1 2 3]\n",
      "int32\n"
     ]
    }
   ],
   "source": [
    "#Converting datatypes-astype() method\n",
    "\n",
    "a=np.array([1.1,2.2,3.3])\n",
    "b=a.astype('i')\n",
    "print(a)\n",
    "print(a.dtype)\n",
    "print(b)\n",
    "print(b.dtype)"
   ]
  },
  {
   "cell_type": "code",
   "execution_count": 35,
   "id": "62ddf63e",
   "metadata": {},
   "outputs": [
    {
     "name": "stdout",
     "output_type": "stream",
     "text": [
      "[ 1 -2  0]\n",
      "int32\n",
      "[ True  True False]\n",
      "bool\n"
     ]
    }
   ],
   "source": [
    "a=np.array([1,-2,0])\n",
    "b=a.astype(bool)\n",
    "print(a)\n",
    "print(a.dtype)\n",
    "print(b)\n",
    "print(b.dtype)"
   ]
  },
  {
   "cell_type": "markdown",
   "id": "f75794c8",
   "metadata": {},
   "source": [
    "# Array copy and view\n",
    "\n",
    "Copy: * Creates a new array * Any changes made to copy will not reflect on original and vice versa View: * Just a view of the original array * Changes made in view will reflect on original"
   ]
  },
  {
   "cell_type": "code",
   "execution_count": 36,
   "id": "5a01f0ed",
   "metadata": {},
   "outputs": [
    {
     "name": "stdout",
     "output_type": "stream",
     "text": [
      "Array a: [ 1 -2  0]\n",
      "Array b: [ 1 -2  0]\n"
     ]
    }
   ],
   "source": [
    "a=np.array([1,-2,0])\n",
    "b=a.copy()\n",
    "print(\"Array a:\",a)\n",
    "print(\"Array b:\",b)\n",
    "a[0]=6"
   ]
  },
  {
   "cell_type": "code",
   "execution_count": 37,
   "id": "4b7f4597",
   "metadata": {},
   "outputs": [
    {
     "name": "stdout",
     "output_type": "stream",
     "text": [
      "Array a: [ 6 -2  0]\n",
      "Array b: [ 1 -2  0]\n"
     ]
    }
   ],
   "source": [
    "print(\"Array a:\",a)\n",
    "print(\"Array b:\",b)"
   ]
  },
  {
   "cell_type": "code",
   "execution_count": 38,
   "id": "5fd78227",
   "metadata": {},
   "outputs": [
    {
     "name": "stdout",
     "output_type": "stream",
     "text": [
      "Array a: [ 6 -2  0]\n",
      "Array b: [ 9 -2  0]\n"
     ]
    }
   ],
   "source": [
    "b[0]=9\n",
    "print(\"Array a:\",a)\n",
    "print(\"Array b:\",b)"
   ]
  },
  {
   "cell_type": "code",
   "execution_count": 39,
   "id": "f0b33251",
   "metadata": {},
   "outputs": [
    {
     "name": "stdout",
     "output_type": "stream",
     "text": [
      "Array a: [ 1 -2  0]\n",
      "Array b: [ 1 -2  0]\n"
     ]
    }
   ],
   "source": [
    "a=np.array([1,-2,0])\n",
    "b=a.view()\n",
    "print(\"Array a:\",a)\n",
    "print(\"Array b:\",b)"
   ]
  },
  {
   "cell_type": "code",
   "execution_count": 40,
   "id": "a22cea38",
   "metadata": {},
   "outputs": [
    {
     "name": "stdout",
     "output_type": "stream",
     "text": [
      "Array a: [ 6 -2  0]\n",
      "Array b: [ 6 -2  0]\n"
     ]
    }
   ],
   "source": [
    "a[0]=6\n",
    "print(\"Array a:\",a)\n",
    "print(\"Array b:\",b)"
   ]
  },
  {
   "cell_type": "code",
   "execution_count": 41,
   "id": "fb2dc73d",
   "metadata": {},
   "outputs": [
    {
     "name": "stdout",
     "output_type": "stream",
     "text": [
      "Array a: [ 9 -2  0]\n",
      "Array b: [ 9 -2  0]\n"
     ]
    }
   ],
   "source": [
    "b[0]=9\n",
    "print(\"Array a:\",a)\n",
    "print(\"Array b:\",b)"
   ]
  },
  {
   "cell_type": "code",
   "execution_count": 42,
   "id": "ce18cb13",
   "metadata": {},
   "outputs": [
    {
     "name": "stdout",
     "output_type": "stream",
     "text": [
      "None\n",
      "[ 1 -2  0]\n",
      "None\n"
     ]
    }
   ],
   "source": [
    "#Check if array owns its data-base attribute\n",
    "\n",
    "a=np.array([1,-2,0])\n",
    "b=a.copy()\n",
    "c=a.view()\n",
    "print(b.base)\n",
    "print(c.base)\n",
    "print(a.base)"
   ]
  },
  {
   "cell_type": "code",
   "execution_count": 43,
   "id": "92d40946",
   "metadata": {},
   "outputs": [
    {
     "name": "stdout",
     "output_type": "stream",
     "text": [
      "(3,)\n"
     ]
    }
   ],
   "source": [
    "#Array shape\n",
    "\n",
    "a=np.array([1,-2,0])\n",
    "print(a.shape)"
   ]
  },
  {
   "cell_type": "code",
   "execution_count": 44,
   "id": "bcc7e633",
   "metadata": {},
   "outputs": [
    {
     "name": "stdout",
     "output_type": "stream",
     "text": [
      "(2, 3)\n"
     ]
    }
   ],
   "source": [
    "a=np.array([[1,-2,0],[4,5,6]])\n",
    "print(a.shape)"
   ]
  },
  {
   "cell_type": "code",
   "execution_count": 45,
   "id": "e6b94759",
   "metadata": {},
   "outputs": [
    {
     "name": "stdout",
     "output_type": "stream",
     "text": [
      "[1 2 3 4 5 6 7 8 9]\n",
      "[[1 2 3]\n",
      " [4 5 6]\n",
      " [7 8 9]]\n"
     ]
    }
   ],
   "source": [
    "a=np.array([1,2,3,4,5,6,7,8,9])\n",
    "b=a.reshape(3,3)\n",
    "print(a)\n",
    "print(b)"
   ]
  },
  {
   "cell_type": "code",
   "execution_count": 46,
   "id": "38eacdc8",
   "metadata": {},
   "outputs": [
    {
     "name": "stdout",
     "output_type": "stream",
     "text": [
      "[[[1 2]\n",
      "  [3 4]]\n",
      "\n",
      " [[5 6]\n",
      "  [7 8]]]\n"
     ]
    }
   ],
   "source": [
    "a=np.array([1,2,3,4,5,6,7,8])\n",
    "b=a.reshape(2,2,2)\n",
    "print(b)"
   ]
  },
  {
   "cell_type": "code",
   "execution_count": 47,
   "id": "0ccbdfa0",
   "metadata": {},
   "outputs": [
    {
     "name": "stdout",
     "output_type": "stream",
     "text": [
      "[1 2 3 4 5 6 7 8 9]\n",
      "[[[1]\n",
      "  [2]\n",
      "  [3]]\n",
      "\n",
      " [[4]\n",
      "  [5]\n",
      "  [6]]\n",
      "\n",
      " [[7]\n",
      "  [8]\n",
      "  [9]]]\n"
     ]
    }
   ],
   "source": [
    "#Unknown dimension\n",
    "\n",
    "a=np.array([1,2,3,4,5,6,7,8,9])\n",
    "b=a.reshape(3,3,-1)\n",
    "print(a)\n",
    "print(b)"
   ]
  },
  {
   "cell_type": "code",
   "execution_count": 48,
   "id": "527937f7",
   "metadata": {},
   "outputs": [
    {
     "name": "stdout",
     "output_type": "stream",
     "text": [
      "1\n",
      "2\n",
      "3\n",
      "4\n",
      "5\n",
      "6\n",
      "7\n",
      "8\n",
      "9\n"
     ]
    }
   ],
   "source": [
    "#Iteration using nditer()....instead of using various loops\n",
    "\n",
    "a=np.array([[1,2,3],[4,5,6],[7,8,9]])\n",
    "for x in np.nditer(a):\n",
    "    print(x)"
   ]
  },
  {
   "cell_type": "code",
   "execution_count": 49,
   "id": "ac367f4e",
   "metadata": {},
   "outputs": [
    {
     "name": "stdout",
     "output_type": "stream",
     "text": [
      "b'1'\n",
      "b'2'\n",
      "b'3'\n",
      "b'4'\n",
      "b'5'\n"
     ]
    }
   ],
   "source": [
    "a=np.array([1,2,3,4,5])\n",
    "for x in np.nditer(a,flags=['buffered'],op_dtypes=['S']):\n",
    "    print(x)"
   ]
  },
  {
   "cell_type": "code",
   "execution_count": 50,
   "id": "8656e358",
   "metadata": {},
   "outputs": [
    {
     "name": "stdout",
     "output_type": "stream",
     "text": [
      "1\n",
      "3\n",
      "5\n",
      "7\n"
     ]
    }
   ],
   "source": [
    "a=np.array([[1,2,3,4],[5,6,7,8]])\n",
    "for x in np.nditer(a[:,::2]):\n",
    "    print(x)"
   ]
  },
  {
   "cell_type": "code",
   "execution_count": 51,
   "id": "145ec479",
   "metadata": {},
   "outputs": [
    {
     "name": "stdout",
     "output_type": "stream",
     "text": [
      "(0,) 1\n",
      "(1,) 2\n",
      "(2,) 3\n",
      "(3,) 4\n",
      "(0, 0) 1\n",
      "(0, 1) 2\n",
      "(0, 2) 3\n",
      "(0, 3) 4\n",
      "(1, 0) 5\n",
      "(1, 1) 6\n",
      "(1, 2) 7\n",
      "(1, 3) 8\n"
     ]
    }
   ],
   "source": [
    "#Enumerated iteration using ndenumerate()\n",
    "\n",
    "a=np.array([1,2,3,4])\n",
    "b=np.array([[1,2,3,4],[5,6,7,8]])\n",
    "for i,x in np.ndenumerate(a):\n",
    "    print(i,x)\n",
    "for i,x in np.ndenumerate(b):\n",
    "    print(i,x)"
   ]
  },
  {
   "cell_type": "code",
   "execution_count": 52,
   "id": "bd499399",
   "metadata": {},
   "outputs": [
    {
     "name": "stdout",
     "output_type": "stream",
     "text": [
      "[1 2 3 4 5 6 7 8]\n"
     ]
    }
   ],
   "source": [
    "a=np.array([1,2,3,4])\n",
    "b=np.array([5,6,7,8])\n",
    "c=np.concatenate((a,b))\n",
    "print(c)"
   ]
  },
  {
   "cell_type": "code",
   "execution_count": 53,
   "id": "6052ac7e",
   "metadata": {},
   "outputs": [
    {
     "name": "stdout",
     "output_type": "stream",
     "text": [
      "First array\n",
      " [[1 2]\n",
      " [3 4]]\n",
      "Second array\n",
      " [[5 6]\n",
      " [7 8]]\n",
      "Result array\n",
      " [[1 2]\n",
      " [3 4]\n",
      " [5 6]\n",
      " [7 8]]\n"
     ]
    }
   ],
   "source": [
    "a=np.array([[1,2],[3,4]])\n",
    "b=np.array([[5,6],[7,8]])\n",
    "c=np.concatenate((a,b))\n",
    "print(\"First array\\n\",a)\n",
    "print(\"Second array\\n\",b)\n",
    "print(\"Result array\\n\",c)"
   ]
  },
  {
   "cell_type": "code",
   "execution_count": 54,
   "id": "07fbd28b",
   "metadata": {},
   "outputs": [],
   "source": [
    "c=np.concatenate((a,b),axis=1)"
   ]
  },
  {
   "cell_type": "code",
   "execution_count": 55,
   "id": "5fbef51e",
   "metadata": {},
   "outputs": [
    {
     "name": "stdout",
     "output_type": "stream",
     "text": [
      "[[1 5]\n",
      " [2 6]\n",
      " [3 7]\n",
      " [4 8]]\n"
     ]
    }
   ],
   "source": [
    "#Joining arrays using stack function\n",
    "\n",
    "a=np.array([1,2,3,4])\n",
    "b=np.array([5,6,7,8])\n",
    "c=np.stack((a,b),axis=1)\n",
    "print(c)"
   ]
  },
  {
   "cell_type": "code",
   "execution_count": 56,
   "id": "c2b979c6",
   "metadata": {},
   "outputs": [
    {
     "name": "stdout",
     "output_type": "stream",
     "text": [
      "[1 2 3 4 5 6 7 8]\n"
     ]
    }
   ],
   "source": [
    "#stacking along rows\n",
    "\n",
    "a=np.array([1,2,3,4])\n",
    "b=np.array([5,6,7,8])\n",
    "c=np.hstack((a,b))\n",
    "print(c)\n",
    "c=np.vstack((a,b))"
   ]
  },
  {
   "cell_type": "code",
   "execution_count": 57,
   "id": "a8493531",
   "metadata": {},
   "outputs": [
    {
     "name": "stdout",
     "output_type": "stream",
     "text": [
      "[[[1 5]\n",
      "  [2 6]\n",
      "  [3 7]\n",
      "  [4 8]]]\n"
     ]
    }
   ],
   "source": [
    "#Stacking along depth\n",
    "\n",
    "a=np.array([1,2,3,4])\n",
    "b=np.array([5,6,7,8])\n",
    "c=np.dstack((a,b))\n",
    "print(c)"
   ]
  },
  {
   "cell_type": "code",
   "execution_count": 58,
   "id": "c38dfc03",
   "metadata": {},
   "outputs": [
    {
     "name": "stdout",
     "output_type": "stream",
     "text": [
      "[array([1, 2, 3]), array([4, 5, 6])]\n"
     ]
    }
   ],
   "source": [
    "#Spliting arrays\n",
    "\n",
    "import numpy as np\n",
    "a=np.array([1,2,3,4,5,6])\n",
    "b=np.array_split(a,2)\n",
    "print(b)"
   ]
  },
  {
   "cell_type": "code",
   "execution_count": 59,
   "id": "e589355d",
   "metadata": {},
   "outputs": [
    {
     "name": "stdout",
     "output_type": "stream",
     "text": [
      "[array([1, 2]), array([3, 4]), array([5, 6])]\n"
     ]
    }
   ],
   "source": [
    "#Spliting arrays\n",
    "\n",
    "import numpy as np\n",
    "a=np.array([1,2,3,4,5,6])\n",
    "b=np.array_split(a,3)\n",
    "print(b)"
   ]
  },
  {
   "cell_type": "code",
   "execution_count": 60,
   "id": "bcf4075a",
   "metadata": {},
   "outputs": [
    {
     "name": "stdout",
     "output_type": "stream",
     "text": [
      "[array([1, 2]), array([3, 4]), array([5]), array([6])]\n"
     ]
    }
   ],
   "source": [
    "#Spliting arrays\n",
    "\n",
    "import numpy as np\n",
    "a=np.array([1,2,3,4,5,6])\n",
    "b=np.array_split(a,4)\n",
    "print(b)"
   ]
  },
  {
   "cell_type": "code",
   "execution_count": 61,
   "id": "70f77baf",
   "metadata": {},
   "outputs": [
    {
     "name": "stdout",
     "output_type": "stream",
     "text": [
      "[array([1]), array([2]), array([3]), array([4]), array([5]), array([6])]\n"
     ]
    }
   ],
   "source": [
    "import numpy as np\n",
    "a=np.array([1,2,3,4,5,6])\n",
    "b=np.array_split(a,6)\n",
    "print(b)"
   ]
  },
  {
   "cell_type": "code",
   "execution_count": 62,
   "id": "74e1573a",
   "metadata": {},
   "outputs": [
    {
     "name": "stdout",
     "output_type": "stream",
     "text": [
      "[array([1]), array([2]), array([3]), array([4]), array([5]), array([6]), array([], dtype=int32), array([], dtype=int32)]\n"
     ]
    }
   ],
   "source": [
    "import numpy as np\n",
    "a=np.array([1,2,3,4,5,6])\n",
    "b=np.array_split(a,8)\n",
    "print(b)"
   ]
  },
  {
   "cell_type": "code",
   "execution_count": 63,
   "id": "66c03d29",
   "metadata": {},
   "outputs": [
    {
     "name": "stdout",
     "output_type": "stream",
     "text": [
      "(array([3, 6, 9], dtype=int64),)\n"
     ]
    }
   ],
   "source": [
    "#searching arrays using where()\n",
    "\n",
    "a=np.array([1,2,3,4,5,6,4,7,8,4])\n",
    "b=np.where(a==4) # it will return index value of 4 (i.e) 3,6,9 and return its datatype\n",
    "print(b)"
   ]
  },
  {
   "cell_type": "code",
   "execution_count": 64,
   "id": "1eb46e6a",
   "metadata": {},
   "outputs": [
    {
     "name": "stdout",
     "output_type": "stream",
     "text": [
      "(array([1, 3, 5, 6, 8, 9], dtype=int64),)\n"
     ]
    }
   ],
   "source": [
    "a=np.array([1,2,3,4,5,6,4,7,8,4])\n",
    "b=np.where(a%2==0) # return values of even index number\n",
    "print(b)"
   ]
  },
  {
   "cell_type": "code",
   "execution_count": 65,
   "id": "a47e6d64",
   "metadata": {},
   "outputs": [
    {
     "name": "stdout",
     "output_type": "stream",
     "text": [
      "6\n",
      "[10  2  3  9  0  1  8  4]\n"
     ]
    }
   ],
   "source": [
    "#Search sorted\n",
    "\n",
    "a=np.array([10,2,3,9,0,1,8,4])\n",
    "b=np.searchsorted(a,7) # after sorting 2nd argument shows that the position where 7 should be inserted\n",
    "print(b)\n",
    "print(a)"
   ]
  },
  {
   "cell_type": "code",
   "execution_count": 66,
   "id": "7726ab39",
   "metadata": {},
   "outputs": [
    {
     "name": "stdout",
     "output_type": "stream",
     "text": [
      "6\n"
     ]
    }
   ],
   "source": [
    "b=np.searchsorted(a,1,side='right')\n",
    "print(b)"
   ]
  },
  {
   "cell_type": "code",
   "execution_count": 67,
   "id": "6f40b600",
   "metadata": {},
   "outputs": [
    {
     "name": "stdout",
     "output_type": "stream",
     "text": [
      "0.8369083128998277\n"
     ]
    }
   ],
   "source": [
    "from numpy import random\n",
    "x=random.rand()\n",
    "print(x)"
   ]
  },
  {
   "cell_type": "code",
   "execution_count": 68,
   "id": "f25ccab4",
   "metadata": {},
   "outputs": [
    {
     "name": "stdout",
     "output_type": "stream",
     "text": [
      "30\n"
     ]
    }
   ],
   "source": [
    "x=random.randint(50)\n",
    "print(x)"
   ]
  },
  {
   "cell_type": "code",
   "execution_count": 69,
   "id": "dd8aa1a5",
   "metadata": {},
   "outputs": [
    {
     "name": "stdout",
     "output_type": "stream",
     "text": [
      "[[45 12 38]\n",
      " [12  2 15]\n",
      " [27  4  7]]\n"
     ]
    }
   ],
   "source": [
    "x=random.randint(50,size=(3,3))\n",
    "print(x)"
   ]
  },
  {
   "cell_type": "code",
   "execution_count": 70,
   "id": "c902cedf",
   "metadata": {},
   "outputs": [
    {
     "name": "stdout",
     "output_type": "stream",
     "text": [
      "[0.86581163 0.07124096 0.72534679 0.1508118  0.15316545 0.33579631\n",
      " 0.05313109 0.58037316 0.51763006 0.36498968]\n"
     ]
    }
   ],
   "source": [
    "x=random.rand(10)\n",
    "print(x)"
   ]
  },
  {
   "cell_type": "code",
   "execution_count": 71,
   "id": "abeab981",
   "metadata": {},
   "outputs": [
    {
     "name": "stdout",
     "output_type": "stream",
     "text": [
      "12\n"
     ]
    }
   ],
   "source": [
    "x=random.choice([5,8,12,9,0])\n",
    "print(x)"
   ]
  },
  {
   "cell_type": "code",
   "execution_count": 72,
   "id": "2ece61e4",
   "metadata": {},
   "outputs": [
    {
     "name": "stdout",
     "output_type": "stream",
     "text": [
      "[[ 9  8  9]\n",
      " [ 5  8  0]\n",
      " [12  8 12]]\n"
     ]
    }
   ],
   "source": [
    "x=random.choice([5,8,12,9,0],size=(3,3))\n",
    "print(x)"
   ]
  },
  {
   "cell_type": "markdown",
   "id": "43a3440a",
   "metadata": {},
   "source": [
    "# Permutation\n",
    "\n",
    "It has two methods:\n",
    "\n",
    "Shuffle-make changes in the original array\n",
    "Permutation-it returns a new array and leaves the original array as it is."
   ]
  },
  {
   "cell_type": "code",
   "execution_count": 73,
   "id": "95030d72",
   "metadata": {},
   "outputs": [
    {
     "name": "stdout",
     "output_type": "stream",
     "text": [
      "[4 2 3 1 5]\n"
     ]
    }
   ],
   "source": [
    "from numpy import random\n",
    "import numpy as np\n",
    "a=np.array([1,2,3,4,5])\n",
    "random.shuffle(a)\n",
    "print(a)"
   ]
  },
  {
   "cell_type": "code",
   "execution_count": 74,
   "id": "4be561c6",
   "metadata": {},
   "outputs": [
    {
     "name": "stdout",
     "output_type": "stream",
     "text": [
      "[1 5 3 2 4]\n"
     ]
    }
   ],
   "source": [
    "b=random.permutation(a)\n",
    "print(b)"
   ]
  },
  {
   "cell_type": "code",
   "execution_count": 75,
   "id": "a6faba2a",
   "metadata": {},
   "outputs": [
    {
     "name": "stderr",
     "output_type": "stream",
     "text": [
      "C:\\Users\\sabth\\AppData\\Local\\Temp\\ipykernel_2960\\418743220.py:3: UserWarning: \n",
      "\n",
      "`distplot` is a deprecated function and will be removed in seaborn v0.14.0.\n",
      "\n",
      "Please adapt your code to use either `displot` (a figure-level function with\n",
      "similar flexibility) or `histplot` (an axes-level function for histograms).\n",
      "\n",
      "For a guide to updating your code to use the new functions, please see\n",
      "https://gist.github.com/mwaskom/de44147ed2974457ad6372750bbe5751\n",
      "\n",
      "  sb.distplot([10,20,30,40,50,60])\n"
     ]
    },
    {
     "data": {
      "image/png": "[encoded data removed]",
      "text/plain": [
       "<Figure size 640x480 with 1 Axes>"
      ]
     },
     "metadata": {},
     "output_type": "display_data"
    }
   ],
   "source": [
    "import matplotlib.pyplot as plt\n",
    "import seaborn as sb\n",
    "sb.distplot([10,20,30,40,50,60])\n",
    "plt.show()"
   ]
  },
  {
   "cell_type": "code",
   "execution_count": 76,
   "id": "dbf4b838",
   "metadata": {
    "scrolled": true
   },
   "outputs": [
    {
     "name": "stderr",
     "output_type": "stream",
     "text": [
      "C:\\Users\\sabth\\AppData\\Local\\Temp\\ipykernel_2960\\233081601.py:3: UserWarning: \n",
      "\n",
      "`distplot` is a deprecated function and will be removed in seaborn v0.14.0.\n",
      "\n",
      "Please adapt your code to use either `displot` (a figure-level function with\n",
      "similar flexibility) or `histplot` (an axes-level function for histograms).\n",
      "\n",
      "For a guide to updating your code to use the new functions, please see\n",
      "https://gist.github.com/mwaskom/de44147ed2974457ad6372750bbe5751\n",
      "\n",
      "  sb.distplot([25,50,32,75,16,60])\n"
     ]
    },
    {
     "data": {
      "image/png": "[encoded data removed]",
      "text/plain": [
       "<Figure size 640x480 with 1 Axes>"
      ]
     },
     "metadata": {},
     "output_type": "display_data"
    }
   ],
   "source": [
    "import matplotlib.pyplot as plt\n",
    "import seaborn as sb\n",
    "sb.distplot([25,50,32,75,16,60])\n",
    "plt.show()"
   ]
  },
  {
   "cell_type": "code",
   "execution_count": 77,
   "id": "55f635f8",
   "metadata": {},
   "outputs": [
    {
     "name": "stderr",
     "output_type": "stream",
     "text": [
      "C:\\Users\\sabth\\AppData\\Local\\Temp\\ipykernel_2960\\3129508160.py:3: UserWarning: \n",
      "\n",
      "`distplot` is a deprecated function and will be removed in seaborn v0.14.0.\n",
      "\n",
      "Please adapt your code to use either `displot` (a figure-level function with\n",
      "similar flexibility) or `kdeplot` (an axes-level function for kernel density plots).\n",
      "\n",
      "For a guide to updating your code to use the new functions, please see\n",
      "https://gist.github.com/mwaskom/de44147ed2974457ad6372750bbe5751\n",
      "\n",
      "  sb.distplot([10,20,30,40,50,60],hist=False)\n"
     ]
    },
    {
     "data": {
      "image/png": "[encoded data removed]",
      "text/plain": [
       "<Figure size 640x480 with 1 Axes>"
      ]
     },
     "metadata": {},
     "output_type": "display_data"
    }
   ],
   "source": [
    "import matplotlib.pyplot as plt\n",
    "import seaborn as sb\n",
    "sb.distplot([10,20,30,40,50,60],hist=False)\n",
    "plt.show()"
   ]
  },
  {
   "cell_type": "markdown",
   "id": "f5157f1b",
   "metadata": {},
   "source": [
    "#Normal distribution or Gaussian distribution\n",
    "\n",
    "#random.normal() is used for normal distribution\n",
    "\n",
    "#It supports 3 parameters :\n",
    "\n",
    "        #LOC-Mean(peak value of the curve)\n",
    "        #Scale-SD(Flag section)\n",
    "        #size-The shape of the resultant array"
   ]
  },
  {
   "cell_type": "code",
   "execution_count": 78,
   "id": "016d9de2",
   "metadata": {},
   "outputs": [
    {
     "name": "stdout",
     "output_type": "stream",
     "text": [
      "[-0.87356543 -0.39330687  0.46602981 -0.43924576  0.03652478]\n"
     ]
    }
   ],
   "source": [
    "x=random.normal(size=5)\n",
    "print(x)"
   ]
  },
  {
   "cell_type": "code",
   "execution_count": 79,
   "id": "5a1fe319",
   "metadata": {},
   "outputs": [
    {
     "name": "stdout",
     "output_type": "stream",
     "text": [
      "[[-0.39276232 -1.2520997 ]\n",
      " [-0.99297796  0.21137382]\n",
      " [ 2.82783841  0.39811045]]\n"
     ]
    }
   ],
   "source": [
    "x=random.normal(size=(3,2))\n",
    "print(x)"
   ]
  },
  {
   "cell_type": "code",
   "execution_count": 80,
   "id": "883b5ecd",
   "metadata": {},
   "outputs": [
    {
     "name": "stderr",
     "output_type": "stream",
     "text": [
      "C:\\Users\\sabth\\AppData\\Local\\Temp\\ipykernel_2960\\645307285.py:2: UserWarning: \n",
      "\n",
      "`distplot` is a deprecated function and will be removed in seaborn v0.14.0.\n",
      "\n",
      "Please adapt your code to use either `displot` (a figure-level function with\n",
      "similar flexibility) or `histplot` (an axes-level function for histograms).\n",
      "\n",
      "For a guide to updating your code to use the new functions, please see\n",
      "https://gist.github.com/mwaskom/de44147ed2974457ad6372750bbe5751\n",
      "\n",
      "  sb.distplot(x)\n"
     ]
    },
    {
     "data": {
      "image/png": "[encoded data removed]",
      "text/plain": [
       "<Figure size 640x480 with 1 Axes>"
      ]
     },
     "metadata": {},
     "output_type": "display_data"
    }
   ],
   "source": [
    "x=random.normal(loc=10,scale=5,size=500)\n",
    "sb.distplot(x)\n",
    "plt.show()"
   ]
  },
  {
   "cell_type": "code",
   "execution_count": 81,
   "id": "2b5b862c",
   "metadata": {},
   "outputs": [
    {
     "name": "stderr",
     "output_type": "stream",
     "text": [
      "C:\\Users\\sabth\\AppData\\Local\\Temp\\ipykernel_2960\\2111796339.py:2: UserWarning: \n",
      "\n",
      "`distplot` is a deprecated function and will be removed in seaborn v0.14.0.\n",
      "\n",
      "Please adapt your code to use either `displot` (a figure-level function with\n",
      "similar flexibility) or `kdeplot` (an axes-level function for kernel density plots).\n",
      "\n",
      "For a guide to updating your code to use the new functions, please see\n",
      "https://gist.github.com/mwaskom/de44147ed2974457ad6372750bbe5751\n",
      "\n",
      "  sb.distplot(x,hist=False)\n"
     ]
    },
    {
     "data": {
      "image/png": "[encoded data removed]",
      "text/plain": [
       "<Figure size 640x480 with 1 Axes>"
      ]
     },
     "metadata": {},
     "output_type": "display_data"
    }
   ],
   "source": [
    "x=random.normal(loc=10,scale=5,size=500)\n",
    "sb.distplot(x,hist=False)\n",
    "plt.show()"
   ]
  },
  {
   "cell_type": "markdown",
   "id": "e768cfa4",
   "metadata": {},
   "source": [
    "# Binomial distribution or Discrete distribution\n",
    "               Ex:Toss of a coin,it has 3 arguments 1 No of trails(n) 2 Probability of occurence of each trials(p=0.5 each) 3 Size of the resultant array"
   ]
  },
  {
   "cell_type": "code",
   "execution_count": 82,
   "id": "67d42093",
   "metadata": {},
   "outputs": [
    {
     "name": "stdout",
     "output_type": "stream",
     "text": [
      "[3 3 9 3 6 6 4 5 7 7]\n"
     ]
    }
   ],
   "source": [
    "a=random.binomial(n=10,p=0.5,size=10)\n",
    "print(a)"
   ]
  },
  {
   "cell_type": "code",
   "execution_count": 83,
   "id": "b608e410",
   "metadata": {},
   "outputs": [
    {
     "name": "stderr",
     "output_type": "stream",
     "text": [
      "C:\\Users\\sabth\\AppData\\Local\\Temp\\ipykernel_2960\\1857515851.py:2: UserWarning: \n",
      "\n",
      "`distplot` is a deprecated function and will be removed in seaborn v0.14.0.\n",
      "\n",
      "Please adapt your code to use either `displot` (a figure-level function with\n",
      "similar flexibility) or `histplot` (an axes-level function for histograms).\n",
      "\n",
      "For a guide to updating your code to use the new functions, please see\n",
      "https://gist.github.com/mwaskom/de44147ed2974457ad6372750bbe5751\n",
      "\n",
      "  sb.distplot(a,kde=False)\n"
     ]
    },
    {
     "data": {
      "image/png": "[encoded data removed]",
      "text/plain": [
       "<Figure size 640x480 with 1 Axes>"
      ]
     },
     "metadata": {},
     "output_type": "display_data"
    }
   ],
   "source": [
    "a=random.binomial(n=10,p=0.5,size=1000)\n",
    "sb.distplot(a,kde=False)\n",
    "plt.show()"
   ]
  },
  {
   "cell_type": "code",
   "execution_count": 84,
   "id": "4c725f92",
   "metadata": {},
   "outputs": [
    {
     "name": "stderr",
     "output_type": "stream",
     "text": [
      "C:\\Users\\sabth\\AppData\\Local\\Temp\\ipykernel_2960\\2449203952.py:3: UserWarning: \n",
      "\n",
      "`distplot` is a deprecated function and will be removed in seaborn v0.14.0.\n",
      "\n",
      "Please adapt your code to use either `displot` (a figure-level function with\n",
      "similar flexibility) or `kdeplot` (an axes-level function for kernel density plots).\n",
      "\n",
      "For a guide to updating your code to use the new functions, please see\n",
      "https://gist.github.com/mwaskom/de44147ed2974457ad6372750bbe5751\n",
      "\n",
      "  sb.distplot(a,hist=False)\n",
      "C:\\Users\\sabth\\AppData\\Local\\Temp\\ipykernel_2960\\2449203952.py:4: UserWarning: \n",
      "\n",
      "`distplot` is a deprecated function and will be removed in seaborn v0.14.0.\n",
      "\n",
      "Please adapt your code to use either `displot` (a figure-level function with\n",
      "similar flexibility) or `kdeplot` (an axes-level function for kernel density plots).\n",
      "\n",
      "For a guide to updating your code to use the new functions, please see\n",
      "https://gist.github.com/mwaskom/de44147ed2974457ad6372750bbe5751\n",
      "\n",
      "  sb.distplot(b,hist=False)\n"
     ]
    },
    {
     "data": {
      "image/png": "[encoded data removed]",
      "text/plain": [
       "<Figure size 640x480 with 1 Axes>"
      ]
     },
     "metadata": {},
     "output_type": "display_data"
    }
   ],
   "source": [
    "a=random.binomial(n=100,p=0.5,size=1000)\n",
    "b=random.normal(loc=50,scale=5,size=1000)\n",
    "sb.distplot(a,hist=False)\n",
    "sb.distplot(b,hist=False)\n",
    "plt.show()"
   ]
  },
  {
   "cell_type": "markdown",
   "id": "718f8436",
   "metadata": {},
   "source": [
    "# Poisson distribution"
   ]
  },
  {
   "cell_type": "markdown",
   "id": "e229ffeb",
   "metadata": {},
   "source": [
    "t is also a discrete distribution\n",
    "It has 2 attributes\n",
    "known number of occurences/rate of occurence(lam)\n",
    "Shape of the resultant array(size)"
   ]
  },
  {
   "cell_type": "code",
   "execution_count": 86,
   "id": "80ff2f7d",
   "metadata": {
    "scrolled": true
   },
   "outputs": [
    {
     "name": "stdout",
     "output_type": "stream",
     "text": [
      "[2 5 6 1 1 2 2 1 3 3 2 2 4 3 5 1 1 5 3 3 1 0 2 2 2 6 5 3 6 2]\n"
     ]
    },
    {
     "name": "stderr",
     "output_type": "stream",
     "text": [
      "C:\\Users\\sabth\\AppData\\Local\\Temp\\ipykernel_2960\\1417676777.py:4: UserWarning: \n",
      "\n",
      "`distplot` is a deprecated function and will be removed in seaborn v0.14.0.\n",
      "\n",
      "Please adapt your code to use either `displot` (a figure-level function with\n",
      "similar flexibility) or `histplot` (an axes-level function for histograms).\n",
      "\n",
      "For a guide to updating your code to use the new functions, please see\n",
      "https://gist.github.com/mwaskom/de44147ed2974457ad6372750bbe5751\n",
      "\n",
      "  sb.distplot(a,kde=False)\n"
     ]
    },
    {
     "data": {
      "image/png": "[encoded data removed]",
      "text/plain": [
       "<Figure size 640x480 with 1 Axes>"
      ]
     },
     "metadata": {},
     "output_type": "display_data"
    }
   ],
   "source": [
    "a=random.poisson(lam=3,size=30)\n",
    "print(a)\n",
    "a=random.poisson(lam=3,size=1000)\n",
    "sb.distplot(a,kde=False)\n",
    "plt.show()"
   ]
  },
  {
   "cell_type": "markdown",
   "id": "a8e01f62",
   "metadata": {},
   "source": [
    "# Uniform distribution\n",
    "\n",
    "The event has equal chances of occuring\n",
    "It has 3 paramters :\n",
    "         1.Lower bound(a=0)#default\n",
    "         2.Upper bound(a=1)#default \n",
    "         3.Shape of the array(size)"
   ]
  },
  {
   "cell_type": "code",
   "execution_count": 87,
   "id": "eca306e3",
   "metadata": {},
   "outputs": [
    {
     "name": "stdout",
     "output_type": "stream",
     "text": [
      "[[0.01396244 0.51386283 0.75085296]\n",
      " [0.41214411 0.13097604 0.59752546]\n",
      " [0.93668128 0.95833539 0.2648413 ]]\n"
     ]
    }
   ],
   "source": [
    "a=random.uniform(size=(3,3))\n",
    "print(a)"
   ]
  },
  {
   "cell_type": "code",
   "execution_count": 88,
   "id": "ef65ce95",
   "metadata": {},
   "outputs": [
    {
     "name": "stderr",
     "output_type": "stream",
     "text": [
      "C:\\Users\\sabth\\AppData\\Local\\Temp\\ipykernel_2960\\1163589992.py:1: UserWarning: \n",
      "\n",
      "`distplot` is a deprecated function and will be removed in seaborn v0.14.0.\n",
      "\n",
      "Please adapt your code to use either `displot` (a figure-level function with\n",
      "similar flexibility) or `kdeplot` (an axes-level function for kernel density plots).\n",
      "\n",
      "For a guide to updating your code to use the new functions, please see\n",
      "https://gist.github.com/mwaskom/de44147ed2974457ad6372750bbe5751\n",
      "\n",
      "  sb.distplot(a,hist=False)\n"
     ]
    },
    {
     "data": {
      "image/png": "[encoded data removed]",
      "text/plain": [
       "<Figure size 640x480 with 1 Axes>"
      ]
     },
     "metadata": {},
     "output_type": "display_data"
    }
   ],
   "source": [
    "sb.distplot(a,hist=False)\n",
    "plt.show()"
   ]
  },
  {
   "cell_type": "markdown",
   "id": "aba33cef",
   "metadata": {},
   "source": [
    "# Logistic distribution\n",
    "\n",
    "It is used in Machine learning for logistic regression\n",
    "It is used in neural networks\n",
    "It is used to represent the growth\n",
    "It has 3 attributes 1.loc-Mean(default 0) 2.Scale-SD(default 1) 3.shape of the array(size)\n"
   ]
  },
  {
   "cell_type": "code",
   "execution_count": 89,
   "id": "81af53f1",
   "metadata": {},
   "outputs": [
    {
     "name": "stdout",
     "output_type": "stream",
     "text": [
      "[ 7.79375883e-01 -6.61798276e-01  1.00744681e+00  8.02227598e-01\n",
      "  1.55275551e+01  9.12315212e-02  6.42709860e-01  6.08041448e+00\n",
      "  4.32279095e-01  6.95527875e-01 -4.93056679e+00  4.03960312e+00\n",
      " -1.93365733e+00  6.23300940e+00 -2.90180358e+00  8.21053556e-01\n",
      "  9.85001837e+00  3.14976368e+00  1.16636748e+00  6.66554489e+00\n",
      " -7.72510582e-01  4.30871232e+00  5.80267596e-01 -6.58324515e-01\n",
      "  6.54567487e-01  5.08975301e+00 -1.46353356e+00  1.96203814e+00\n",
      " -3.24371325e+00 -3.54604561e-01  6.45824139e+00 -3.96470502e+00\n",
      "  3.37415304e+00  4.24196680e+00  2.77591526e+00  3.57406439e+00\n",
      "  4.13485457e-01  2.55488081e+00  1.29664689e+00 -1.41198309e+00\n",
      " -1.47528356e+00 -3.07870098e+00 -6.53784144e+00  7.81267570e+00\n",
      "  7.80001825e+00 -4.27842898e+00 -1.42813248e+00  1.53123223e-01\n",
      " -2.06926125e+00 -1.38386398e+00  6.51778186e-01  4.99993608e+00\n",
      " -3.58424850e+00  1.18134712e+00  4.92856324e-01 -5.77582722e+00\n",
      "  1.05604841e-02 -1.24885758e+00  5.37187408e+00  3.91796397e+00\n",
      "  2.59826212e+00  3.17772792e+00  2.56363550e+00  4.89347559e+00\n",
      " -1.58857617e+00  2.03032331e+00 -1.37411360e+00 -7.83557521e+00\n",
      "  4.77584838e+00  1.39429645e+00  4.94229247e+00  3.80769316e+00\n",
      "  1.95842966e+00  3.76753614e+00  6.34743627e+00  6.74594943e-01\n",
      " -1.92917414e+00 -2.47914962e+00  6.28303419e+00 -2.55473346e+00\n",
      "  1.15882769e+00 -2.83577441e+00  1.79337725e-01  5.43438239e+00\n",
      " -1.14003019e+00 -1.20508741e+01  3.50934518e+00  1.13853976e+01\n",
      " -3.48392453e-02  2.12576743e+00  2.58924518e+00 -1.18530128e-01\n",
      "  2.83968289e+00  5.54083511e+00 -1.12256518e+00  6.17959479e+00\n",
      "  4.22330597e+00  3.34502731e-01  2.97005861e+00  3.42864661e+00\n",
      " -3.45487382e+00 -2.03476185e+00 -3.87316264e+00  1.70993522e+00\n",
      "  2.12345718e+00  1.32771603e+00 -5.47616680e+00  4.99552256e+00\n",
      "  6.91677454e-01  3.91993329e-01  3.92406465e+00  1.34157770e+00\n",
      "  5.03166355e+00  3.17037267e+00  3.35545439e+00  2.56240037e+00\n",
      " -2.72052504e-01  7.12194687e+00  2.34896509e+00 -4.61454422e+00\n",
      "  3.20466345e-01  7.00011714e+00  2.99605632e+00  5.85030259e-01\n",
      " -2.48530279e+00 -3.08932881e+00 -3.58992429e+00  4.88616782e+00\n",
      " -3.02787865e-01  1.32823558e+00 -1.94804806e+00  9.46980483e-01\n",
      "  3.79025190e+00  6.99642147e+00  2.02511547e+00 -1.80894649e+00\n",
      "  1.90211035e-01 -3.51406786e+00 -1.28595375e+00  3.46834855e+00\n",
      " -3.91908643e+00 -4.62959163e-01  1.77156520e+00 -3.54106634e+00\n",
      " -4.64837022e+00 -1.87081776e+00  4.36370743e+00  4.48873193e+00\n",
      "  2.09208556e+00 -3.98597156e+00 -3.77175456e+00  1.10942515e+00\n",
      " -3.58728968e-01  3.69876433e+00  6.26221105e+00  2.29153955e+00\n",
      "  1.84233130e-01  4.86873026e-01  8.74257390e-01 -1.66326146e-01\n",
      "  4.05450923e+00  4.21181924e+00  1.23745564e+01  2.71485429e-01\n",
      "  2.82342454e+00 -1.17818500e-01 -3.38686995e+00 -7.09409283e-01\n",
      "  2.98014437e+00 -7.85624056e+00  1.71986473e+00  8.24674762e-01\n",
      " -5.53301688e-01  7.62673752e-01 -6.56536020e-01  1.54189127e+00\n",
      "  3.47102118e+00 -1.67136006e+00 -4.16799581e+00 -1.02836140e+01\n",
      "  5.62297237e+00 -4.30722476e-01 -3.19755223e+00 -2.72254185e+00\n",
      "  2.19145383e+00  2.50227273e+00 -3.93603715e+00 -5.62848500e+00\n",
      "  4.24632827e+00 -5.40882312e+00  5.81386739e+00  1.84715649e+00\n",
      "  1.10440045e+00  3.94831197e-01  3.59465602e-01  4.41213321e+00\n",
      "  2.45061150e+00 -3.09188371e+00  4.21175972e-01  2.12398309e+00\n",
      "  1.54769564e+00  1.10356687e+00  1.05310340e+01  7.18914416e+00\n",
      "  2.63155608e-01  4.16224124e+00 -1.12560069e+00  4.62791489e+00\n",
      "  3.32083211e+00  3.69252209e+00 -6.52240547e+00  4.57620945e+00\n",
      "  1.84110175e+00  1.54403661e+00 -6.47235692e-01 -1.72312035e+00\n",
      "  5.78200405e+00  5.66953582e+00  2.81614961e+00  3.93834666e+00\n",
      "  3.01397518e+00 -1.20761154e+00 -1.78164269e-01  4.61253976e+00\n",
      "  1.75006202e+00  2.66850411e+00 -6.86789731e-01  9.71050719e-01\n",
      " -2.56581972e+00  2.29947065e+00  4.58056587e+00  5.88153246e+00\n",
      "  5.82645007e+00  4.34500045e+00  2.49065149e+00  2.03271245e+00\n",
      "  6.55993467e+00  7.29233022e-01  9.25019462e+00 -2.99561613e-01\n",
      "  1.13146823e+00  8.04535441e+00 -5.71769306e-01  4.13882370e+00\n",
      " -5.60614264e-01 -5.41312584e-01  8.56889883e-01  7.83972270e+00\n",
      " -9.28762068e+00 -2.63825779e-01  2.62809444e+00  6.93921272e+00\n",
      "  3.95504235e+00  2.01357463e+00  4.93674443e+00  2.88244374e+00\n",
      "  2.22089726e+00 -5.74141947e-02  2.83656059e+00  3.31791173e+00\n",
      " -2.37337207e+00  5.63040432e+00  1.64226429e+00  1.16791283e-01\n",
      "  3.01318215e+00 -5.27682430e-01  1.30882863e+01  1.79255058e+00\n",
      " -4.64795832e-01  3.15763578e+00  9.21492609e-01  1.17862274e+00\n",
      " -5.41392557e-01  2.96585848e+00  1.59622829e+00 -5.06413717e-01\n",
      "  6.80856772e+00  1.09176975e+01 -1.37983193e+00 -1.35446041e+00\n",
      "  5.19251466e+00 -1.97464248e+00  3.21793786e+00  2.75786778e-01\n",
      "  9.28935164e-01  3.92810290e+00 -2.24807313e-01 -1.62810389e+00\n",
      " -4.47051956e+00  6.33661608e-01  5.65705358e+00 -8.40991680e-01\n",
      "  8.48939306e+00  4.05063252e+00  3.24155517e-01  4.91828371e+00\n",
      " -1.50529238e+00 -1.83342515e+00 -2.24283175e+00  4.04663984e+00\n",
      "  4.19587596e+00  2.37245251e+00  1.10224854e+01 -7.32114338e+00\n",
      "  1.16077434e+00  3.02306624e+00  3.33126745e+00  4.39492881e+00\n",
      "  3.32926833e-01  2.46165908e+00  9.43377456e-01 -8.67338106e-01\n",
      "  2.19372419e+00  1.08638239e-01  2.11950061e-01 -7.49733069e-01\n",
      "  2.82424192e+00  3.29257349e-01  2.12367513e+00  3.32259268e+00\n",
      "  3.06605671e+00  4.69788529e-01 -5.71948769e-01  7.94532487e-01\n",
      " -3.43243670e+00  1.66868668e+00 -1.61417656e+00 -3.06694266e+00\n",
      " -8.39091266e-02  2.34862284e-01  8.69647465e-01  1.79037349e+00\n",
      "  6.33633040e+00 -5.33611384e-01  1.56010735e+00  2.58050396e+00\n",
      " -1.21054064e+00 -5.19153912e-01 -1.80545656e+00  4.94677204e+00\n",
      " -9.70768120e+00  6.86754524e+00  1.87419904e+00  7.13440198e+00\n",
      "  3.52709700e+00  1.27928977e+00  3.00148006e+00  1.12338909e+00\n",
      "  1.13533703e+01  4.68172160e-01  1.76987263e+00  7.58262744e-01\n",
      "  8.61244759e+00 -8.91370250e+00 -5.22479804e+00 -1.81701908e+00\n",
      "  2.99062757e+00  1.47165511e+00 -9.65098086e-01  2.66634568e-01\n",
      "  3.35928386e+00  2.78350362e-01  4.77533390e+00  3.13599489e+00\n",
      " -2.59607625e+00 -8.71752802e-01  3.40100222e-01  8.01154025e+00\n",
      "  1.57142149e-01  2.32059222e+00  2.86245906e+00  5.71865060e+00\n",
      " -1.34349258e-01  5.12325683e-01 -1.89477107e+00  1.34991734e+00\n",
      "  9.02891756e-01  6.28534747e+00  5.71482510e-01 -3.19095127e+00\n",
      " -3.98934449e+00  3.89672035e+00  5.16972180e+00 -9.42623869e-01\n",
      " -9.61068597e-01  3.59157054e+00  2.44535756e+00 -1.09474485e+00\n",
      " -3.21801096e+00 -6.27845351e-01  3.21908800e+00  1.57148464e+01\n",
      " -7.09548245e+00  9.88292672e+00 -1.07693383e+00  3.00737202e+00\n",
      " -5.16006251e-01 -3.87063001e-01  3.38143433e+00  1.14644514e+01\n",
      "  3.82472175e+00 -4.63302749e-01  4.28494847e+00  5.08048651e+00\n",
      "  5.74355239e+00  3.36258191e+00  1.65304430e+01  1.88915544e+00\n",
      " -1.28075364e+00 -8.36901794e+00  2.37779882e+00 -1.01079907e+00\n",
      " -2.79267232e+00  1.86630452e+00 -2.21461276e-01  2.30262557e+00\n",
      "  6.84360609e-01  2.67182457e+00  1.83252856e+00 -2.27900114e-01\n",
      " -2.68559160e+00  4.48160056e+00 -2.94401201e-01 -1.44825884e+00\n",
      "  4.62551263e+00  3.40200490e+00 -2.54950309e+00  3.84691636e+00\n",
      "  3.21999410e+00  1.74814552e+00  1.07175696e+01  2.84490653e+00\n",
      "  1.22506532e+00  1.49483373e+00  6.76379984e+00 -2.36521239e+00\n",
      "  4.38860744e-01 -9.81641168e-01  3.34079504e+00  1.49644861e+00\n",
      "  2.07054020e+00  4.35120481e+00  6.22405229e-01  6.42565012e+00\n",
      " -6.68370567e-02  2.72162705e+00  5.00599392e+00 -3.15076545e+00\n",
      " -5.05720329e+00  1.21041700e+00  4.08774851e+00  2.20584738e+00\n",
      " -2.39902167e-02 -5.14457055e-01 -3.52965069e+00  8.57131877e-01\n",
      " -5.16524516e-01  7.44360437e-01  5.37843832e+00  3.14772533e+00\n",
      " -8.00504425e-01  2.76611564e+00 -1.07521031e+00  1.92698864e+00\n",
      " -1.04068017e+00  5.97001324e+00  4.73449902e-01  4.35721907e+00\n",
      " -3.00404334e-01  6.55154380e+00 -1.32361537e+00 -5.96943188e+00\n",
      " -1.90600496e-01 -2.74182842e+00 -6.27440927e-01  3.72354211e+00\n",
      "  6.28732973e-01 -1.05868162e+00 -9.71406209e-02  2.58846333e+00\n",
      " -2.00585583e+00 -1.18188399e+00  7.06260679e+00  2.25800245e+00\n",
      " -5.38149472e-01  2.82040630e-02 -2.76687198e+00 -1.13248032e-01\n",
      "  4.64650870e+00 -3.90538489e+00  6.26087964e-01 -3.50585175e+00\n",
      "  7.38307182e+00 -1.79539476e+00  5.03856994e+00 -1.75708359e+00\n",
      "  2.29369847e+00  7.22032897e+00 -9.05459909e-01  4.62130811e+00\n",
      "  1.49894843e+00  2.91915997e+00  4.87788815e+00  3.46474851e-01\n",
      "  4.34680634e+00  4.69722764e+00  5.60732651e+00  2.35229830e+00\n",
      "  8.45112876e+00  3.68736189e+00 -8.50871777e-01  5.51406691e+00\n",
      "  7.39378112e+00  1.41500397e+00  3.92046258e+00  6.97347274e+00\n",
      " -4.03107654e+00  7.29486956e-01  1.21562370e+00  1.14665196e+01\n",
      "  3.14432083e+00 -6.37170925e-01 -1.71538922e+00  4.77777801e+00\n",
      " -1.78199273e+00  2.56403788e+00  1.50581046e+00  4.27937694e+00\n",
      "  2.24411013e+00  3.65418133e-01  4.47798577e+00  1.32945049e+00\n",
      "  7.39118115e+00 -5.92388505e-01  2.84527297e+00  2.66249203e+00\n",
      "  3.04513331e+00  3.46273305e+00  8.03519187e-01 -7.24789964e-01\n",
      "  3.66773900e+00  3.75712927e+00 -5.04019918e+00  2.67505287e+00\n",
      " -1.83456861e+00  6.77517723e-01  1.30987719e-02  4.29102737e-01\n",
      "  2.86964996e+00 -1.06634882e+00 -1.04443501e+00 -1.93997209e+00\n",
      "  4.01132559e+00 -4.10078350e+00  1.00770282e+00 -1.87655276e+00\n",
      "  3.73661314e+00  5.10139825e+00  4.78032897e+00 -4.87588139e-01\n",
      "  3.92321465e+00  2.28633491e+00  1.87337202e+00  4.36974433e+00\n",
      "  1.36553978e+00  2.86149763e-01  4.14601804e-01  5.29331752e+00\n",
      " -6.76738285e+00  3.06369918e+00  2.32809929e+00 -8.02698383e-01\n",
      "  1.96265380e+00 -3.30906020e+00  1.66467000e+00  2.78830786e+00\n",
      " -3.52565286e+00  1.04725836e+00 -1.89449382e+00  3.82014815e-01\n",
      " -3.69893793e+00  2.59302440e+00  4.11909791e-01  2.01387707e+00\n",
      " -8.73643895e+00  1.89990599e+00  5.81575400e+00  4.18614811e-01\n",
      "  4.35167168e+00 -3.21879879e-01  2.64647322e+00 -5.39397102e-01\n",
      "  3.58101804e+00  2.53602263e+00  6.44514259e+00  1.30689954e+00\n",
      " -5.26420877e-01 -7.75408438e-01  2.27456583e+00  1.16831038e+00\n",
      "  2.68845683e+00  9.32877310e+00  9.26521779e-01 -3.80341472e+00\n",
      "  3.60785972e+00  1.73287705e+00 -3.86919158e-01 -1.69059863e+00\n",
      "  1.22396506e+00  2.40572781e+00  4.58083627e+00  1.15905896e-01\n",
      "  1.80643394e+00 -2.38437382e+00 -6.16408361e-01 -1.87432695e+00\n",
      " -5.80900998e+00 -1.35001383e+00  1.91001829e+00 -3.85354108e-02\n",
      " -2.74239255e+00  9.31248216e+00  1.37938866e+00  3.92767835e+00\n",
      " -1.02294704e+00  1.74135068e+00  3.10427871e+00  2.24489781e+00\n",
      "  7.74766611e-01  4.89303730e-01  1.49572836e+00  2.14835715e+00\n",
      "  4.56729461e+00  3.59929722e+00 -2.46682050e-01 -5.19126794e+00\n",
      " -3.62435545e-02  3.20168069e+00  4.81186826e+00 -1.55890253e+00\n",
      "  4.66698433e+00  1.71196214e+00  5.37230712e+00 -4.46891437e+00\n",
      "  1.26698924e+00  1.14850695e+00  2.59112979e-01  9.55068065e-01\n",
      " -1.38399944e+00  9.05093345e-01  2.28244958e+00  3.96479822e-01\n",
      " -8.35547391e-01  1.03297865e+01 -9.12103632e+00  3.41690548e+00\n",
      "  2.84953538e+00  1.23091188e+00  2.01234703e+00  2.15652569e+00\n",
      " -1.08311069e+00 -4.11875807e+00  2.61984346e+00  3.43998103e+00\n",
      "  4.04610208e+00 -5.41036950e+00  2.09441315e+00 -2.01283216e+00\n",
      " -1.22987720e+00 -2.99527750e+00  2.37927433e+00  7.30885957e+00\n",
      " -5.65513137e-01  3.67851692e+00 -4.77744855e+00  5.73451918e-01\n",
      "  2.21062245e+00  3.55124967e+00  1.82047087e+00  8.10942231e-01\n",
      "  2.52170680e-01  4.02136023e+00 -1.02104934e+00  7.64824658e-02\n",
      "  4.67646487e+00 -2.68865368e-01 -4.90121716e-01  1.87382181e+00\n",
      "  6.06996993e+00  8.36265240e+00  1.76078990e+00  6.14038583e+00\n",
      " -2.95351752e+00 -2.70615763e+00  3.22633610e+00 -2.35075863e+00\n",
      " -1.43779514e+00  2.87959124e+00  5.24850418e+00  1.42908430e+01\n",
      "  5.15985005e+00  3.44403640e+00  4.46184535e+00  3.45229430e-01\n",
      "  2.30233489e+00  9.74515039e+00  8.61458006e-01  5.79035880e+00\n",
      " -1.44376816e+00 -6.83244421e+00  9.28453563e-01  2.37237954e+00\n",
      "  1.88683480e+00  9.16718098e+00  6.81979623e-01 -2.06617909e-02\n",
      "  2.87837640e+00  5.19369064e+00  9.34195008e-01  7.85101490e+00\n",
      " -2.69333660e+00  1.03034608e-01 -2.32425820e+00 -1.83184925e+00\n",
      "  3.94180498e+00  3.65562617e+00 -9.33077424e+00 -9.74118588e-01\n",
      "  1.01621315e+00 -1.50609637e+00 -8.00111011e+00  2.69084821e+00\n",
      "  5.08940863e+00 -3.28345461e+00  8.77189751e+00 -1.85878376e+00\n",
      "  5.98758516e+00 -1.81425775e+00  5.54695763e+00  1.80068198e+00\n",
      " -5.98750186e-01 -2.04092741e-01  1.82526023e+00  1.29516921e+00\n",
      "  3.48430413e+00 -1.16313259e+00  2.29525209e-01  1.36971109e+00\n",
      "  7.20171141e-01  8.63133459e-01 -8.85381030e-01  1.53894188e+00\n",
      " -6.34337780e-01  3.83746427e+00 -2.46198041e-02 -3.76188676e-01\n",
      " -1.45981771e+00  2.29509510e+00 -2.51204740e-01  2.14732555e-01\n",
      "  2.18252677e+00  2.21743651e+00  1.55688046e+00 -8.26931906e+00\n",
      "  7.09749331e+00  1.50217457e+00 -2.15736229e-02  1.62800118e+00\n",
      " -1.41863677e-02 -6.59272517e+00 -1.80594100e+00  5.36021707e+00\n",
      "  6.75317311e+00  5.35126449e+00 -4.96177804e+00  4.12266190e+00\n",
      "  8.53418620e-01 -5.65759547e+00  3.78478589e+00  5.59801792e+00\n",
      "  3.64677769e+00  1.92045522e+00 -2.68049580e+00 -5.51739143e-01\n",
      "  1.98088116e+00  7.53431845e-01 -5.21243712e+00 -1.79467820e+00\n",
      " -1.00373592e+00 -1.30045715e-01  1.04185624e+00  3.43857328e-01\n",
      "  3.54344020e+00  2.72703513e+00  6.00455253e-01  7.12242011e+00\n",
      "  1.30263995e+00 -1.67051205e+00 -2.46509693e+00  8.45345628e+00\n",
      "  5.95692534e-01  6.42675244e+00  2.30656758e+00 -4.22314086e+00\n",
      " -3.45083070e+00 -4.98085455e+00  1.11049582e+00  1.33057206e+00\n",
      "  6.17120550e-01 -1.41283319e+00 -2.45813735e+00  5.63276009e+00\n",
      "  4.17933313e+00  4.79667053e+00  4.04815474e+00  1.28843019e+00\n",
      "  2.74578535e+00 -1.53202844e+00 -2.89874189e-01  2.83539716e+00\n",
      "  6.14835860e+00 -1.79918053e+00  2.77243056e+00 -2.30296850e+00\n",
      "  1.04978545e+00  8.73737450e-01  1.08829597e+00 -7.65261049e+00\n",
      " -1.83111995e-01  3.83889151e+00 -3.37403126e+00  1.13710178e+00\n",
      "  5.24315588e+00 -4.21635361e-01  5.80842152e-01  1.62736992e+00\n",
      " -6.86236575e+00  1.54502354e+00  1.32985570e+00  5.62015848e+00\n",
      " -1.60996849e+00  3.87880998e+00  2.51745037e+00 -2.32100686e+00\n",
      " -5.38821259e+00  7.24515952e+00  1.72376845e+00 -2.68339604e+00\n",
      "  7.58133876e+00  5.89253791e-01 -2.21763801e-01  2.21551454e+00\n",
      " -2.21451651e+00 -2.77883831e-01 -4.50637991e+00  1.96602530e+00\n",
      "  1.79043729e+00  1.32068620e+00  6.27253956e+00  1.39462057e+00\n",
      "  2.95377769e+00 -7.69627618e-01  7.89942120e-02  4.93977066e+00\n",
      " -5.43219777e+00  2.32169055e+00  8.84354991e-01  2.86810884e+00\n",
      " -3.81640607e+00  1.19394434e+00  3.14625033e+00 -5.64498526e-03\n",
      "  6.03187041e+00  1.69201279e+00 -2.28056635e+00  2.96296475e+00\n",
      "  2.24361699e+00  1.94586090e+00 -2.96115805e+00  1.66092356e+00\n",
      "  4.69223424e+00  8.10009607e+00  4.30210235e+00  1.91050673e+00\n",
      "  1.46494918e+00 -4.76335764e-02  3.92833460e+00  2.69505727e+00\n",
      "  3.04794044e+00  3.14572681e+00 -1.79280322e-01 -2.18813434e+00\n",
      " -2.63734260e+00  1.07255622e+00  4.13963483e+00 -2.85401768e-01\n",
      "  4.90955480e+00 -4.39618557e+00  1.39111808e+00  7.79893793e-02\n",
      " -4.58253355e+00 -1.98990765e+00  2.68050446e+00  1.99222681e+00\n",
      "  6.10613804e+00  1.27228010e+01  1.66080268e+00 -2.68658464e+00\n",
      "  1.14445783e+01  6.75308485e+00  4.60884095e+00  1.13830081e+00\n",
      "  5.24127101e+00  5.01708966e+00  1.03019495e+00  6.07092650e-01\n",
      " -2.82833083e+00 -9.73692927e-01  1.04472185e+00  3.44979729e-01\n",
      "  4.71515108e+00  4.99153657e-01 -2.25957598e+00  3.03115571e+00\n",
      "  3.44973592e+00  3.54638067e+00  4.93311844e+00  3.24867872e+00\n",
      "  1.53193119e+00 -2.63271966e+00  6.01379597e+00 -5.60116365e+00\n",
      "  3.37907802e+00  7.53750798e-01 -1.78835506e+00  4.76658627e+00\n",
      " -6.20344319e+00  5.53330243e+00  1.33779607e+00  3.60251653e+00\n",
      " -1.23404304e+00 -2.82123064e+00 -9.57482498e-01  3.98754454e+00\n",
      " -8.87631893e-02  3.33417933e+00 -2.53672093e-01  3.91864837e+00\n",
      "  2.11164159e+00  9.93158518e-01  1.68927204e+00 -1.87468400e+00\n",
      " -1.78382713e+00  3.42926231e+00 -2.67372683e+00  1.08959017e+00\n",
      "  1.47629714e+00  2.28148631e+00  3.04685655e+00 -4.01079346e+00\n",
      "  2.80282183e+00  2.96100911e+00  7.29099526e+00  3.11339161e+00\n",
      " -2.16811050e+00  2.25488398e+00  9.88095178e-01 -4.57555036e-01\n",
      "  3.66533589e+00  1.00466697e+00  1.93533980e+00 -1.59423670e+00\n",
      " -1.88659190e+00  4.40030274e+00  2.74059624e+00 -3.57650137e+00\n",
      " -7.62459469e-01  2.30680349e-01 -1.81104497e-02  2.18358721e+00\n",
      "  1.05578467e+01  2.51491804e+00  2.45460471e+00  5.50064063e+00\n",
      "  3.37851548e+00  1.94686201e+00 -3.36411834e+00 -7.04914257e+00\n",
      "  5.77086664e-01 -3.57064413e+00  3.76857086e+00  6.63545815e+00\n",
      " -2.02359802e+00  8.12457242e+00  3.36731829e+00 -6.31176744e+00\n",
      "  3.30983692e+00  1.91081878e-01 -5.20862764e+00  8.98326689e+00]\n"
     ]
    }
   ],
   "source": [
    "a=random.logistic(loc=1,scale=2,size=1000)\n",
    "print(a)"
   ]
  },
  {
   "cell_type": "code",
   "execution_count": 90,
   "id": "cab87905",
   "metadata": {},
   "outputs": [
    {
     "name": "stderr",
     "output_type": "stream",
     "text": [
      "C:\\Users\\sabth\\AppData\\Local\\Temp\\ipykernel_2960\\1163589992.py:1: UserWarning: \n",
      "\n",
      "`distplot` is a deprecated function and will be removed in seaborn v0.14.0.\n",
      "\n",
      "Please adapt your code to use either `displot` (a figure-level function with\n",
      "similar flexibility) or `kdeplot` (an axes-level function for kernel density plots).\n",
      "\n",
      "For a guide to updating your code to use the new functions, please see\n",
      "https://gist.github.com/mwaskom/de44147ed2974457ad6372750bbe5751\n",
      "\n",
      "  sb.distplot(a,hist=False)\n"
     ]
    },
    {
     "data": {
      "image/png": "[encoded data removed]",
      "text/plain": [
       "<Figure size 640x480 with 1 Axes>"
      ]
     },
     "metadata": {},
     "output_type": "display_data"
    }
   ],
   "source": [
    "sb.distplot(a,hist=False)\n",
    "plt.show()"
   ]
  },
  {
   "cell_type": "code",
   "execution_count": 91,
   "id": "56f01227",
   "metadata": {},
   "outputs": [
    {
     "name": "stderr",
     "output_type": "stream",
     "text": [
      "C:\\Users\\sabth\\AppData\\Local\\Temp\\ipykernel_2960\\3362395989.py:3: UserWarning: \n",
      "\n",
      "`distplot` is a deprecated function and will be removed in seaborn v0.14.0.\n",
      "\n",
      "Please adapt your code to use either `displot` (a figure-level function with\n",
      "similar flexibility) or `kdeplot` (an axes-level function for kernel density plots).\n",
      "\n",
      "For a guide to updating your code to use the new functions, please see\n",
      "https://gist.github.com/mwaskom/de44147ed2974457ad6372750bbe5751\n",
      "\n",
      "  sb.distplot(a,hist=False,label='Logistic',color='red')\n",
      "C:\\Users\\sabth\\AppData\\Local\\Temp\\ipykernel_2960\\3362395989.py:4: UserWarning: \n",
      "\n",
      "`distplot` is a deprecated function and will be removed in seaborn v0.14.0.\n",
      "\n",
      "Please adapt your code to use either `displot` (a figure-level function with\n",
      "similar flexibility) or `kdeplot` (an axes-level function for kernel density plots).\n",
      "\n",
      "For a guide to updating your code to use the new functions, please see\n",
      "https://gist.github.com/mwaskom/de44147ed2974457ad6372750bbe5751\n",
      "\n",
      "  sb.distplot(b,hist=False,label='Normal',color='green')\n"
     ]
    },
    {
     "data": {
      "text/plain": [
       "<Axes: ylabel='Density'>"
      ]
     },
     "execution_count": 91,
     "metadata": {},
     "output_type": "execute_result"
    },
    {
     "data": {
      "image/png": "[encoded data removed]",
      "text/plain": [
       "<Figure size 640x480 with 1 Axes>"
      ]
     },
     "metadata": {},
     "output_type": "display_data"
    }
   ],
   "source": [
    "a=random.logistic(loc=1,scale=2,size=1000)\n",
    "b=random.normal(loc=1,scale=2,size=1000)\n",
    "sb.distplot(a,hist=False,label='Logistic',color='red')\n",
    "sb.distplot(b,hist=False,label='Normal',color='green')"
   ]
  },
  {
   "cell_type": "markdown",
   "id": "84ec3d3c",
   "metadata": {},
   "source": [
    "# Multinomial distribution\n",
    "\n",
    "It is also known as polynomial distribution\n",
    "Ex:Rolling a dice\n",
    "It has 3 parameters 1.n-No of outcomes 2.pvals-List of probabilities 3.shape of the array(Size)"
   ]
  },
  {
   "cell_type": "code",
   "execution_count": 92,
   "id": "0337054a",
   "metadata": {},
   "outputs": [
    {
     "name": "stdout",
     "output_type": "stream",
     "text": [
      "[1 0 2 0 1 2]\n"
     ]
    }
   ],
   "source": [
    "a=random.multinomial(n=6,pvals=[1/6,1/6,1/6,1/6,1/6,1/6])\n",
    "print(a)"
   ]
  },
  {
   "cell_type": "code",
   "execution_count": 93,
   "id": "6bb5dfe9",
   "metadata": {},
   "outputs": [
    {
     "name": "stdout",
     "output_type": "stream",
     "text": [
      "[[2 0 3 1 0 0]\n",
      " [2 3 1 0 0 0]\n",
      " [1 0 4 1 0 0]\n",
      " [1 2 1 0 0 2]\n",
      " [0 1 0 2 1 2]\n",
      " [2 1 0 2 0 1]\n",
      " [2 0 0 0 0 4]\n",
      " [1 2 1 1 0 1]\n",
      " [1 0 1 1 3 0]\n",
      " [0 0 1 0 1 4]]\n"
     ]
    }
   ],
   "source": [
    "a=random.multinomial(n=6,pvals=[1/6,1/6,1/6,1/6,1/6,1/6],size=10)\n",
    "print(a)"
   ]
  },
  {
   "cell_type": "code",
   "execution_count": 94,
   "id": "b9efc72f",
   "metadata": {},
   "outputs": [
    {
     "name": "stderr",
     "output_type": "stream",
     "text": [
      "C:\\Users\\sabth\\AppData\\Local\\Temp\\ipykernel_2960\\1885542346.py:1: UserWarning: \n",
      "\n",
      "`distplot` is a deprecated function and will be removed in seaborn v0.14.0.\n",
      "\n",
      "Please adapt your code to use either `displot` (a figure-level function with\n",
      "similar flexibility) or `histplot` (an axes-level function for histograms).\n",
      "\n",
      "For a guide to updating your code to use the new functions, please see\n",
      "https://gist.github.com/mwaskom/de44147ed2974457ad6372750bbe5751\n",
      "\n",
      "  sb.distplot(a)\n"
     ]
    },
    {
     "data": {
      "image/png": "[encoded data removed]",
      "text/plain": [
       "<Figure size 640x480 with 1 Axes>"
      ]
     },
     "metadata": {},
     "output_type": "display_data"
    }
   ],
   "source": [
    "sb.distplot(a)\n",
    "plt.show()"
   ]
  },
  {
   "cell_type": "code",
   "execution_count": 95,
   "id": "6687add2",
   "metadata": {},
   "outputs": [
    {
     "name": "stderr",
     "output_type": "stream",
     "text": [
      "C:\\Users\\sabth\\AppData\\Local\\Temp\\ipykernel_2960\\1163589992.py:1: UserWarning: \n",
      "\n",
      "`distplot` is a deprecated function and will be removed in seaborn v0.14.0.\n",
      "\n",
      "Please adapt your code to use either `displot` (a figure-level function with\n",
      "similar flexibility) or `kdeplot` (an axes-level function for kernel density plots).\n",
      "\n",
      "For a guide to updating your code to use the new functions, please see\n",
      "https://gist.github.com/mwaskom/de44147ed2974457ad6372750bbe5751\n",
      "\n",
      "  sb.distplot(a,hist=False)\n"
     ]
    },
    {
     "data": {
      "image/png": "[encoded data removed]",
      "text/plain": [
       "<Figure size 640x480 with 1 Axes>"
      ]
     },
     "metadata": {},
     "output_type": "display_data"
    }
   ],
   "source": [
    "sb.distplot(a,hist=False)\n",
    "plt.show()"
   ]
  },
  {
   "cell_type": "markdown",
   "id": "c4af3fd7",
   "metadata": {},
   "source": [
    "# Exponential distribution\n",
    "\n",
    "Time till next event\n",
    "It has two parameters 1.Inverse of rate of occurence(default=1) 2.Size"
   ]
  },
  {
   "cell_type": "code",
   "execution_count": 97,
   "id": "dcf9b7de",
   "metadata": {},
   "outputs": [
    {
     "name": "stderr",
     "output_type": "stream",
     "text": [
      "C:\\Users\\sabth\\AppData\\Local\\Temp\\ipykernel_2960\\3058262983.py:2: UserWarning: \n",
      "\n",
      "`distplot` is a deprecated function and will be removed in seaborn v0.14.0.\n",
      "\n",
      "Please adapt your code to use either `displot` (a figure-level function with\n",
      "similar flexibility) or `kdeplot` (an axes-level function for kernel density plots).\n",
      "\n",
      "For a guide to updating your code to use the new functions, please see\n",
      "https://gist.github.com/mwaskom/de44147ed2974457ad6372750bbe5751\n",
      "\n",
      "  sb.distplot(a,hist=False)\n"
     ]
    },
    {
     "data": {
      "image/png": "[encoded data removed]",
      "text/plain": [
       "<Figure size 640x480 with 1 Axes>"
      ]
     },
     "metadata": {},
     "output_type": "display_data"
    }
   ],
   "source": [
    "a=random.exponential(size=1000)\n",
    "sb.distplot(a,hist=False)\n",
    "plt.show()"
   ]
  },
  {
   "cell_type": "markdown",
   "id": "a1c1400a",
   "metadata": {},
   "source": [
    "# Chi square distribution\n",
    "\n",
    "To verify hypothesis\n",
    "It has 2 arguments 1.df(Degree of freedom) 2.shape of the array(size)"
   ]
  },
  {
   "cell_type": "code",
   "execution_count": 101,
   "id": "5a3182bc",
   "metadata": {},
   "outputs": [
    {
     "name": "stdout",
     "output_type": "stream",
     "text": [
      "[4.21277931e-01 5.74204281e-02 6.22306987e-01 9.88317718e-01\n",
      " 4.69151667e-01 9.21358347e-02 4.58052349e-01 4.84212135e-01\n",
      " 2.26814766e+00 5.91825900e-01 2.54148098e-03 8.22854059e-01\n",
      " 7.45277754e-02 6.20866743e-06 2.23569616e-02 3.24216710e-01\n",
      " 1.44314654e+00 4.02045500e-01 3.84959363e-01 2.87706363e-01\n",
      " 1.19894558e-05 2.29122639e+00 9.42359624e-02 1.02763986e-02\n",
      " 4.18412030e-01 1.36601284e-01 1.45584294e-01 1.69301406e-02\n",
      " 9.10648335e-02 2.90644025e-01 3.89190861e+00 4.49853929e-02\n",
      " 2.25774619e+00 6.16083935e-01 1.51308931e-01 3.92672896e-01\n",
      " 2.53512175e-02 3.43789740e-01 2.41754634e+00 1.22019588e+00\n",
      " 1.05689476e+00 9.98415036e-02 1.41925628e-03 4.75900719e+00\n",
      " 8.39021737e-01 2.74001992e+00 6.92003960e-02 7.07145039e-01\n",
      " 4.47369270e-01 4.28942386e-01 1.75478095e-03 1.27694729e+00\n",
      " 6.23158326e-01 1.65485934e-01 4.60898616e-01 1.33647635e+00\n",
      " 3.26451326e+00 1.90716684e+00 8.83845544e-01 7.90663080e-02\n",
      " 1.65892313e+00 4.53465207e-01 1.21356221e+00 6.02475834e-01\n",
      " 6.32857365e-01 1.98877081e+00 4.80743139e+00 3.56035904e-01\n",
      " 5.10147098e-01 6.73773998e-01 1.39925081e-01 3.37372732e+00\n",
      " 4.75738772e-01 1.35085611e-01 1.80078299e+00 1.67599484e-05\n",
      " 3.13994748e-01 2.30715867e-01 3.96798774e-01 1.02650560e+00\n",
      " 6.65959287e-05 1.03193767e+00 1.15762758e+00 6.83160918e-01\n",
      " 1.98299593e+00 3.42839238e-01 1.42551096e+00 4.77258917e-01\n",
      " 2.79100936e-04 4.74591273e-01 3.14347787e-01 2.04907574e+00\n",
      " 7.56631358e-01 2.53330066e-01 1.38612898e+00 1.92045980e+00\n",
      " 3.14899679e+00 1.30723583e+00 3.74620423e-02 7.09593902e-01\n",
      " 2.80083278e-03 6.65247533e-01 4.13311445e-02 3.00925443e+00\n",
      " 4.75213273e-01 1.10781709e+00 1.80155248e-01 1.11544771e-01\n",
      " 3.79243386e-04 6.62512788e-03 2.39027025e-02 2.54379605e+00\n",
      " 2.45895718e-01 1.23222327e-01 2.80638511e+00 2.88301913e-01\n",
      " 2.54906878e+00 5.20736364e+00 2.22939600e-01 1.65322282e-02\n",
      " 8.01587170e-01 6.02378255e-01 3.96422165e-01 7.51277961e+00\n",
      " 1.07421239e-02 5.63447439e-01 9.50812708e-02 1.91676079e-01\n",
      " 1.06247525e-01 1.87908473e-01 4.74313914e-01 7.61997317e-01\n",
      " 1.88460355e+00 8.26830723e-01 2.57449231e+00 1.10665772e-04\n",
      " 6.39697625e-01 2.85324807e+00 3.89228351e-03 4.02344782e-02\n",
      " 4.83663817e-01 4.80466959e-01 3.79938743e+00 1.29436153e+00\n",
      " 7.31513429e-01 1.45833822e-01 2.06186908e-05 7.12422086e-02\n",
      " 2.38137272e-03 2.35745444e-02 5.35802869e-01 2.11603289e+00\n",
      " 1.75448583e-02 4.66500082e-02 6.11628759e-01 1.13211588e+00\n",
      " 7.36164236e-01 4.81974637e-02 1.84825765e+00 2.63449765e+00\n",
      " 4.72565428e-02 5.93203689e+00 1.22866315e+00 2.69577609e+00\n",
      " 6.03136467e-01 7.85642420e-01 1.69217603e-01 7.84815799e-03\n",
      " 1.55827045e-01 1.86123742e+00 3.99895374e-01 3.26779163e-01\n",
      " 2.18818802e+00 7.42607645e-02 7.21884641e-01 2.95757776e+00\n",
      " 3.26550885e+00 7.47194373e-02 7.74527001e+00 2.85962592e-01\n",
      " 2.09453809e+00 2.86007463e-01 3.59667227e-01 1.39677071e-01\n",
      " 3.22855001e-01 1.35392756e+00 9.50171528e-01 4.95075543e-03\n",
      " 4.27915598e+00 1.19428714e+00 2.97847903e-01 1.16691915e+00\n",
      " 3.59206297e-01 2.08596616e+00 3.78905631e-01 2.10744039e-01\n",
      " 9.26266522e-01 4.77036610e+00 3.71181014e-02 1.06280637e+00\n",
      " 4.12661427e+00 1.19108315e-02 2.89102960e+00 1.46725613e+00\n",
      " 1.70615044e-01 1.31227097e-01 2.99233507e+00 1.14405048e+00\n",
      " 6.37404327e-01 1.51591196e-01 2.23954464e-01 6.25327014e-02\n",
      " 1.11223555e+00 9.37133997e-01 1.53194605e+00 7.66690460e-02\n",
      " 1.20998318e-01 1.85618956e-01 1.25497897e-01 6.45124791e-02\n",
      " 3.19772869e-01 6.13521527e-01 1.01529245e+00 1.41583684e-01\n",
      " 2.93909003e+00 9.53440254e-01 1.81381970e+00 3.20608528e+00\n",
      " 1.97468902e-01 4.13946839e-01 5.31440240e-01 2.07682536e+00\n",
      " 3.48016650e+00 1.37893391e+00 2.49998774e+00 4.19851716e-01\n",
      " 1.21475472e+00 5.15749269e-02 3.37592116e+00 2.35877415e-02\n",
      " 8.81839704e-01 5.22881870e-01 1.00523408e+00 1.04787475e+00\n",
      " 2.75467367e-01 1.32425678e-02 2.06748695e-01 5.12135421e-05\n",
      " 8.15086237e-02 7.68382944e-01 5.10919461e-05 1.80046042e+00\n",
      " 1.19086801e+00 1.01547237e+00 4.42516028e+00 2.02483131e-01\n",
      " 4.52588660e-01 1.28137571e+00 1.40314939e-01 1.83361242e+00\n",
      " 5.79518772e-01 2.73796500e-01 1.76392448e-02 4.45977537e-01\n",
      " 1.78903348e+00 5.75999790e-01 4.89746745e-01 1.52624195e+00\n",
      " 1.26551862e-05 2.05131793e-03 3.27280493e+00 2.66799451e+00\n",
      " 6.57495775e-01 1.62611642e+00 4.10974865e-01 3.39598106e-01\n",
      " 2.72368882e-01 2.09669496e+00 5.66936533e-01 5.10124205e-01\n",
      " 2.32999107e-01 5.28127091e-01 1.39026705e-01 1.11281976e-01\n",
      " 2.05117523e-03 2.56196613e+00 1.12573551e+00 2.70152559e-02\n",
      " 1.41885371e+00 1.99985015e-01 1.29327454e+00 1.04931604e+00\n",
      " 2.27705293e-01 6.79201298e-01 2.91768890e-02 1.26282475e-01\n",
      " 2.06331717e-01 7.09242971e-02 1.28659525e+00 6.19719321e-01\n",
      " 1.07545486e+00 3.42351505e-02 9.60372943e-02 8.38945055e-02\n",
      " 3.52432822e-02 1.32422342e-01 5.93109363e-01 6.45064901e-01\n",
      " 1.02344882e+00 3.74977036e+00 4.96391080e-01 8.97929773e-01\n",
      " 1.54433175e-01 1.46425893e+00 6.50324638e-03 1.38406511e-01\n",
      " 1.88650082e-01 8.87445601e-02 5.98359017e+00 1.15002858e+00\n",
      " 3.53506277e-01 5.85337497e+00 3.20977228e-01 1.24320671e-01\n",
      " 3.01825695e-01 8.66585410e-01 2.51077798e-01 1.50431593e+00\n",
      " 8.32458923e-01 5.21378853e-01 6.94822992e+00 1.32784513e+00\n",
      " 3.04045853e+00 1.01342509e+00 9.19830958e-01 9.39296125e-01\n",
      " 2.10049352e-01 2.46327404e-02 5.01261442e+00 6.88224888e-01\n",
      " 8.35254743e-02 6.62360615e-01 1.59910476e-01 1.23098126e-01\n",
      " 9.75310161e-02 1.31553305e+00 1.18127733e-01 5.80127539e-01\n",
      " 1.22381677e+00 1.27906906e+00 1.63954141e-01 4.45109827e+00\n",
      " 1.06764809e+00 3.20472314e-01 1.47260812e-01 5.28551932e-01\n",
      " 2.28681445e+00 1.31302297e+00 3.10436783e-02 2.23462007e-02\n",
      " 4.18868057e-01 7.31401448e-02 1.73287466e+00 1.49995324e-02\n",
      " 2.47177406e-01 3.96058664e-01 3.41651268e-04 3.67422698e-01\n",
      " 2.78993156e+00 3.10898788e-02 1.17597195e-02 2.06723945e+00\n",
      " 1.18269374e-01 2.57722703e+00 2.72288404e+00 1.47620396e+00\n",
      " 6.06884142e-01 9.24562889e+00 3.44918127e-01 1.89184539e-01\n",
      " 2.03554886e+00 1.15055747e-02 7.26693920e-01 4.88984945e-01\n",
      " 2.04331869e-01 5.68575377e-01 2.12173996e+00 3.20001285e+00\n",
      " 1.71530018e-01 5.67618511e-01 3.52400195e-04 1.17072003e+00\n",
      " 1.05576147e+01 3.27589966e-03 1.81740171e+00 1.35729651e-02\n",
      " 8.89325352e-01 7.24239022e-01 8.84463706e-02 3.66989724e-01\n",
      " 5.27477458e+00 3.33293827e+00 5.72266553e-01 5.61134224e-01\n",
      " 6.32651352e-02 2.22429200e-02 2.31923135e-01 1.68923936e+00\n",
      " 2.29427774e-01 1.54327118e+00 9.42979078e+00 1.18345772e-01\n",
      " 1.55691569e+00 4.88355148e-03 3.31568723e+00 8.81237629e-02\n",
      " 1.23050708e+00 3.41339916e-01 7.86414845e-01 2.58271091e-01\n",
      " 2.09105000e+00 7.57186615e-01 8.40352489e-03 4.23342504e+00\n",
      " 1.09230783e-02 5.08524746e-03 4.85277877e-01 3.57252976e-01\n",
      " 8.26193010e-01 1.87586268e-01 4.95000492e-02 5.11885147e-01\n",
      " 1.86198813e-03 1.69608452e-01 2.29013673e-01 3.76864006e-01\n",
      " 1.58777094e-01 3.04270714e+00 6.63987219e+00 3.10518141e-02\n",
      " 3.42257364e-01 1.74744757e-02 3.49711503e-02 1.90519237e-01\n",
      " 1.35283756e-02 1.10355882e-02 5.79005493e-01 6.13043700e-01\n",
      " 3.34709538e-01 3.24128698e-04 4.53289424e-04 4.15562170e-02\n",
      " 2.32797127e+00 1.04083292e-01 4.05101734e-02 3.35680988e+00\n",
      " 4.48029690e-02 1.08625098e-02 9.83073281e-02 1.31206737e+00\n",
      " 2.72333869e+00 3.47410492e-02 8.14645620e-01 1.52976047e+00\n",
      " 4.18446226e-03 2.74110280e+00 2.44995878e-01 1.59797282e+00\n",
      " 1.19106409e+00 2.54042639e-01 4.61963500e+00 5.61448817e-01\n",
      " 4.97660823e-01 1.37169102e-01 2.29063955e+00 3.79659846e-01\n",
      " 5.37474369e-02 5.66872959e-01 7.45513605e-04 2.21348327e+00\n",
      " 6.58710727e-01 1.04787460e-02 5.59247213e-01 1.11045976e-01\n",
      " 5.10923280e-01 2.93240505e-01 1.10454243e-01 5.65138449e-01\n",
      " 6.90937583e-01 1.60545394e-02 9.37263496e-01 4.81210167e-01\n",
      " 1.17785315e+00 6.87036691e-01 3.01596780e+00 3.38909288e-01\n",
      " 2.69380117e-01 9.03142487e-01 4.06303456e-01 3.38768915e-01\n",
      " 1.47549287e+00 1.49659221e+00 7.99971429e-01 1.66013031e-01\n",
      " 6.97981132e-02 5.03407293e-02 1.50599055e+00 2.39405273e-02\n",
      " 7.30544483e-02 1.21057448e-03 2.05650395e+00 3.78700903e-04\n",
      " 2.13810572e+00 3.63350250e-01 9.64828134e-01 5.73409369e-01\n",
      " 3.35489353e-02 1.60506738e-01 1.06865273e+00 1.33677856e+00\n",
      " 2.03832026e+00 4.26725181e-01 2.90616836e-01 2.38272941e-02\n",
      " 1.22079364e+00 1.33895844e+00 2.35359085e-01 3.99945918e-01\n",
      " 1.19030896e-01 2.48424515e-05 1.68148056e+00 1.77387545e+00\n",
      " 1.04882174e-02 9.01631653e-02 1.08460653e+00 1.39106367e+00\n",
      " 8.79298592e-01 3.40049137e-03 7.95875460e-02 4.61283503e-01\n",
      " 1.29971452e+00 2.34326260e+00 6.21683573e-01 1.12963183e-01\n",
      " 2.97999872e+00 1.08903329e-01 1.40910949e+00 5.09465876e-02\n",
      " 2.23157615e-01 5.41897569e-01 8.53912753e-02 1.25084704e+00\n",
      " 1.06856391e+00 1.04911338e+00 4.67679496e-01 3.70151502e-01\n",
      " 2.19128131e-01 2.72568292e+00 1.87630632e-01 1.80509126e-01\n",
      " 5.64621698e-02 3.72282630e-01 9.07264787e-02 3.76720078e-02\n",
      " 1.31996367e-04 2.03032893e+00 4.54309226e-02 9.64114105e-01\n",
      " 4.38090891e-01 9.31388061e-03 7.84626203e-01 9.04962802e-03\n",
      " 3.51508905e-01 8.69665963e-02 3.08828180e-01 4.24916054e-02\n",
      " 9.66221196e-01 3.05761026e-01 6.93246293e-01 7.27517158e-01\n",
      " 1.14774894e+00 1.31044454e+00 1.25343286e+00 6.68428741e-01\n",
      " 3.56474598e-01 4.94702898e-01 3.78442735e-01 3.03210483e-01\n",
      " 4.16606302e-02 1.72675938e-01 1.93764583e+00 1.22098870e+00\n",
      " 9.58287016e-01 4.70586072e-01 4.32308349e+00 1.55494719e+00\n",
      " 8.70517166e-01 1.99325213e-01 4.75289350e-01 8.12781088e-02\n",
      " 5.98695007e-01 9.84223362e-02 8.07675077e-02 3.32529967e+00\n",
      " 8.44471011e-01 8.56245119e-01 9.81733431e+00 3.27800897e-03\n",
      " 7.37520608e-01 1.08867928e+00 1.52934975e+00 1.06892174e-01\n",
      " 1.62102319e-01 1.73742538e-02 3.89346389e-01 1.34351270e+00\n",
      " 7.11827241e-02 3.79036772e-01 7.05218324e-01 2.65011098e+00\n",
      " 1.73680570e+00 5.17793077e-03 1.29293377e-01 1.11111119e-01\n",
      " 4.35668575e-03 1.98667277e+00 3.36650481e-01 1.61803047e+00\n",
      " 3.23089156e-01 1.20849940e+00 3.43180728e+00 9.20479949e-01\n",
      " 7.18266962e-02 1.32827841e-02 2.01289857e+00 3.71371551e-02\n",
      " 1.96947563e-02 2.31908207e-01 6.05120406e-01 6.54393781e-02\n",
      " 5.96677607e-03 6.06946113e+00 2.35049778e+00 6.19207355e-02\n",
      " 2.02548021e+00 4.15856345e-02 1.78570687e-01 3.49517854e-02\n",
      " 1.27761270e+00 6.00514106e-01 3.27663869e+00 2.47510426e-01\n",
      " 1.68810399e+00 5.09537974e+00 2.58321906e+00 4.70116898e-01\n",
      " 5.76618592e+00 3.10273165e-01 2.79498932e-03 4.58652693e-01\n",
      " 4.39619527e-01 1.13261718e+00 1.60211158e+00 1.60562177e+00\n",
      " 3.04384117e-03 9.87273259e-01 1.81626917e-01 1.60906599e-01\n",
      " 3.01985864e-01 1.26441744e-01 3.55083356e+00 9.13612026e+00\n",
      " 2.51062796e-03 5.98511480e-02 2.37531664e-03 3.50686326e-01\n",
      " 6.77294912e+00 9.02879977e-02 2.74100358e-04 1.14786085e+00\n",
      " 3.53955290e-02 2.14086828e+00 1.88912076e-02 2.51405512e-02\n",
      " 2.36043348e-02 1.36510475e+00 1.14573539e+00 3.82840189e-01\n",
      " 6.98899502e+00 1.69460694e-01 1.07814404e+00 1.40996625e-01\n",
      " 7.04381893e-02 2.75800358e+00 7.48898414e-02 6.90932434e-01\n",
      " 4.39370587e+00 4.52258050e-01 1.39099719e-01 6.60396354e-01\n",
      " 1.03584100e+00 1.75862237e-01 3.91354647e-01 6.14649714e-02\n",
      " 4.75029567e-03 6.92049341e-01 1.06927902e-05 5.38685968e+00\n",
      " 9.61015716e-02 1.03929047e+00 4.97053524e-01 1.10040276e-01\n",
      " 8.63162541e-02 1.06628608e+00 3.22937833e-01 6.28872940e-02\n",
      " 1.49836525e+00 1.50372286e-01 5.50235590e-01 9.36079973e-01\n",
      " 2.21075191e+00 4.69686686e-03 1.58533637e+00 2.97839688e-02\n",
      " 1.66156363e+00 3.89329469e-01 3.40675754e+00 2.83090615e+00\n",
      " 1.10299762e-01 6.05725563e-01 6.08204897e-02 1.75550017e-01\n",
      " 6.15872106e-01 2.10640262e-04 3.70579735e-02 6.25345273e-01\n",
      " 1.99641820e-01 3.92324034e-02 2.38567848e+00 1.28505572e-01\n",
      " 1.35362655e-02 5.09239667e-01 3.70046264e+00 1.78324415e+00\n",
      " 1.45121205e-01 4.11463148e-01 6.85772172e-01 3.58225224e+00\n",
      " 2.71236230e-02 4.56110018e-02 9.90664961e-02 3.75524366e+00\n",
      " 2.50719927e+00 1.79620951e-01 4.95049988e-01 5.05651523e-01\n",
      " 1.08515189e-02 3.84412908e-01 6.77598281e-01 1.66060703e+00\n",
      " 6.45332957e-04 6.18806150e-01 1.10837943e+00 5.93514150e-01\n",
      " 1.30261054e-01 1.51470414e+00 4.07906426e-01 6.26109452e-01\n",
      " 8.36509391e-01 2.47085073e-01 7.36242065e-01 3.12079432e-02\n",
      " 8.11715333e-02 2.13609339e+00 1.40325653e+00 6.69673097e-01\n",
      " 9.68429092e-02 2.52664211e+00 4.88028292e-02 1.61745888e+00\n",
      " 7.88895764e+00 2.59428193e-02 2.76187218e-01 1.90150031e-01\n",
      " 1.77589309e+00 4.49591752e-01 6.47009934e-01 1.89722198e+00\n",
      " 5.50193269e-02 5.25716700e+00 5.43231820e-01 4.74923305e-01\n",
      " 3.77691798e+00 1.39692931e+00 4.09185580e-02 1.81372740e-01\n",
      " 9.10093222e-01 3.94059138e-04 1.15557736e-03 7.73830520e-01\n",
      " 7.00185290e-01 1.12045314e-01 7.34300928e-01 1.83004870e-01\n",
      " 3.40325488e+00 5.03797532e-01 3.88812534e+00 1.19461825e-01\n",
      " 6.25207012e-01 7.45207876e-01 1.88652473e-01 2.12282271e+00\n",
      " 1.69892897e+00 4.34399236e+00 6.41085098e-02 8.96927428e-01\n",
      " 1.96119237e+00 2.60400192e+00 1.13497251e+00 4.22275536e+00\n",
      " 3.19648990e-01 1.99565193e+00 5.60141023e-01 2.78926481e-03\n",
      " 1.44323585e+00 2.15607333e+00 3.51082048e+00 3.09516354e-01\n",
      " 7.39064260e-01 4.33313861e-01 5.22806750e-02 2.75369073e+00\n",
      " 1.09803069e+00 7.17805600e-02 1.36392981e+00 2.56218618e+00\n",
      " 6.45481240e-03 1.21825932e+00 2.46738694e-02 1.17161369e-01\n",
      " 1.82479388e-01 9.31808301e-03 4.03291020e-01 6.28702883e-01\n",
      " 2.04788705e-02 1.69093851e+00 1.88753222e+00 1.38874357e-01\n",
      " 1.03014825e-05 3.23374632e-01 4.47071171e-02 1.00055071e-01\n",
      " 3.27528174e+00 1.87305696e-02 6.19122699e-01 3.80925101e-01\n",
      " 7.23567229e-01 3.76905319e-06 1.65097630e-02 1.35461950e+00\n",
      " 3.47834139e-01 1.16768873e+00 1.90689405e-01 5.74873128e-02\n",
      " 8.98783568e-03 2.70784081e-05 1.57477549e-02 2.44174748e+00\n",
      " 9.40923672e-01 2.83984581e-01 7.80696970e-02 2.22779606e+00\n",
      " 1.00604598e-01 6.68383413e+00 1.37534795e+00 7.06706505e-01\n",
      " 2.00052296e+00 3.70923325e-01 1.78142965e-02 8.22623339e-02\n",
      " 7.69582430e-01 2.87790459e+00 7.48095289e-01 5.57772291e-01\n",
      " 1.74956753e-01 8.89185020e-02 2.62170843e-07 6.05365475e-01\n",
      " 3.31285985e+00 2.57801236e-03 3.57132553e-01 1.42266800e+00\n",
      " 5.45474652e-04 1.39819414e-01 1.20816679e-01 3.23111965e-03\n",
      " 1.32745215e+00 2.51762464e+00 7.96990178e-01 5.98898273e-02\n",
      " 2.07595808e-06 3.86390147e-01 1.84645992e+00 4.72608872e-03\n",
      " 5.19923601e-01 3.53373110e-01 3.13797530e-03 7.51001307e-01\n",
      " 4.77889797e+00 2.41792533e-02 6.29971103e-03 1.33597873e+00\n",
      " 2.94415913e-02 2.89133383e+00 2.68307866e-01 1.70415616e+00\n",
      " 3.01750761e+00 1.10408670e+00 5.51964973e-01 1.59269843e-01\n",
      " 5.78904446e+00 1.67600498e-01 5.40874143e-01 2.35144856e-01\n",
      " 4.43135058e-03 4.22475112e-01 3.76305948e-02 1.71991209e+00\n",
      " 2.73512271e+00 8.15703328e-01 3.12338963e+00 5.68279210e-03\n",
      " 7.08494670e-01 6.14780519e-02 5.31558696e-05 7.00259817e-04\n",
      " 7.33228888e-01 3.85366933e-01 1.97393943e+00 6.97924063e-01\n",
      " 1.09569512e+00 2.27952491e+00 2.96106957e-02 9.79122778e-01\n",
      " 4.16416942e-01 5.80937714e-01 7.86444570e-01 4.55606721e-01\n",
      " 9.86047904e-02 3.95949849e-03 1.50603972e-01 6.02079872e-03\n",
      " 3.17194184e+00 1.05337496e+00 5.32855136e-02 5.44977870e-01\n",
      " 3.42492148e-01 9.87473692e-01 1.84044563e-02 2.07545527e+00\n",
      " 2.98594972e-01 8.48010346e-01 1.39455275e+00 1.35287857e-03\n",
      " 1.75614625e-04 1.41729906e-01 9.64832762e-01 5.27686330e-01\n",
      " 1.72751692e+00 7.15331332e-01 3.83716204e-01 9.73809825e-01\n",
      " 5.09735617e-01 9.04214166e+00 2.33206169e+00 2.90730129e-01\n",
      " 1.13677419e+00 7.30176611e-01 7.85697238e-02 7.27119027e-01\n",
      " 1.93463033e+00 6.90173584e-01 2.18706675e-01 4.41835954e-01\n",
      " 2.27367309e+00 1.75138769e-01 2.43720899e+00 1.89024760e-01\n",
      " 3.32226888e+00 1.55644488e-01 4.88245392e-01 5.72261246e-02\n",
      " 3.51853363e-01 7.72578898e-01 1.42640114e+00 1.62514629e-01\n",
      " 3.51957552e-01 1.61805714e-01 1.92985998e+00 7.55859204e-01]\n"
     ]
    }
   ],
   "source": [
    "a=random.chisquare(df=1,size=1000)\n",
    "print(a)"
   ]
  },
  {
   "cell_type": "markdown",
   "id": "0f62401b",
   "metadata": {},
   "source": [
    "# Rayleigh distribution\n",
    "\n",
    "It is used for signal processing\n",
    "It has 2 arguments 1.Scale(SD) # default=1 2.Size"
   ]
  },
  {
   "cell_type": "code",
   "execution_count": 106,
   "id": "5b524545",
   "metadata": {},
   "outputs": [
    {
     "name": "stderr",
     "output_type": "stream",
     "text": [
      "C:\\Users\\sabth\\AppData\\Local\\Temp\\ipykernel_2960\\47640260.py:2: UserWarning: \n",
      "\n",
      "`distplot` is a deprecated function and will be removed in seaborn v0.14.0.\n",
      "\n",
      "Please adapt your code to use either `displot` (a figure-level function with\n",
      "similar flexibility) or `kdeplot` (an axes-level function for kernel density plots).\n",
      "\n",
      "For a guide to updating your code to use the new functions, please see\n",
      "https://gist.github.com/mwaskom/de44147ed2974457ad6372750bbe5751\n",
      "\n",
      "  sb.distplot(a,hist=False)\n"
     ]
    },
    {
     "data": {
      "image/png": "[encoded data removed]",
      "text/plain": [
       "<Figure size 640x480 with 1 Axes>"
      ]
     },
     "metadata": {},
     "output_type": "display_data"
    }
   ],
   "source": [
    "a=random.rayleigh(size=1000)\n",
    "sb.distplot(a,hist=False)\n",
    "plt.show()"
   ]
  },
  {
   "cell_type": "markdown",
   "id": "622c917b",
   "metadata": {},
   "source": [
    "# Pareto distribution\n",
    "\n",
    "It is known as 80-20 distribution\n",
    "20% factors cause 80% outcomes\n",
    "It has 2 arguments 1.Shape of the argument 2.Size"
   ]
  },
  {
   "cell_type": "code",
   "execution_count": 107,
   "id": "f8951a7d",
   "metadata": {},
   "outputs": [
    {
     "name": "stderr",
     "output_type": "stream",
     "text": [
      "C:\\Users\\sabth\\AppData\\Local\\Temp\\ipykernel_2960\\3999569615.py:2: UserWarning: \n",
      "\n",
      "`distplot` is a deprecated function and will be removed in seaborn v0.14.0.\n",
      "\n",
      "Please adapt your code to use either `displot` (a figure-level function with\n",
      "similar flexibility) or `histplot` (an axes-level function for histograms).\n",
      "\n",
      "For a guide to updating your code to use the new functions, please see\n",
      "https://gist.github.com/mwaskom/de44147ed2974457ad6372750bbe5751\n",
      "\n",
      "  sb.distplot(a,kde=False)\n"
     ]
    },
    {
     "data": {
      "image/png": "[encoded data removed]",
      "text/plain": [
       "<Figure size 640x480 with 1 Axes>"
      ]
     },
     "metadata": {},
     "output_type": "display_data"
    }
   ],
   "source": [
    "a=random.pareto(a=2,size=1000)\n",
    "sb.distplot(a,kde=False)\n",
    "plt.show()"
   ]
  },
  {
   "cell_type": "markdown",
   "id": "c24a98bb",
   "metadata": {},
   "source": [
    "# zipf distribution zips law\n",
    "\n",
    "In a collection nth common term is 1/n times of the most common term\n",
    "Ex:Fifth most common word in English occurs nearly 1/5 times often as most common word\n",
    "It has 2 arguments 1.a(distribution parameter) 2.size"
   ]
  },
  {
   "cell_type": "code",
   "execution_count": 108,
   "id": "90357efe",
   "metadata": {},
   "outputs": [
    {
     "name": "stderr",
     "output_type": "stream",
     "text": [
      "C:\\Users\\sabth\\AppData\\Local\\Temp\\ipykernel_2960\\1448031780.py:2: UserWarning: \n",
      "\n",
      "`distplot` is a deprecated function and will be removed in seaborn v0.14.0.\n",
      "\n",
      "Please adapt your code to use either `displot` (a figure-level function with\n",
      "similar flexibility) or `histplot` (an axes-level function for histograms).\n",
      "\n",
      "For a guide to updating your code to use the new functions, please see\n",
      "https://gist.github.com/mwaskom/de44147ed2974457ad6372750bbe5751\n",
      "\n",
      "  sb.distplot(a[a<10],kde=False)\n"
     ]
    },
    {
     "data": {
      "image/png": "[encoded data removed]",
      "text/plain": [
       "<Figure size 640x480 with 1 Axes>"
      ]
     },
     "metadata": {},
     "output_type": "display_data"
    }
   ],
   "source": [
    "a=random.zipf(a=2,size=1000)\n",
    "sb.distplot(a[a<10],kde=False)\n",
    "plt.show()"
   ]
  },
  {
   "cell_type": "code",
   "execution_count": null,
   "id": "1cc712be",
   "metadata": {},
   "outputs": [],
   "source": []
  }
 ],
 "metadata": {
  "kernelspec": {
   "display_name": "Python 3 (ipykernel)",
   "language": "python",
   "name": "python3"
  },
  "language_info": {
   "codemirror_mode": {
    "name": "ipython",
    "version": 3
   },
   "file_extension": ".py",
   "mimetype": "text/x-python",
   "name": "python",
   "nbconvert_exporter": "python",
   "pygments_lexer": "ipython3",
   "version": "3.11.5"
  }
 },
 "nbformat": 4,
 "nbformat_minor": 5
}
