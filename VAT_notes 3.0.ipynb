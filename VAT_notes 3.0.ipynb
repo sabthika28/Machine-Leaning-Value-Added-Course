{
 "cells": [
  {
   "cell_type": "markdown",
   "id": "00c27faf",
   "metadata": {},
   "source": [
    "# Machine Learning"
   ]
  },
  {
   "cell_type": "markdown",
   "id": "946b5fa5",
   "metadata": {},
   "source": [
    "t is a branch of AI.\n",
    "Machine learning is a program by which a computer learn and analyse data and predict the outcome.\n",
    "To analyse data we must have an idea about datatypes.\n",
    "Datatypes can be classified into 3 main categories\n",
    "   1.Numerical\n",
    "   2.Categorical \n",
    "   3.Ordinal Numerical"
   ]
  },
  {
   "cell_type": "markdown",
   "id": "3386d79f",
   "metadata": {},
   "source": [
    "# Numerical\n",
    "   It deals with numbers.There are two types 1.Discrete data - numbers are limited to integers Ex:age of a person 2.Continuous data - numbers that are not of finite Ex:price of an item\n"
   ]
  },
  {
   "cell_type": "markdown",
   "id": "535b4dc8",
   "metadata": {},
   "source": [
    "# Categorical data\n",
    "It cannot be measured against each other. Ex:Yes or No,colour"
   ]
  },
  {
   "cell_type": "markdown",
   "id": "ac3d820c",
   "metadata": {},
   "source": [
    "# Ordinal\n",
    "\n",
    "It is similar to categorical data but can be measured against each other.\n",
    "Ex:Grades of students"
   ]
  },
  {
   "cell_type": "markdown",
   "id": "5b2826c3",
   "metadata": {},
   "source": [
    "# Basics of Statistics\n",
    "\n",
    "1.Mean\n",
    "2.Median\n",
    "3.Mode"
   ]
  },
  {
   "cell_type": "code",
   "execution_count": 1,
   "id": "4a12cf5b",
   "metadata": {},
   "outputs": [
    {
     "name": "stdout",
     "output_type": "stream",
     "text": [
      "Package                       Version\n",
      "----------------------------- ---------------\n",
      "aiobotocore                   2.5.0\n",
      "aiofiles                      22.1.0\n",
      "aiohttp                       3.8.5\n",
      "aioitertools                  0.7.1\n",
      "aiosignal                     1.2.0\n",
      "aiosqlite                     0.18.0\n",
      "alabaster                     0.7.12\n",
      "anaconda-anon-usage           0.4.2\n",
      "anaconda-catalogs             0.2.0\n",
      "anaconda-client               1.12.1\n",
      "anaconda-cloud-auth           0.1.3\n",
      "anaconda-navigator            2.5.0\n",
      "anaconda-project              0.11.1\n",
      "anyio                         3.5.0\n",
      "appdirs                       1.4.4\n",
      "argon2-cffi                   21.3.0\n",
      "argon2-cffi-bindings          21.2.0\n",
      "arrow                         1.2.3\n",
      "astroid                       2.14.2\n",
      "astropy                       5.1\n",
      "asttokens                     2.0.5\n",
      "async-timeout                 4.0.2\n",
      "atomicwrites                  1.4.0\n",
      "attrs                         22.1.0\n",
      "Automat                       20.2.0\n",
      "autopep8                      1.6.0\n",
      "Babel                         2.11.0\n",
      "backcall                      0.2.0\n",
      "backports.functools-lru-cache 1.6.4\n",
      "backports.tempfile            1.0\n",
      "backports.weakref             1.0.post1\n",
      "bcrypt                        3.2.0\n",
      "beautifulsoup4                4.12.2\n",
      "binaryornot                   0.4.4\n",
      "black                         0.0\n",
      "bleach                        4.1.0\n",
      "bokeh                         3.2.1\n",
      "boltons                       23.0.0\n",
      "botocore                      1.29.76\n",
      "Bottleneck                    1.3.5\n",
      "brotlipy                      0.7.0\n",
      "camelcase                     0.2\n",
      "certifi                       2023.7.22\n",
      "cffi                          1.15.1\n",
      "chardet                       4.0.0\n",
      "charset-normalizer            2.0.4\n",
      "click                         8.0.4\n",
      "cloudpickle                   2.2.1\n",
      "clyent                        1.2.2\n",
      "colorama                      0.4.6\n",
      "colorcet                      3.0.1\n",
      "comm                          0.1.2\n",
      "conda                         23.7.4\n",
      "conda-build                   3.26.1\n",
      "conda-content-trust           0.2.0\n",
      "conda_index                   0.3.0\n",
      "conda-libmamba-solver         23.7.0\n",
      "conda-pack                    0.6.0\n",
      "conda-package-handling        2.2.0\n",
      "conda_package_streaming       0.9.0\n",
      "conda-repo-cli                1.0.75\n",
      "conda-token                   0.4.0\n",
      "conda-verify                  3.4.2\n",
      "constantly                    15.1.0\n",
      "contourpy                     1.0.5\n",
      "cookiecutter                  1.7.3\n",
      "cryptography                  41.0.3\n",
      "cssselect                     1.1.0\n",
      "cycler                        0.11.0\n",
      "cytoolz                       0.12.0\n",
      "daal4py                       2023.1.1\n",
      "dask                          2023.6.0\n",
      "datasets                      2.12.0\n",
      "datashader                    0.15.2\n",
      "datashape                     0.5.4\n",
      "debugpy                       1.6.7\n",
      "decorator                     5.1.1\n",
      "defusedxml                    0.7.1\n",
      "diff-match-patch              20200713\n",
      "dill                          0.3.6\n",
      "distributed                   2023.6.0\n",
      "docstring-to-markdown         0.11\n",
      "docutils                      0.18.1\n",
      "entrypoints                   0.4\n",
      "et-xmlfile                    1.1.0\n",
      "executing                     0.8.3\n",
      "fastjsonschema                2.16.2\n",
      "filelock                      3.9.0\n",
      "flake8                        6.0.0\n",
      "Flask                         2.2.2\n",
      "fonttools                     4.25.0\n",
      "frozenlist                    1.3.3\n",
      "fsspec                        2023.4.0\n",
      "future                        0.18.3\n",
      "gensim                        4.3.0\n",
      "glob2                         0.7\n",
      "greenlet                      2.0.1\n",
      "h5py                          3.9.0\n",
      "HeapDict                      1.0.1\n",
      "holoviews                     1.17.1\n",
      "huggingface-hub               0.15.1\n",
      "hvplot                        0.8.4\n",
      "hyperlink                     21.0.0\n",
      "idna                          3.4\n",
      "imagecodecs                   2023.1.23\n",
      "imageio                       2.26.0\n",
      "imagesize                     1.4.1\n",
      "imbalanced-learn              0.10.1\n",
      "importlib-metadata            6.0.0\n",
      "incremental                   21.3.0\n",
      "inflection                    0.5.1\n",
      "iniconfig                     1.1.1\n",
      "intake                        0.6.8\n",
      "intervaltree                  3.1.0\n",
      "ipykernel                     6.25.0\n",
      "ipython                       8.15.0\n",
      "ipython-genutils              0.2.0\n",
      "ipywidgets                    8.0.4\n",
      "isort                         5.9.3\n",
      "itemadapter                   0.3.0\n",
      "itemloaders                   1.0.4\n",
      "itsdangerous                  2.0.1\n",
      "jaraco.classes                3.2.1\n",
      "jedi                          0.18.1\n",
      "jellyfish                     1.0.1\n",
      "Jinja2                        3.1.2\n",
      "jinja2-time                   0.2.0\n",
      "jmespath                      0.10.0\n",
      "joblib                        1.2.0\n",
      "json5                         0.9.6\n",
      "jsonpatch                     1.32\n",
      "jsonpointer                   2.1\n",
      "jsonschema                    4.17.3\n",
      "jupyter                       1.0.0\n",
      "jupyter_client                7.4.9\n",
      "jupyter-console               6.6.3\n",
      "jupyter_core                  5.3.0\n",
      "jupyter-events                0.6.3\n",
      "jupyter-server                1.23.4\n",
      "jupyter_server_fileid         0.9.0\n",
      "jupyter_server_ydoc           0.8.0\n",
      "jupyter-ydoc                  0.2.4\n",
      "jupyterlab                    3.6.3\n",
      "jupyterlab-pygments           0.1.2\n",
      "jupyterlab_server             2.22.0\n",
      "jupyterlab-widgets            3.0.5\n",
      "kaleido                       0.2.1\n",
      "keyring                       23.13.1\n",
      "kiwisolver                    1.4.4\n",
      "lazy_loader                   0.2\n",
      "lazy-object-proxy             1.6.0\n",
      "libarchive-c                  2.9\n",
      "libmambapy                    1.5.1\n",
      "linkify-it-py                 2.0.0\n",
      "llvmlite                      0.40.0\n",
      "lmdb                          1.4.1\n",
      "locket                        1.0.0\n",
      "lxml                          4.9.3\n",
      "lz4                           4.3.2\n",
      "Markdown                      3.4.1\n",
      "markdown-it-py                2.2.0\n",
      "MarkupSafe                    2.1.1\n",
      "matplotlib                    3.7.2\n",
      "matplotlib-inline             0.1.6\n",
      "mccabe                        0.7.0\n",
      "mdit-py-plugins               0.3.0\n",
      "mdurl                         0.1.0\n",
      "menuinst                      1.4.19\n",
      "mistune                       0.8.4\n",
      "mkl-fft                       1.3.8\n",
      "mkl-random                    1.2.4\n",
      "mkl-service                   2.4.0\n",
      "more-itertools                8.12.0\n",
      "mpmath                        1.3.0\n",
      "msgpack                       1.0.3\n",
      "multidict                     6.0.2\n",
      "multipledispatch              0.6.0\n",
      "multiprocess                  0.70.14\n",
      "munkres                       1.1.4\n",
      "mypy-extensions               1.0.0\n",
      "navigator-updater             0.4.0\n",
      "nbclassic                     0.5.5\n",
      "nbclient                      0.5.13\n",
      "nbconvert                     6.5.4\n",
      "nbformat                      5.9.2\n",
      "nest-asyncio                  1.5.6\n",
      "networkx                      3.1\n",
      "nltk                          3.8.1\n",
      "notebook                      6.5.4\n",
      "notebook_shim                 0.2.2\n",
      "numba                         0.57.1\n",
      "numexpr                       2.8.4\n",
      "numpy                         1.24.3\n",
      "numpydoc                      1.5.0\n",
      "openpyxl                      3.0.10\n",
      "packaging                     23.1\n",
      "pandas                        2.0.3\n",
      "pandocfilters                 1.5.0\n",
      "panel                         1.2.3\n",
      "param                         1.13.0\n",
      "paramiko                      2.8.1\n",
      "parsel                        1.6.0\n",
      "parso                         0.8.3\n",
      "partd                         1.4.0\n",
      "pathlib                       1.0.1\n",
      "pathspec                      0.10.3\n",
      "patsy                         0.5.3\n",
      "pep8                          1.7.1\n",
      "pexpect                       4.8.0\n",
      "pickleshare                   0.7.5\n",
      "Pillow                        9.4.0\n",
      "pip                           23.2.1\n",
      "pkce                          1.0.3\n",
      "pkginfo                       1.9.6\n",
      "platformdirs                  3.10.0\n",
      "plotly                        5.9.0\n",
      "pluggy                        1.0.0\n",
      "ply                           3.11\n",
      "poyo                          0.5.0\n",
      "prometheus-client             0.14.1\n",
      "prompt-toolkit                3.0.36\n",
      "Protego                       0.1.16\n",
      "psutil                        5.9.0\n",
      "ptyprocess                    0.7.0\n",
      "pure-eval                     0.2.2\n",
      "py-cpuinfo                    8.0.0\n",
      "pyarrow                       11.0.0\n",
      "pyasn1                        0.4.8\n",
      "pyasn1-modules                0.2.8\n",
      "pycodestyle                   2.10.0\n",
      "pycosat                       0.6.4\n",
      "pycparser                     2.21\n",
      "pyct                          0.5.0\n",
      "pycurl                        7.45.2\n",
      "pydantic                      1.10.8\n",
      "PyDispatcher                  2.0.5\n",
      "pydocstyle                    6.3.0\n",
      "pyerfa                        2.0.0\n",
      "pyflakes                      3.0.1\n",
      "Pygments                      2.15.1\n",
      "PyJWT                         2.4.0\n",
      "pylint                        2.16.2\n",
      "pylint-venv                   2.3.0\n",
      "pyls-spyder                   0.4.0\n",
      "PyNaCl                        1.5.0\n",
      "pyodbc                        4.0.34\n",
      "pyOpenSSL                     23.2.0\n",
      "pyparsing                     3.0.9\n",
      "PyQt5                         5.15.7\n",
      "PyQt5-sip                     12.11.0\n",
      "PyQtWebEngine                 5.15.4\n",
      "pyrsistent                    0.18.0\n",
      "PySocks                       1.7.1\n",
      "pytest                        7.4.0\n",
      "python-dateutil               2.8.2\n",
      "python-dotenv                 0.21.0\n",
      "python-json-logger            2.0.7\n",
      "python-lsp-black              1.2.1\n",
      "python-lsp-jsonrpc            1.0.0\n",
      "python-lsp-server             1.7.2\n",
      "python-slugify                5.0.2\n",
      "python-snappy                 0.6.1\n",
      "pytoolconfig                  1.2.5\n",
      "pytz                          2023.3.post1\n",
      "pyviz-comms                   2.3.0\n",
      "PyWavelets                    1.4.1\n",
      "pywin32                       305.1\n",
      "pywin32-ctypes                0.2.0\n",
      "pywinpty                      2.0.10\n",
      "PyYAML                        6.0\n",
      "pyzmq                         23.2.0\n",
      "QDarkStyle                    3.0.2\n",
      "qstylizer                     0.2.2\n",
      "QtAwesome                     1.2.2\n",
      "qtconsole                     5.4.2\n",
      "QtPy                          2.2.0\n",
      "queuelib                      1.5.0\n",
      "regex                         2022.7.9\n",
      "requests                      2.31.0\n",
      "requests-file                 1.5.1\n",
      "requests-toolbelt             1.0.0\n",
      "responses                     0.13.3\n",
      "rfc3339-validator             0.1.4\n",
      "rfc3986-validator             0.1.1\n",
      "rope                          1.7.0\n",
      "Rtree                         1.0.1\n",
      "ruamel.yaml                   0.17.21\n",
      "ruamel-yaml-conda             0.17.21\n",
      "s3fs                          2023.4.0\n",
      "safetensors                   0.3.2\n",
      "scikit-image                  0.20.0\n",
      "scikit-learn                  1.3.0\n",
      "scikit-learn-intelex          20230426.121932\n",
      "scipy                         1.11.1\n",
      "Scrapy                        2.8.0\n",
      "seaborn                       0.12.2\n",
      "Send2Trash                    1.8.0\n",
      "service-identity              18.1.0\n",
      "setuptools                    68.0.0\n",
      "sip                           6.6.2\n",
      "six                           1.16.0\n",
      "smart-open                    5.2.1\n",
      "sniffio                       1.2.0\n",
      "snowballstemmer               2.2.0\n",
      "sortedcontainers              2.4.0\n",
      "soupsieve                     2.4\n",
      "Sphinx                        5.0.2\n",
      "sphinxcontrib-applehelp       1.0.2\n",
      "sphinxcontrib-devhelp         1.0.2\n",
      "sphinxcontrib-htmlhelp        2.0.0\n",
      "sphinxcontrib-jsmath          1.0.1\n",
      "sphinxcontrib-qthelp          1.0.3\n",
      "sphinxcontrib-serializinghtml 1.1.5\n",
      "spyder                        5.4.3\n",
      "spyder-kernels                2.4.4\n",
      "SQLAlchemy                    1.4.39\n",
      "stack-data                    0.2.0\n",
      "statsmodels                   0.14.0\n",
      "sympy                         1.11.1\n",
      "tables                        3.8.0\n",
      "tabulate                      0.8.10\n",
      "TBB                           0.2\n",
      "tblib                         1.7.0\n",
      "tenacity                      8.2.2\n",
      "terminado                     0.17.1\n",
      "text-unidecode                1.3\n",
      "textdistance                  4.2.1\n",
      "threadpoolctl                 2.2.0\n",
      "three-merge                   0.1.1\n",
      "tifffile                      2023.4.12\n",
      "tinycss2                      1.2.1\n",
      "tldextract                    3.2.0\n",
      "tokenizers                    0.13.2\n",
      "toml                          0.10.2\n",
      "tomlkit                       0.11.1\n",
      "toolz                         0.12.0\n",
      "tornado                       6.3.2\n",
      "tqdm                          4.65.0\n",
      "traitlets                     5.7.1\n",
      "transformers                  4.32.1\n",
      "Twisted                       22.10.0\n",
      "twisted-iocpsupport           1.0.2\n",
      "typing_extensions             4.7.1\n",
      "tzdata                        2023.3\n",
      "uc-micro-py                   1.0.1\n",
      "ujson                         5.4.0\n",
      "Unidecode                     1.2.0\n",
      "urllib3                       1.26.16\n",
      "w3lib                         1.21.0\n",
      "watchdog                      2.1.6\n",
      "wcwidth                       0.2.5\n",
      "webencodings                  0.5.1\n",
      "websocket-client              0.58.0\n",
      "Werkzeug                      2.2.3\n",
      "whatthepatch                  1.0.2\n",
      "wheel                         0.38.4\n",
      "widgetsnbextension            4.0.5\n",
      "win-inet-pton                 1.1.0\n",
      "wrapt                         1.14.1\n",
      "xarray                        2023.6.0\n",
      "xlwings                       0.29.1\n",
      "xxhash                        2.0.2\n",
      "xyzservices                   2022.9.0\n",
      "y-py                          0.5.9\n",
      "yapf                          0.31.0\n",
      "yarl                          1.8.1\n",
      "ypy-websocket                 0.8.2\n",
      "zict                          2.2.0\n",
      "zipp                          3.11.0\n",
      "zope.interface                5.4.0\n",
      "zstandard                     0.19.0\n",
      "Note: you may need to restart the kernel to use updated packages.\n"
     ]
    }
   ],
   "source": [
    "pip list # to check scipy  "
   ]
  },
  {
   "cell_type": "code",
   "execution_count": 2,
   "id": "9e5a3d40",
   "metadata": {},
   "outputs": [
    {
     "data": {
      "text/plain": [
       "225.3"
      ]
     },
     "execution_count": 2,
     "metadata": {},
     "output_type": "execute_result"
    }
   ],
   "source": [
    "import numpy as np\n",
    "a=np.array([15,80,68,180,600,90,240,320,160,500])\n",
    "np.mean(a)"
   ]
  },
  {
   "cell_type": "code",
   "execution_count": 3,
   "id": "88dcb2d4",
   "metadata": {},
   "outputs": [
    {
     "data": {
      "text/plain": [
       "50.0"
      ]
     },
     "execution_count": 3,
     "metadata": {},
     "output_type": "execute_result"
    }
   ],
   "source": [
    "a=np.array([15,80,68,18,60,90,24,32,16,50,67])\n",
    "np.median(a)"
   ]
  },
  {
   "cell_type": "code",
   "execution_count": 4,
   "id": "eecd86df",
   "metadata": {},
   "outputs": [
    {
     "name": "stdout",
     "output_type": "stream",
     "text": [
      "ModeResult(mode=4, count=5)\n"
     ]
    }
   ],
   "source": [
    "from scipy import stats\n",
    "import numpy as np\n",
    "a=[4,7,8,5,4,9,4,4,2,4,10,3]\n",
    "b=stats.mode(a)\n",
    "print(b)"
   ]
  },
  {
   "cell_type": "markdown",
   "id": "f7c62d3f",
   "metadata": {},
   "source": [
    "# Standard deviation\n",
    "\n",
    "It describes how the values spread out. Low SD means most numbers are close to the mean. High SD means the values spread out over a wide range."
   ]
  },
  {
   "cell_type": "code",
   "execution_count": 5,
   "id": "5dd10ba6",
   "metadata": {},
   "outputs": [
    {
     "name": "stdout",
     "output_type": "stream",
     "text": [
      "50.0\n",
      "27.55358415887124\n"
     ]
    },
    {
     "name": "stderr",
     "output_type": "stream",
     "text": [
      "C:\\Users\\sabth\\AppData\\Local\\Temp\\ipykernel_13464\\2032213887.py:8: UserWarning: \n",
      "\n",
      "`distplot` is a deprecated function and will be removed in seaborn v0.14.0.\n",
      "\n",
      "Please adapt your code to use either `displot` (a figure-level function with\n",
      "similar flexibility) or `kdeplot` (an axes-level function for kernel density plots).\n",
      "\n",
      "For a guide to updating your code to use the new functions, please see\n",
      "https://gist.github.com/mwaskom/de44147ed2974457ad6372750bbe5751\n",
      "\n",
      "  sb.distplot(a,hist=False)\n"
     ]
    },
    {
     "data": {
      "image/png": "[encoded data removed]",
      "text/plain": [
       "<Figure size 640x480 with 1 Axes>"
      ]
     },
     "metadata": {},
     "output_type": "display_data"
    }
   ],
   "source": [
    "import numpy as np\n",
    "import matplotlib.pyplot as plt\n",
    "import seaborn as sb\n",
    "a=np.array([70,85,57,92,25,64,39,48,12,8])\n",
    "sd=np.std(a)\n",
    "print(np.mean(a))\n",
    "print(sd)\n",
    "sb.distplot(a,hist=False)\n",
    "plt.show()"
   ]
  },
  {
   "cell_type": "markdown",
   "id": "56197a20",
   "metadata": {},
   "source": [
    "# Variance\n",
    "\n",
    "variance = SD * SD\n",
    "Another way to find out how the values spread out."
   ]
  },
  {
   "cell_type": "code",
   "execution_count": 6,
   "id": "edfa52ee",
   "metadata": {},
   "outputs": [
    {
     "name": "stdout",
     "output_type": "stream",
     "text": [
      "50.0\n",
      "759.2\n"
     ]
    },
    {
     "name": "stderr",
     "output_type": "stream",
     "text": [
      "C:\\Users\\sabth\\AppData\\Local\\Temp\\ipykernel_13464\\2973899413.py:5: UserWarning: \n",
      "\n",
      "`distplot` is a deprecated function and will be removed in seaborn v0.14.0.\n",
      "\n",
      "Please adapt your code to use either `displot` (a figure-level function with\n",
      "similar flexibility) or `kdeplot` (an axes-level function for kernel density plots).\n",
      "\n",
      "For a guide to updating your code to use the new functions, please see\n",
      "https://gist.github.com/mwaskom/de44147ed2974457ad6372750bbe5751\n",
      "\n",
      "  sb.distplot(a,hist=False)\n"
     ]
    },
    {
     "data": {
      "image/png": "[encoded data removed]",
      "text/plain": [
       "<Figure size 640x480 with 1 Axes>"
      ]
     },
     "metadata": {},
     "output_type": "display_data"
    }
   ],
   "source": [
    "a=np.array([70,85,57,92,25,64,39,48,12,8])\n",
    "v=np.var(a)\n",
    "print(np.mean(a))\n",
    "print(v)\n",
    "sb.distplot(a,hist=False)\n",
    "plt.show()"
   ]
  },
  {
   "cell_type": "markdown",
   "id": "92d69991",
   "metadata": {},
   "source": [
    "# Percentile\n",
    "\n",
    "Use a number that describes a value that a given percent of the values are lower than."
   ]
  },
  {
   "cell_type": "code",
   "execution_count": 7,
   "id": "fcd44dc7",
   "metadata": {},
   "outputs": [
    {
     "name": "stdout",
     "output_type": "stream",
     "text": [
      "27.8\n"
     ]
    }
   ],
   "source": [
    "a=[70,85,62,92,15,29,36,41,15,8,96,73,25,69,48,85,17,22,65,29]\n",
    "p=np.percentile(a,30)\n",
    "print(p)"
   ]
  },
  {
   "cell_type": "markdown",
   "id": "cd141cd0",
   "metadata": {},
   "source": [
    "# Lifecycle of a Machine learning\n",
    "#### 1:Loading the data\n",
    "* To load the csv files we use pandas \n",
    "* To load 2d images we use pillow or opencv step"
   ]
  },
  {
   "cell_type": "markdown",
   "id": "fa0f7a23",
   "metadata": {},
   "source": [
    "#### 2:Examine the data: \n",
    "* Look at the datasets shape(rows and columns) \n",
    "* Peek inside the dataset by looking at its first 10 or 20 rows. \n",
    "* Perform fundamental statistical analysis such as mean,sd,minimum,maximum etc... \n",
    "* Check and handle missing data step"
   ]
  },
  {
   "cell_type": "markdown",
   "id": "db9d8552",
   "metadata": {},
   "source": [
    "#### 3:Split the data into training and test subsets \n",
    "* 80% for training and 20% for testing \n",
    "* The training subset is used to train the model \n",
    "* The testing subset is used to evaluate how well the model generalizes to unseen data.(data not used in training)"
   ]
  },
  {
   "cell_type": "markdown",
   "id": "640a842c",
   "metadata": {},
   "source": [
    "#### 4:Visualising the data \n",
    "* After splitting the dataset plot some graphs for better understanding of the investigating data \n",
    "* Ex: Scatter plots are easy to investigate the relationship between the features and the target variable"
   ]
  },
  {
   "cell_type": "markdown",
   "id": "b9d5a910",
   "metadata": {},
   "source": [
    "#### 5: Data preprocessing \n",
    "* The data that we receieved is not ready to use immediately.There will be some missing values. \n",
    "* Ex:Red,Green,Blue(Textual or categorical) \n",
    "* A range of features that differ too much(A feature ranging 0-10000 and another from 0-5) \n",
    "* Also called as data cleaning.Therefore we need to process the data before passing it\n"
   ]
  },
  {
   "cell_type": "markdown",
   "id": "8fe6462a",
   "metadata": {},
   "source": [
    "#### 6: Prime the models \n",
    "* Based on the previous steps of analysing the dataset,narrow down appropriate machine learning algorithms and build modles using those algorithms."
   ]
  },
  {
   "cell_type": "markdown",
   "id": "a5983914",
   "metadata": {},
   "source": [
    "#### 7: Evaluate the models \n",
    "* After building the models,it must be evaluated using different matrix and select the best model for deployment."
   ]
  },
  {
   "cell_type": "markdown",
   "id": "8b58e2c2",
   "metadata": {},
   "source": [
    "#### Python libraries\n",
    "\n",
    "* Numpy\n",
    "* Pandas\n",
    "* Matplotlib\n",
    "* Scikid-learn"
   ]
  },
  {
   "cell_type": "code",
   "execution_count": 8,
   "id": "52deecad",
   "metadata": {},
   "outputs": [
    {
     "name": "stdout",
     "output_type": "stream",
     "text": [
      "1.3.0\n"
     ]
    }
   ],
   "source": [
    "import sklearn\n",
    "print(sklearn.__version__)"
   ]
  },
  {
   "cell_type": "code",
   "execution_count": 9,
   "id": "6ad18280",
   "metadata": {},
   "outputs": [
    {
     "name": "stdout",
     "output_type": "stream",
     "text": [
      "36\n",
      "[ 6  8 10 12]\n",
      "[10 26]\n"
     ]
    }
   ],
   "source": [
    "arr1 = np.array([[1, 2, 3, 4], [5, 6, 7, 8]])\n",
    "print(arr1.sum())\n",
    "print(arr1.sum(axis=0)) #columnwise\n",
    "print(arr1.sum(axis=1))"
   ]
  },
  {
   "cell_type": "code",
   "execution_count": 10,
   "id": "bea15789",
   "metadata": {},
   "outputs": [
    {
     "name": "stdout",
     "output_type": "stream",
     "text": [
      "4.5\n",
      "[3. 4. 5. 6.]\n",
      "[2.5 6.5]\n"
     ]
    }
   ],
   "source": [
    "print(arr1.mean())\n",
    "print(arr1.mean(axis=0)) \n",
    "print(arr1.mean(axis=1))"
   ]
  },
  {
   "cell_type": "code",
   "execution_count": 11,
   "id": "9db34dab",
   "metadata": {},
   "outputs": [
    {
     "name": "stdout",
     "output_type": "stream",
     "text": [
      "[[1 2]\n",
      " [3 4]\n",
      " [5 6]\n",
      " [7 8]]\n"
     ]
    }
   ],
   "source": [
    "arr1 = np.array([[1, 2], [3, 4], [5, 6]])\n",
    "arr2 = np.array([[7, 8]])\n",
    "combined_array = np.concatenate((arr1, arr2))\n",
    "print(combined_array)"
   ]
  },
  {
   "cell_type": "markdown",
   "id": "ef37c66a",
   "metadata": {},
   "source": [
    "# Scikit-learn(sklearn library)"
   ]
  },
  {
   "cell_type": "markdown",
   "id": "28b18c17",
   "metadata": {},
   "source": [
    "Scikit-learn is a massive Python library that comes with an extensive assortment of classes and functions for performing various machine learning tasks.\n",
    "These classes and functions are grouped into numerous modules that are intuitively named.\n",
    "For instance, \n",
    "* classes for building decision tree-based models are found in the sklearn.tree module. \n",
    "* classes for data preprocessing are in the sklearn.preprocessing module.\n",
    "The classes themselves are also named appropriately.\n",
    "\n",
    "scikitlearn methods\n",
    "* Estimators \n",
    "* transformers \n",
    "* predictors"
   ]
  },
  {
   "cell_type": "markdown",
   "id": "b57d6984",
   "metadata": {},
   "source": [
    "#### Estimators and fit method\n",
    "The estimator object learns from input data using fit() method."
   ]
  },
  {
   "cell_type": "markdown",
   "id": "c333f1e4",
   "metadata": {},
   "source": [
    "This fit() method in this class estimates mean and variance of the features in the input dataset and stores the results in mean_,var_ attributes."
   ]
  },
  {
   "cell_type": "markdown",
   "id": "251276f4",
   "metadata": {},
   "source": [
    "#### Transformers and transform() method\n",
    "\n",
    "* It transforms the datasets using transform() method .\n",
    "* The transform() method accepts array as input and uses the parameters calculated by the fit method of the same object and returns the transformed dataset."
   ]
  },
  {
   "cell_type": "markdown",
   "id": "28134e68",
   "metadata": {},
   "source": [
    "# Standardization"
   ]
  },
  {
   "cell_type": "markdown",
   "id": "d59e00e8",
   "metadata": {},
   "source": [
    "* The objective of scaling a dataset using StandardScalar is to achieve a mean of zero and variance of one.\n",
    "* This process is known as standardization.\n",
    "* It is necesaary for machine learning algorithms."
   ]
  },
  {
   "cell_type": "code",
   "execution_count": 12,
   "id": "99e1bdcd",
   "metadata": {},
   "outputs": [
    {
     "name": "stdout",
     "output_type": "stream",
     "text": [
      "[2.   5.75]\n",
      "[ 0.5    15.6875]\n"
     ]
    }
   ],
   "source": [
    "import pandas as pd\n",
    "from sklearn.preprocessing import StandardScaler\n",
    "X = pd.DataFrame({'A':[1, 2, 3, 2], 'B':[11, 1, 8, 3]})\n",
    "scaler = StandardScaler() \n",
    "scaler.fit(X) \n",
    "print(scaler.mean_)\n",
    "print(scaler.var_)"
   ]
  },
  {
   "cell_type": "code",
   "execution_count": 13,
   "id": "be67ba40",
   "metadata": {},
   "outputs": [
    {
     "name": "stdout",
     "output_type": "stream",
     "text": [
      "[[-1.41421356  1.32550825]\n",
      " [ 0.         -1.19926937]\n",
      " [ 1.41421356  0.56807496]\n",
      " [ 0.         -0.69431384]]\n"
     ]
    }
   ],
   "source": [
    "X_scaled=scaler.transform(X)\n",
    "print(X_scaled)"
   ]
  },
  {
   "cell_type": "markdown",
   "id": "130eb65d",
   "metadata": {},
   "source": [
    "#### Predictors and predict() method\n",
    "\n",
    "* It is used to make predictions for given dataset with help of predict() method.\n",
    "* The predict method uses the parameters calculated by the fit() method"
   ]
  },
  {
   "cell_type": "markdown",
   "id": "037a5d2c",
   "metadata": {},
   "source": [
    "#### Data preprocessing with scikit learn\n",
    "\n",
    "   Data preprocessing involves handling missing data,encoding text and categorical data and features scaling."
   ]
  },
  {
   "cell_type": "code",
   "execution_count": 14,
   "id": "0dca5b85",
   "metadata": {},
   "outputs": [],
   "source": [
    "#     Color      Years     Strength    Height       Weight       Dangerous\n",
    "# 0  Green       2.3        210.0      170.0     20 to 30 kg        Yes\n",
    "# 1    Red       4.1        100.0        NaN     10 to 20 kg         No\n",
    "# 2   Blue       1.4          NaN      412.0      0 to 10 kg         No\n",
    "# 3  Green       NaN        313.0      123.0     10 to 20 kg        Yes\n",
    "# 4    NaN       5.2        512.0      372.0      0 to 10 kg        Yes"
   ]
  },
  {
   "cell_type": "code",
   "execution_count": 15,
   "id": "7cea2327",
   "metadata": {},
   "outputs": [],
   "source": [
    "import pandas as pd\n",
    "df=pd.read_csv(\"C:/Users/sabth/Documents/Color.csv\")"
   ]
  },
  {
   "cell_type": "code",
   "execution_count": 16,
   "id": "c47fa47c",
   "metadata": {
    "scrolled": true
   },
   "outputs": [
    {
     "name": "stdout",
     "output_type": "stream",
     "text": [
      "   Color  Years  Strength  Height       Weight Dangerous\n",
      "0  Green    2.3     210.0   170.0  20 to 30 kg       Yes\n",
      "1    Red    4.1     100.0     NaN  10 to 20 kg        No\n",
      "2   Blue    1.4       NaN   412.0   0 to 10 kg        No\n",
      "3  Green    NaN     313.0   123.0  10 to 20 kg       Yes\n",
      "4    NaN    5.2     512.0   372.0    0 to 10 k       Yes\n"
     ]
    }
   ],
   "source": [
    "print(df)"
   ]
  },
  {
   "cell_type": "code",
   "execution_count": 17,
   "id": "f42ed1a9",
   "metadata": {},
   "outputs": [],
   "source": [
    "# Importing the SimpleImputer class\n",
    "from sklearn.impute import SimpleImputer"
   ]
  },
  {
   "cell_type": "code",
   "execution_count": 18,
   "id": "1a8230e4",
   "metadata": {},
   "outputs": [],
   "source": [
    "# Instantiating a SimpleImputer object\n",
    "imp = SimpleImputer(missing_values=np.nan, strategy='mean')"
   ]
  },
  {
   "cell_type": "code",
   "execution_count": 19,
   "id": "2cf53b19",
   "metadata": {},
   "outputs": [
    {
     "data": {
      "text/html": [
       "<style>#sk-container-id-1 {color: black;}#sk-container-id-1 pre{padding: 0;}#sk-container-id-1 div.sk-toggleable {background-color: white;}#sk-container-id-1 label.sk-toggleable__label {cursor: pointer;display: block;width: 100%;margin-bottom: 0;padding: 0.3em;box-sizing: border-box;text-align: center;}#sk-container-id-1 label.sk-toggleable__label-arrow:before {content: \"▸\";float: left;margin-right: 0.25em;color: #696969;}#sk-container-id-1 label.sk-toggleable__label-arrow:hover:before {color: black;}#sk-container-id-1 div.sk-estimator:hover label.sk-toggleable__label-arrow:before {color: black;}#sk-container-id-1 div.sk-toggleable__content {max-height: 0;max-width: 0;overflow: hidden;text-align: left;background-color: #f0f8ff;}#sk-container-id-1 div.sk-toggleable__content pre {margin: 0.2em;color: black;border-radius: 0.25em;background-color: #f0f8ff;}#sk-container-id-1 input.sk-toggleable__control:checked~div.sk-toggleable__content {max-height: 200px;max-width: 100%;overflow: auto;}#sk-container-id-1 input.sk-toggleable__control:checked~label.sk-toggleable__label-arrow:before {content: \"▾\";}#sk-container-id-1 div.sk-estimator input.sk-toggleable__control:checked~label.sk-toggleable__label {background-color: #d4ebff;}#sk-container-id-1 div.sk-label input.sk-toggleable__control:checked~label.sk-toggleable__label {background-color: #d4ebff;}#sk-container-id-1 input.sk-hidden--visually {border: 0;clip: rect(1px 1px 1px 1px);clip: rect(1px, 1px, 1px, 1px);height: 1px;margin: -1px;overflow: hidden;padding: 0;position: absolute;width: 1px;}#sk-container-id-1 div.sk-estimator {font-family: monospace;background-color: #f0f8ff;border: 1px dotted black;border-radius: 0.25em;box-sizing: border-box;margin-bottom: 0.5em;}#sk-container-id-1 div.sk-estimator:hover {background-color: #d4ebff;}#sk-container-id-1 div.sk-parallel-item::after {content: \"\";width: 100%;border-bottom: 1px solid gray;flex-grow: 1;}#sk-container-id-1 div.sk-label:hover label.sk-toggleable__label {background-color: #d4ebff;}#sk-container-id-1 div.sk-serial::before {content: \"\";position: absolute;border-left: 1px solid gray;box-sizing: border-box;top: 0;bottom: 0;left: 50%;z-index: 0;}#sk-container-id-1 div.sk-serial {display: flex;flex-direction: column;align-items: center;background-color: white;padding-right: 0.2em;padding-left: 0.2em;position: relative;}#sk-container-id-1 div.sk-item {position: relative;z-index: 1;}#sk-container-id-1 div.sk-parallel {display: flex;align-items: stretch;justify-content: center;background-color: white;position: relative;}#sk-container-id-1 div.sk-item::before, #sk-container-id-1 div.sk-parallel-item::before {content: \"\";position: absolute;border-left: 1px solid gray;box-sizing: border-box;top: 0;bottom: 0;left: 50%;z-index: -1;}#sk-container-id-1 div.sk-parallel-item {display: flex;flex-direction: column;z-index: 1;position: relative;background-color: white;}#sk-container-id-1 div.sk-parallel-item:first-child::after {align-self: flex-end;width: 50%;}#sk-container-id-1 div.sk-parallel-item:last-child::after {align-self: flex-start;width: 50%;}#sk-container-id-1 div.sk-parallel-item:only-child::after {width: 0;}#sk-container-id-1 div.sk-dashed-wrapped {border: 1px dashed gray;margin: 0 0.4em 0.5em 0.4em;box-sizing: border-box;padding-bottom: 0.4em;background-color: white;}#sk-container-id-1 div.sk-label label {font-family: monospace;font-weight: bold;display: inline-block;line-height: 1.2em;}#sk-container-id-1 div.sk-label-container {text-align: center;}#sk-container-id-1 div.sk-container {/* jupyter's `normalize.less` sets `[hidden] { display: none; }` but bootstrap.min.css set `[hidden] { display: none !important; }` so we also need the `!important` here to be able to override the default hidden behavior on the sphinx rendered scikit-learn.org. See: https://github.com/scikit-learn/scikit-learn/issues/21755 */display: inline-block !important;position: relative;}#sk-container-id-1 div.sk-text-repr-fallback {display: none;}</style><div id=\"sk-container-id-1\" class=\"sk-top-container\"><div class=\"sk-text-repr-fallback\"><pre>SimpleImputer()</pre><b>In a Jupyter environment, please rerun this cell to show the HTML representation or trust the notebook. <br />On GitHub, the HTML representation is unable to render, please try loading this page with nbviewer.org.</b></div><div class=\"sk-container\" hidden><div class=\"sk-item\"><div class=\"sk-estimator sk-toggleable\"><input class=\"sk-toggleable__control sk-hidden--visually\" id=\"sk-estimator-id-1\" type=\"checkbox\" checked><label for=\"sk-estimator-id-1\" class=\"sk-toggleable__label sk-toggleable__label-arrow\">SimpleImputer</label><div class=\"sk-toggleable__content\"><pre>SimpleImputer()</pre></div></div></div></div></div>"
      ],
      "text/plain": [
       "SimpleImputer()"
      ]
     },
     "execution_count": 19,
     "metadata": {},
     "output_type": "execute_result"
    }
   ],
   "source": [
    "# Calling the fit() method to calculate the means \n",
    "imp.fit(df[['Years', 'Strength', 'Height']])"
   ]
  },
  {
   "cell_type": "code",
   "execution_count": 20,
   "id": "f2c7179a",
   "metadata": {},
   "outputs": [
    {
     "name": "stdout",
     "output_type": "stream",
     "text": [
      "   Color  Years  Strength  Height       Weight Dangerous\n",
      "0  Green   2.30    210.00  170.00  20 to 30 kg       Yes\n",
      "1    Red   4.10    100.00  269.25  10 to 20 kg        No\n",
      "2   Blue   1.40    283.75  412.00   0 to 10 kg        No\n",
      "3  Green   3.25    313.00  123.00  10 to 20 kg       Yes\n",
      "4    NaN   5.20    512.00  372.00    0 to 10 k       Yes\n"
     ]
    }
   ],
   "source": [
    "# transforming the data\n",
    "df[['Years', 'Strength', 'Height']] = imp.transform(df[['Years','Strength', 'Height']])\n",
    "print(df)"
   ]
  },
  {
   "cell_type": "code",
   "execution_count": 21,
   "id": "3e91ec8b",
   "metadata": {},
   "outputs": [
    {
     "name": "stdout",
     "output_type": "stream",
     "text": [
      "[  3.25 283.75 269.25]\n"
     ]
    }
   ],
   "source": [
    "print(imp.statistics_)"
   ]
  },
  {
   "cell_type": "code",
   "execution_count": 22,
   "id": "3d6ebff8",
   "metadata": {
    "scrolled": true
   },
   "outputs": [
    {
     "data": {
      "text/html": [
       "<style>#sk-container-id-2 {color: black;}#sk-container-id-2 pre{padding: 0;}#sk-container-id-2 div.sk-toggleable {background-color: white;}#sk-container-id-2 label.sk-toggleable__label {cursor: pointer;display: block;width: 100%;margin-bottom: 0;padding: 0.3em;box-sizing: border-box;text-align: center;}#sk-container-id-2 label.sk-toggleable__label-arrow:before {content: \"▸\";float: left;margin-right: 0.25em;color: #696969;}#sk-container-id-2 label.sk-toggleable__label-arrow:hover:before {color: black;}#sk-container-id-2 div.sk-estimator:hover label.sk-toggleable__label-arrow:before {color: black;}#sk-container-id-2 div.sk-toggleable__content {max-height: 0;max-width: 0;overflow: hidden;text-align: left;background-color: #f0f8ff;}#sk-container-id-2 div.sk-toggleable__content pre {margin: 0.2em;color: black;border-radius: 0.25em;background-color: #f0f8ff;}#sk-container-id-2 input.sk-toggleable__control:checked~div.sk-toggleable__content {max-height: 200px;max-width: 100%;overflow: auto;}#sk-container-id-2 input.sk-toggleable__control:checked~label.sk-toggleable__label-arrow:before {content: \"▾\";}#sk-container-id-2 div.sk-estimator input.sk-toggleable__control:checked~label.sk-toggleable__label {background-color: #d4ebff;}#sk-container-id-2 div.sk-label input.sk-toggleable__control:checked~label.sk-toggleable__label {background-color: #d4ebff;}#sk-container-id-2 input.sk-hidden--visually {border: 0;clip: rect(1px 1px 1px 1px);clip: rect(1px, 1px, 1px, 1px);height: 1px;margin: -1px;overflow: hidden;padding: 0;position: absolute;width: 1px;}#sk-container-id-2 div.sk-estimator {font-family: monospace;background-color: #f0f8ff;border: 1px dotted black;border-radius: 0.25em;box-sizing: border-box;margin-bottom: 0.5em;}#sk-container-id-2 div.sk-estimator:hover {background-color: #d4ebff;}#sk-container-id-2 div.sk-parallel-item::after {content: \"\";width: 100%;border-bottom: 1px solid gray;flex-grow: 1;}#sk-container-id-2 div.sk-label:hover label.sk-toggleable__label {background-color: #d4ebff;}#sk-container-id-2 div.sk-serial::before {content: \"\";position: absolute;border-left: 1px solid gray;box-sizing: border-box;top: 0;bottom: 0;left: 50%;z-index: 0;}#sk-container-id-2 div.sk-serial {display: flex;flex-direction: column;align-items: center;background-color: white;padding-right: 0.2em;padding-left: 0.2em;position: relative;}#sk-container-id-2 div.sk-item {position: relative;z-index: 1;}#sk-container-id-2 div.sk-parallel {display: flex;align-items: stretch;justify-content: center;background-color: white;position: relative;}#sk-container-id-2 div.sk-item::before, #sk-container-id-2 div.sk-parallel-item::before {content: \"\";position: absolute;border-left: 1px solid gray;box-sizing: border-box;top: 0;bottom: 0;left: 50%;z-index: -1;}#sk-container-id-2 div.sk-parallel-item {display: flex;flex-direction: column;z-index: 1;position: relative;background-color: white;}#sk-container-id-2 div.sk-parallel-item:first-child::after {align-self: flex-end;width: 50%;}#sk-container-id-2 div.sk-parallel-item:last-child::after {align-self: flex-start;width: 50%;}#sk-container-id-2 div.sk-parallel-item:only-child::after {width: 0;}#sk-container-id-2 div.sk-dashed-wrapped {border: 1px dashed gray;margin: 0 0.4em 0.5em 0.4em;box-sizing: border-box;padding-bottom: 0.4em;background-color: white;}#sk-container-id-2 div.sk-label label {font-family: monospace;font-weight: bold;display: inline-block;line-height: 1.2em;}#sk-container-id-2 div.sk-label-container {text-align: center;}#sk-container-id-2 div.sk-container {/* jupyter's `normalize.less` sets `[hidden] { display: none; }` but bootstrap.min.css set `[hidden] { display: none !important; }` so we also need the `!important` here to be able to override the default hidden behavior on the sphinx rendered scikit-learn.org. See: https://github.com/scikit-learn/scikit-learn/issues/21755 */display: inline-block !important;position: relative;}#sk-container-id-2 div.sk-text-repr-fallback {display: none;}</style><div id=\"sk-container-id-2\" class=\"sk-top-container\"><div class=\"sk-text-repr-fallback\"><pre>SimpleImputer(strategy=&#x27;most_frequent&#x27;)</pre><b>In a Jupyter environment, please rerun this cell to show the HTML representation or trust the notebook. <br />On GitHub, the HTML representation is unable to render, please try loading this page with nbviewer.org.</b></div><div class=\"sk-container\" hidden><div class=\"sk-item\"><div class=\"sk-estimator sk-toggleable\"><input class=\"sk-toggleable__control sk-hidden--visually\" id=\"sk-estimator-id-2\" type=\"checkbox\" checked><label for=\"sk-estimator-id-2\" class=\"sk-toggleable__label sk-toggleable__label-arrow\">SimpleImputer</label><div class=\"sk-toggleable__content\"><pre>SimpleImputer(strategy=&#x27;most_frequent&#x27;)</pre></div></div></div></div></div>"
      ],
      "text/plain": [
       "SimpleImputer(strategy='most_frequent')"
      ]
     },
     "execution_count": 22,
     "metadata": {},
     "output_type": "execute_result"
    }
   ],
   "source": [
    "#Filling the missing value for colour column\n",
    "# Updating the 'strategy' parameter of the SimpleImputer object\n",
    "imp.set_params(strategy='most_frequent')"
   ]
  },
  {
   "cell_type": "code",
   "execution_count": 23,
   "id": "e24122af",
   "metadata": {
    "scrolled": true
   },
   "outputs": [
    {
     "data": {
      "text/html": [
       "<style>#sk-container-id-3 {color: black;}#sk-container-id-3 pre{padding: 0;}#sk-container-id-3 div.sk-toggleable {background-color: white;}#sk-container-id-3 label.sk-toggleable__label {cursor: pointer;display: block;width: 100%;margin-bottom: 0;padding: 0.3em;box-sizing: border-box;text-align: center;}#sk-container-id-3 label.sk-toggleable__label-arrow:before {content: \"▸\";float: left;margin-right: 0.25em;color: #696969;}#sk-container-id-3 label.sk-toggleable__label-arrow:hover:before {color: black;}#sk-container-id-3 div.sk-estimator:hover label.sk-toggleable__label-arrow:before {color: black;}#sk-container-id-3 div.sk-toggleable__content {max-height: 0;max-width: 0;overflow: hidden;text-align: left;background-color: #f0f8ff;}#sk-container-id-3 div.sk-toggleable__content pre {margin: 0.2em;color: black;border-radius: 0.25em;background-color: #f0f8ff;}#sk-container-id-3 input.sk-toggleable__control:checked~div.sk-toggleable__content {max-height: 200px;max-width: 100%;overflow: auto;}#sk-container-id-3 input.sk-toggleable__control:checked~label.sk-toggleable__label-arrow:before {content: \"▾\";}#sk-container-id-3 div.sk-estimator input.sk-toggleable__control:checked~label.sk-toggleable__label {background-color: #d4ebff;}#sk-container-id-3 div.sk-label input.sk-toggleable__control:checked~label.sk-toggleable__label {background-color: #d4ebff;}#sk-container-id-3 input.sk-hidden--visually {border: 0;clip: rect(1px 1px 1px 1px);clip: rect(1px, 1px, 1px, 1px);height: 1px;margin: -1px;overflow: hidden;padding: 0;position: absolute;width: 1px;}#sk-container-id-3 div.sk-estimator {font-family: monospace;background-color: #f0f8ff;border: 1px dotted black;border-radius: 0.25em;box-sizing: border-box;margin-bottom: 0.5em;}#sk-container-id-3 div.sk-estimator:hover {background-color: #d4ebff;}#sk-container-id-3 div.sk-parallel-item::after {content: \"\";width: 100%;border-bottom: 1px solid gray;flex-grow: 1;}#sk-container-id-3 div.sk-label:hover label.sk-toggleable__label {background-color: #d4ebff;}#sk-container-id-3 div.sk-serial::before {content: \"\";position: absolute;border-left: 1px solid gray;box-sizing: border-box;top: 0;bottom: 0;left: 50%;z-index: 0;}#sk-container-id-3 div.sk-serial {display: flex;flex-direction: column;align-items: center;background-color: white;padding-right: 0.2em;padding-left: 0.2em;position: relative;}#sk-container-id-3 div.sk-item {position: relative;z-index: 1;}#sk-container-id-3 div.sk-parallel {display: flex;align-items: stretch;justify-content: center;background-color: white;position: relative;}#sk-container-id-3 div.sk-item::before, #sk-container-id-3 div.sk-parallel-item::before {content: \"\";position: absolute;border-left: 1px solid gray;box-sizing: border-box;top: 0;bottom: 0;left: 50%;z-index: -1;}#sk-container-id-3 div.sk-parallel-item {display: flex;flex-direction: column;z-index: 1;position: relative;background-color: white;}#sk-container-id-3 div.sk-parallel-item:first-child::after {align-self: flex-end;width: 50%;}#sk-container-id-3 div.sk-parallel-item:last-child::after {align-self: flex-start;width: 50%;}#sk-container-id-3 div.sk-parallel-item:only-child::after {width: 0;}#sk-container-id-3 div.sk-dashed-wrapped {border: 1px dashed gray;margin: 0 0.4em 0.5em 0.4em;box-sizing: border-box;padding-bottom: 0.4em;background-color: white;}#sk-container-id-3 div.sk-label label {font-family: monospace;font-weight: bold;display: inline-block;line-height: 1.2em;}#sk-container-id-3 div.sk-label-container {text-align: center;}#sk-container-id-3 div.sk-container {/* jupyter's `normalize.less` sets `[hidden] { display: none; }` but bootstrap.min.css set `[hidden] { display: none !important; }` so we also need the `!important` here to be able to override the default hidden behavior on the sphinx rendered scikit-learn.org. See: https://github.com/scikit-learn/scikit-learn/issues/21755 */display: inline-block !important;position: relative;}#sk-container-id-3 div.sk-text-repr-fallback {display: none;}</style><div id=\"sk-container-id-3\" class=\"sk-top-container\"><div class=\"sk-text-repr-fallback\"><pre>SimpleImputer(strategy=&#x27;most_frequent&#x27;)</pre><b>In a Jupyter environment, please rerun this cell to show the HTML representation or trust the notebook. <br />On GitHub, the HTML representation is unable to render, please try loading this page with nbviewer.org.</b></div><div class=\"sk-container\" hidden><div class=\"sk-item\"><div class=\"sk-estimator sk-toggleable\"><input class=\"sk-toggleable__control sk-hidden--visually\" id=\"sk-estimator-id-3\" type=\"checkbox\" checked><label for=\"sk-estimator-id-3\" class=\"sk-toggleable__label sk-toggleable__label-arrow\">SimpleImputer</label><div class=\"sk-toggleable__content\"><pre>SimpleImputer(strategy=&#x27;most_frequent&#x27;)</pre></div></div></div></div></div>"
      ],
      "text/plain": [
       "SimpleImputer(strategy='most_frequent')"
      ]
     },
     "execution_count": 23,
     "metadata": {},
     "output_type": "execute_result"
    }
   ],
   "source": [
    "# Calling the fit() method to get the mode \n",
    "imp.fit(df[['Color']])"
   ]
  },
  {
   "cell_type": "code",
   "execution_count": 24,
   "id": "b533756e",
   "metadata": {
    "scrolled": false
   },
   "outputs": [
    {
     "name": "stdout",
     "output_type": "stream",
     "text": [
      "   Color  Years  Strength  Height       Weight Dangerous\n",
      "0  Green   2.30    210.00  170.00  20 to 30 kg       Yes\n",
      "1    Red   4.10    100.00  269.25  10 to 20 kg        No\n",
      "2   Blue   1.40    283.75  412.00   0 to 10 kg        No\n",
      "3  Green   3.25    313.00  123.00  10 to 20 kg       Yes\n",
      "4  Green   5.20    512.00  372.00    0 to 10 k       Yes\n"
     ]
    }
   ],
   "source": [
    "# Transforming the column\n",
    "df[['Color']] = imp.transform(df[['Color']])\n",
    "print(df)"
   ]
  },
  {
   "cell_type": "markdown",
   "id": "8c659747",
   "metadata": {},
   "source": [
    "* It can be done with OrdinalEncoder or LabelEncoder class. \n",
    "* OrdinalEncoder is desined to work with features of the dataset while LabelEncoder is designed to work with labels.\n",
    "* The fit method of LabelEncoder requires a 1D array but OrdinalEncoder class requires 2D array."
   ]
  },
  {
   "cell_type": "code",
   "execution_count": 25,
   "id": "d5308394",
   "metadata": {},
   "outputs": [
    {
     "name": "stdout",
     "output_type": "stream",
     "text": [
      "   Color  Years  Strength  Height       Weight  Dangerous\n",
      "0  Green   2.30    210.00  170.00  20 to 30 kg          1\n",
      "1    Red   4.10    100.00  269.25  10 to 20 kg          0\n",
      "2   Blue   1.40    283.75  412.00   0 to 10 kg          0\n",
      "3  Green   3.25    313.00  123.00  10 to 20 kg          1\n",
      "4  Green   5.20    512.00  372.00    0 to 10 k          1\n"
     ]
    }
   ],
   "source": [
    "from sklearn.preprocessing import LabelEncoder \n",
    "le = LabelEncoder()\n",
    "df['Dangerous'] = le.fit_transform(df['Dangerous'])\n",
    "print(df)"
   ]
  },
  {
   "cell_type": "code",
   "execution_count": 26,
   "id": "3e3962b9",
   "metadata": {},
   "outputs": [
    {
     "name": "stdout",
     "output_type": "stream",
     "text": [
      "   Color  Years  Strength  Height  Weight  Dangerous\n",
      "0  Green   2.30    210.00  170.00     3.0          1\n",
      "1    Red   4.10    100.00  269.25     2.0          0\n",
      "2   Blue   1.40    283.75  412.00     1.0          0\n",
      "3  Green   3.25    313.00  123.00     2.0          1\n",
      "4  Green   5.20    512.00  372.00     0.0          1\n"
     ]
    }
   ],
   "source": [
    "from sklearn.preprocessing import OrdinalEncoder \n",
    "oe = OrdinalEncoder()\n",
    "df[['Weight']] = oe.fit_transform(df[['Weight']])\n",
    "print(df)"
   ]
  },
  {
   "cell_type": "markdown",
   "id": "cb5e9ea3",
   "metadata": {},
   "source": [
    "# Drawback of OrdinalEncoder\n",
    "\n",
    "* The database has color column with three values Blue,Green,Red\n",
    "* The OrdinalEncoder class encodes in alphabetical order such that Blue=0,Green=1,Red=2\n",
    "* The machine learning algorithm may misinterpret these numbers and suggesting that Blue is smaller than Red and draw invalid conclusions from data.\n",
    "* Hence encoding non Ordinal features for encoding non ordinal class is not ideal."
   ]
  },
  {
   "cell_type": "markdown",
   "id": "351813f5",
   "metadata": {},
   "source": [
    "# Hot Encoding algorithm\n",
    "\n",
    "* A common approach to encode non ordinal features.\n",
    "* Here each categorical value is converted to a new column and assigned a value of 0 or 1.\n",
    "* OneHotEncoder class in sklearn.preprocessing module is used for this purpose.\n",
    "* The OneHotEncoder class returns as sparse matrix by default.\n",
    "* A sparse matrix is a matrix which consists of very few non zero values."
   ]
  },
  {
   "cell_type": "code",
   "execution_count": 27,
   "id": "812c1943",
   "metadata": {},
   "outputs": [
    {
     "name": "stdout",
     "output_type": "stream",
     "text": [
      "   Color  Years  Strength  Height  Weight  Dangerous  Color_Green  Color_Red\n",
      "0  Green   2.30    210.00  170.00     3.0          1            1          0\n",
      "1    Red   4.10    100.00  269.25     2.0          0            0          1\n",
      "2   Blue   1.40    283.75  412.00     1.0          0            0          0\n",
      "3  Green   3.25    313.00  123.00     2.0          1            1          0\n",
      "4  Green   5.20    512.00  372.00     0.0          1            1          0\n"
     ]
    },
    {
     "name": "stderr",
     "output_type": "stream",
     "text": [
      "C:\\Users\\sabth\\Documents\\anaconda\\Lib\\site-packages\\sklearn\\preprocessing\\_encoders.py:972: FutureWarning: `sparse` was renamed to `sparse_output` in version 1.2 and will be removed in 1.4. `sparse_output` is ignored unless you leave `sparse` to its default value.\n",
      "  warnings.warn(\n"
     ]
    }
   ],
   "source": [
    "from sklearn.preprocessing import OneHotEncoder\n",
    "ohe = OneHotEncoder(dtype=np.int64, sparse = False, drop='first')\n",
    "color_encoded = ohe.fit_transform(df[['Color']])\n",
    "df2 = pd.DataFrame(color_encoded, columns = ohe.get_feature_names_out())\n",
    "df = pd.concat((df, df2), axis = 1)\n",
    "print(df)"
   ]
  },
  {
   "cell_type": "markdown",
   "id": "42e779c1",
   "metadata": {},
   "source": [
    "# Feature scaling\n",
    "\n",
    "It is a technique for calibrating the range of features in a dataset.\n",
    "It ensures that features do not have vastly different scales and prevents features with large values from dominating the result of the algorithm"
   ]
  },
  {
   "cell_type": "markdown",
   "id": "6564ec4f",
   "metadata": {},
   "source": [
    "Euclidean distance = sqrt((p-q)^2+(r-s)^2)."
   ]
  },
  {
   "cell_type": "markdown",
   "id": "61178661",
   "metadata": {},
   "source": [
    "#### Standardization: \n",
    "    Standardization scales a feature such that mean become 0 and variance becomes 1."
   ]
  },
  {
   "cell_type": "code",
   "execution_count": 28,
   "id": "02499d22",
   "metadata": {},
   "outputs": [
    {
     "name": "stdout",
     "output_type": "stream",
     "text": [
      "   Color     Years  Strength    Height  Weight  Dangerous  Color_Green  \\\n",
      "0  Green  0.236842  0.266990  0.162630     3.0          1            1   \n",
      "1    Red  0.710526  0.000000  0.506055     2.0          0            0   \n",
      "2   Blue  0.000000  0.445995  1.000000     1.0          0            0   \n",
      "3  Green  0.486842  0.516990  0.000000     2.0          1            1   \n",
      "4  Green  1.000000  1.000000  0.861592     0.0          1            1   \n",
      "\n",
      "   Color_Red  \n",
      "0          0  \n",
      "1          1  \n",
      "2          0  \n",
      "3          0  \n",
      "4          0  \n"
     ]
    }
   ],
   "source": [
    "from sklearn.preprocessing import MinMaxScaler \n",
    "mms = MinMaxScaler()\n",
    "df[['Years', 'Strength', 'Height']] = mms.fit_transform(df[['Years','Strength', 'Height']])\n",
    "print(df) #Here years,strength and height are scaled to a range of 1."
   ]
  },
  {
   "cell_type": "markdown",
   "id": "bd23268d",
   "metadata": {},
   "source": [
    "#### Pipeline and column transformer\n",
    "\n",
    "* Pipeline allows us to chain different machine learning tasks by combining multiple estimators into a composite estimator.\n",
    "* For example we can use a pipeline to chain a simpleimputer estimator with MinMaxScalar estimator.\n",
    "* All but the last estimator in the pipeline must have the transform method while the last estimator only needs to have a fit method."
   ]
  },
  {
   "cell_type": "markdown",
   "id": "f8c3b843",
   "metadata": {},
   "source": [
    "Step 1 : we create a dataframe with 1 column and 5 rows.\n",
    "\n",
    "step 2 : Import pipeline class from sklearn.pipeline\n",
    "\n",
    "step 3 : Pipeline constructor accepts a list of (Name,Estimator) as input. These tuples represent a task in the pipeline and are arranged according to the order of task. Name is user defined string whereas estimator is the estimator class needed to perform the task.\n",
    "\n",
    "Ex: imp and scaler are names whereas simpleImputer and MinMaxScaler are estimators."
   ]
  },
  {
   "cell_type": "markdown",
   "id": "eebd3188",
   "metadata": {},
   "source": [
    "#### Column transformer\n",
    "\n",
    "It is similar to pipeline except that it is only for data transformation.\n",
    "All the estimators in the column transformer must have transform() method."
   ]
  },
  {
   "cell_type": "code",
   "execution_count": 30,
   "id": "72ae8888",
   "metadata": {},
   "outputs": [
    {
     "name": "stdout",
     "output_type": "stream",
     "text": [
      "[[ 1.   0. ]\n",
      " [ 4.   0.3]\n",
      " [ 6.   nan]\n",
      " [ 8.   0.7]\n",
      " [11.   1. ]]\n"
     ]
    }
   ],
   "source": [
    "from sklearn.compose import ColumnTransformer\n",
    "data = pd.DataFrame([[1], [4], [np.NaN], [8], [11]], columns=['A'])\n",
    "ct = ColumnTransformer([('imp', SimpleImputer(strategy=\"mean\"), ['A']), ('scaler', MinMaxScaler(), ['A']) ])\n",
    "print(ct.fit_transform(data))"
   ]
  },
  {
   "cell_type": "markdown",
   "id": "cd551264",
   "metadata": {},
   "source": [
    "#### Model Evaluation with scikit learn\n",
    "\n",
    "* Supervised Machine Learning evaluates typically involves comparing the results predicted by our model with the actual labels in the dataset.\n",
    "* The classification models predict labels with discrete values(Ex:dog,cat,bird)\n",
    "* The Regression models predict labels with continuous values.(Ex:1.32,53.7,25.5)"
   ]
  },
  {
   "cell_type": "markdown",
   "id": "8847908d",
   "metadata": {},
   "source": [
    "Commonly used classfication metrics are \n",
    "* 1.Accuracy \n",
    "* 2.Precision \n",
    "* 3.Recall"
   ]
  },
  {
   "cell_type": "markdown",
   "id": "092a8789",
   "metadata": {},
   "source": [
    "Accuracy refers to the fraction of instances predicted correctly by our model.\n",
    "\n",
    "It ranges from 0-1 with 1 indicating 100% accuracy.\n",
    "\n",
    "accuracy_score() function in sklearn.metrics module\n",
    "\n",
    "The function requires true labels and predicted labels."
   ]
  },
  {
   "cell_type": "code",
   "execution_count": 32,
   "id": "24827f92",
   "metadata": {},
   "outputs": [
    {
     "name": "stdout",
     "output_type": "stream",
     "text": [
      "0.6666666666666666\n"
     ]
    }
   ],
   "source": [
    "from sklearn.metrics import accuracy_score\n",
    "true=['Cat','Cat','Dog','Dog','Cat','Dog']\n",
    "pred=['Cat','Cat','Cat','Dog','Cat','Cat']\n",
    "score=accuracy_score(true,pred)\n",
    "print(score)"
   ]
  },
  {
   "cell_type": "markdown",
   "id": "f9fbfffb",
   "metadata": {},
   "source": [
    "#### Precision and Recall\n",
    "\n",
    "To understand precision and recall we need to know confusion matrix"
   ]
  },
  {
   "cell_type": "markdown",
   "id": "86ff3cae",
   "metadata": {},
   "source": [
    "true=['Cat','Cat','Dog','Dog','Cat','Dog'] pred=['Cat','Cat','Cat','Dog','Cat','Cat']\n",
    "\n",
    "True value predicted value Dog Cat\n",
    "\n",
    "Dog 1(TP) 2(FN)\n",
    "\n",
    "Cat 0(FP) 3(TN)\n",
    "\n",
    "where TP is True Positive,FN is False Negative,FP is False Positive,TN is True Negative."
   ]
  },
  {
   "cell_type": "markdown",
   "id": "251eef3a",
   "metadata": {},
   "source": [
    "In the above example if we consider dog as positive and cat as negative,if an instance is predicted as positive it can be either true positive or false positive."
   ]
  },
  {
   "cell_type": "markdown",
   "id": "028e63bb",
   "metadata": {},
   "source": [
    "TP is an outcome where an instance is correctly predicted.(1) FP is an outcome where it is incorrectly precicted.(0) If an instance is predicted as negative,it can either be False Negative or True Negative outcome. FN is an outcome where an instance is incorrectly predicted as negative(2) TN is and outcome where an instance is correctly predicted as Negative.(3) Among 5 negative 2 of them are predicted wrong and 3 of them are predicted correctly."
   ]
  },
  {
   "cell_type": "markdown",
   "id": "123cd737",
   "metadata": {},
   "source": [
    "Our model's objective is to minimize both FP and FN since both are undesirable outcomes."
   ]
  },
  {
   "cell_type": "markdown",
   "id": "167c7e5c",
   "metadata": {},
   "source": [
    "A model used to predict the presence of malignant tumour,we want to minimize FN(Negative indicating presence of tumour) outcomes. On the other hand if we are training to classify investment oppurtunities we have to minimize FP outcomes. Since we dont want to invest in something that ends up being unprofitable."
   ]
  },
  {
   "cell_type": "markdown",
   "id": "786f8f74",
   "metadata": {},
   "source": [
    "TP,FP,FN are used in calculating precision and Recall Precision=TP/(TP+FP) For our example TP=1/(1+0)=1"
   ]
  },
  {
   "cell_type": "markdown",
   "id": "ccce6c58",
   "metadata": {},
   "source": [
    "Recall measures the percentage accuracy of our classifier when the true value of an instance is positive. Recall=TP/(TP+FN) For our example TP=1/(1+2)=1/3=0.33"
   ]
  },
  {
   "cell_type": "markdown",
   "id": "cb8fe6d3",
   "metadata": {},
   "source": [
    "precision_score(),recall_score in sklearn.metrics module"
   ]
  },
  {
   "cell_type": "code",
   "execution_count": 33,
   "id": "ed64a83b",
   "metadata": {},
   "outputs": [
    {
     "name": "stdout",
     "output_type": "stream",
     "text": [
      "1.0\n",
      "0.3333333333333333\n"
     ]
    }
   ],
   "source": [
    "from sklearn.metrics import precision_score, recall_score\n",
    "true = ['Cat', 'Cat', 'Dog', 'Dog', 'Cat', 'Dog']\n",
    "pred = ['Cat', 'Cat', 'Cat', 'Dog', 'Cat', 'Cat']\n",
    "precision = precision_score(true, pred, pos_label = 'Dog')\n",
    "recall = recall_score(true, pred, pos_label = 'Dog')\n",
    "print(precision)\n",
    "print(recall)"
   ]
  },
  {
   "cell_type": "code",
   "execution_count": 34,
   "id": "bb6a0fb8",
   "metadata": {},
   "outputs": [
    {
     "name": "stdout",
     "output_type": "stream",
     "text": [
      "0.6\n",
      "1.0\n"
     ]
    }
   ],
   "source": [
    "precision = precision_score(true, pred, pos_label = 'Cat')\n",
    "recall = recall_score(true, pred, pos_label = 'Cat')\n",
    "print(precision)\n",
    "print(recall)"
   ]
  },
  {
   "cell_type": "markdown",
   "id": "ecd1fb41",
   "metadata": {},
   "source": [
    "#### Regression metrics\n",
    "\n",
    "* 1.Root Mean Square Error\n",
    "* 2.R-Squared Error"
   ]
  },
  {
   "cell_type": "markdown",
   "id": "61032078",
   "metadata": {},
   "source": [
    "#### Root Mean Square Error(RMSE)\n",
    "\n",
    "It is the square root of Mean Squared Error(MSE)\n",
    "\n",
    "MSE is determined by calculating mean of the squared differences between the true and predicted values."
   ]
  },
  {
   "cell_type": "markdown",
   "id": "fe948e9b",
   "metadata": {},
   "source": [
    "Ex: pred=[2.1,1.4,5.6,7.9] true=[2.5,1.6,5.1,6.8]\n",
    "\n",
    "Step 1:Find the differences between the true and predicted values diff=[-0.4,-0.2,0.5,1.1] sqr=[0.16,0.04,0.25,1.21] mean=0.415 RMSE=0.644"
   ]
  },
  {
   "cell_type": "markdown",
   "id": "f0c089b1",
   "metadata": {},
   "source": [
    "#### Advantages:\n",
    "1.The larger errors are amplified compared to smaller errors.This forces our model to focus on reducing large errors.\n",
    "\n",
    "2.RMSE uses same unit as target variable and makes it easier for us to interpret the RMSE."
   ]
  },
  {
   "cell_type": "markdown",
   "id": "2fe1c356",
   "metadata": {},
   "source": [
    "#### R-Squared Error:\n",
    "    It measures how much of variance is in the target variable can be explained by our model.\n",
    "    \n",
    "    Variance is a measure of how far the true values are from their mean.\n"
   ]
  },
  {
   "cell_type": "markdown",
   "id": "b95656fb",
   "metadata": {},
   "source": [
    "Ex: pred=[2.1,1.4,5.6,7.9] true=[2.5,1.6,5.1,6.8] difference between pred and true values=[-0.4,-0.2,0.5,1.1] sqr=[0.16,0.04,0.25,1.21] ssd=1.66 mean of true values=4 Diff b/w true values and mean=[-1.5,-2.4,1.1,2.8] squeared differnces=[2.25,5.76,1.21,7.84] sum of squared differences(ssd)=17.06 R-Squared = 1-(1.66/17.06) = 0.902696"
   ]
  },
  {
   "cell_type": "code",
   "execution_count": 35,
   "id": "709b725a",
   "metadata": {},
   "outputs": [
    {
     "name": "stdout",
     "output_type": "stream",
     "text": [
      "0.6442049363362565\n",
      "0.902696365767878\n"
     ]
    }
   ],
   "source": [
    "from sklearn.metrics import r2_score, mean_squared_error\n",
    "pred = [2.1, 1.4, 5.6, 7.9]\n",
    "true = [2.5, 1.6, 5.1, 6.8]\n",
    "RMSE = mean_squared_error(true, pred, squared=False)#mean squared error function gives us mse by default\n",
    "#To get RMSE we need to pass squared=False\n",
    "r2 = r2_score(true, pred)\n",
    "print(RMSE)\n",
    "print(r2)"
   ]
  },
  {
   "cell_type": "markdown",
   "id": "1d1d9758",
   "metadata": {},
   "source": [
    "There are several approaches to model selection\n",
    "\n",
    "##### Method 1:\n",
    "\n",
    "1.Train Test Split One approach is to split our dataset into training and test subsets and train differenct models using the training set.\n",
    "\n",
    "2.Evaluate the model on the training set and select the best performing model.\n",
    "\n",
    "##### Method 2:\n",
    "\n",
    "k-fold tross-validation"
   ]
  },
  {
   "cell_type": "markdown",
   "id": "92dfd7b0",
   "metadata": {},
   "source": [
    "It involves splitting our dataset into k subsets known as k folds.\n",
    "Out of the k folds k-1 of them are used for training while the remaining fold is used for validation.\n",
    "The algorithm is trained and tested k times,each time using a new fold as the validation set.\n",
    "Finally the result of the process is the average of the results obtained on each run."
   ]
  },
  {
   "cell_type": "markdown",
   "id": "8ffd8a06",
   "metadata": {},
   "source": [
    "#### Regression\n"
   ]
  },
  {
   "cell_type": "markdown",
   "id": "58851d33",
   "metadata": {},
   "source": [
    "Regression is a form of analysis that attempts to determine the relationship between a dependent variable(target variable) and a series of other variables(independent variables or predictor variables or features).\n",
    "After determining the relationship we can use that to make predictions for the target variable when given new feature values.\n",
    "The target variable in regression is always continuous values."
   ]
  },
  {
   "cell_type": "markdown",
   "id": "9425de33",
   "metadata": {},
   "source": [
    "Commonly used machine learning algorithms for regression\n",
    "\n",
    "* 1.Linear Regression \n",
    "* 2.Polynomial Regression \n",
    "* 3.Support vector Regression"
   ]
  },
  {
   "cell_type": "markdown",
   "id": "2f910ae5",
   "metadata": {},
   "source": [
    "#### Linear Regression\n",
    "\n",
    "It attempts to find a linear relationship between the target and predictor variable.\n",
    "It is expressed as y=a0 + a1x1 + a2x2 + a3x3 +.......+ anxn where y is the target variable and x1,x2,x3 are the predictor varibales or features.\n",
    "a0,a1,a2 are the parameters(coefficients or weights)\n",
    "The main objective of the linear regression is to determine the best values for these parameters."
   ]
  },
  {
   "cell_type": "markdown",
   "id": "835ab749",
   "metadata": {},
   "source": [
    "#### Single Linear Regression\n",
    "\n",
    "A Single Linear Regression that involves only one feature."
   ]
  },
  {
   "cell_type": "code",
   "execution_count": 39,
   "id": "7d1559c5",
   "metadata": {},
   "outputs": [
    {
     "data": {
      "text/html": [
       "<div>\n",
       "<style scoped>\n",
       "    .dataframe tbody tr th:only-of-type {\n",
       "        vertical-align: middle;\n",
       "    }\n",
       "\n",
       "    .dataframe tbody tr th {\n",
       "        vertical-align: top;\n",
       "    }\n",
       "\n",
       "    .dataframe thead th {\n",
       "        text-align: right;\n",
       "    }\n",
       "</style>\n",
       "<table border=\"1\" class=\"dataframe\">\n",
       "  <thead>\n",
       "    <tr style=\"text-align: right;\">\n",
       "      <th></th>\n",
       "      <th>Floor Area (sqft)</th>\n",
       "      <th>Value ($1000)</th>\n",
       "    </tr>\n",
       "  </thead>\n",
       "  <tbody>\n",
       "    <tr>\n",
       "      <th>0</th>\n",
       "      <td>665.0</td>\n",
       "      <td>161.0</td>\n",
       "    </tr>\n",
       "    <tr>\n",
       "      <th>1</th>\n",
       "      <td>442.0</td>\n",
       "      <td>83.0</td>\n",
       "    </tr>\n",
       "    <tr>\n",
       "      <th>2</th>\n",
       "      <td>302.0</td>\n",
       "      <td>53.0</td>\n",
       "    </tr>\n",
       "    <tr>\n",
       "      <th>3</th>\n",
       "      <td>336.0</td>\n",
       "      <td>57.0</td>\n",
       "    </tr>\n",
       "    <tr>\n",
       "      <th>4</th>\n",
       "      <td>673.0</td>\n",
       "      <td>152.0</td>\n",
       "    </tr>\n",
       "  </tbody>\n",
       "</table>\n",
       "</div>"
      ],
      "text/plain": [
       "   Floor Area (sqft)  Value ($1000)\n",
       "0              665.0          161.0\n",
       "1              442.0           83.0\n",
       "2              302.0           53.0\n",
       "3              336.0           57.0\n",
       "4              673.0          152.0"
      ]
     },
     "execution_count": 39,
     "metadata": {},
     "output_type": "execute_result"
    }
   ],
   "source": [
    "import numpy as np \n",
    "import pandas as pd \n",
    "import matplotlib.pyplot as plt\n",
    "from sklearn.linear_model import LinearRegression\n",
    "from sklearn.model_selection import train_test_split\n",
    "from sklearn.metrics import mean_squared_error, r2_score \n",
    "#step1 Loading data\n",
    "housing =pd.read_csv(\"C:/Users/sabth/Documents/housing.csv\")\n",
    "#step2 Examine the data\n",
    "housing.head()"
   ]
  },
  {
   "cell_type": "code",
   "execution_count": 40,
   "id": "e3a476b8",
   "metadata": {},
   "outputs": [
    {
     "data": {
      "text/plain": [
       "Floor Area (sqft)    0\n",
       "Value ($1000)        0\n",
       "dtype: int64"
      ]
     },
     "execution_count": 40,
     "metadata": {},
     "output_type": "execute_result"
    }
   ],
   "source": [
    "housing.isnull().sum()"
   ]
  },
  {
   "cell_type": "code",
   "execution_count": 42,
   "id": "3086b305",
   "metadata": {},
   "outputs": [],
   "source": [
    "#split the dataset\n",
    "X = housing[['Floor Area (sqft)']]\n",
    "y = housing['Value ($1000)']\n",
    "X_train, X_test, y_train, y_test = train_test_split(X, y, test_size=0.2, random_state=42)"
   ]
  },
  {
   "cell_type": "code",
   "execution_count": 43,
   "id": "007082ec",
   "metadata": {},
   "outputs": [
    {
     "data": {
      "text/plain": [
       "Text(0, 0.5, 'Price in $1000s')"
      ]
     },
     "execution_count": 43,
     "metadata": {},
     "output_type": "execute_result"
    },
    {
     "data": {
      "image/png": "[encoded data removed]",
      "text/plain": [
       "<Figure size 640x480 with 1 Axes>"
      ]
     },
     "metadata": {},
     "output_type": "display_data"
    }
   ],
   "source": [
    "plt.scatter(X_train['Floor Area (sqft)'], y_train, s=10)\n",
    "plt.title('Housing Price vs Floor Area')\n",
    "plt.xlabel('Floor Area (sqft)')\n",
    "plt.ylabel('Price in $1000s')"
   ]
  },
  {
   "cell_type": "markdown",
   "id": "6bb89d6e",
   "metadata": {},
   "source": [
    "#### Classification"
   ]
  },
  {
   "cell_type": "markdown",
   "id": "5c44b6f9",
   "metadata": {},
   "source": [
    "Classification is similar to regression except that instead of predicting continuous values,it is concerned with prediction of discrete values.\n",
    "Ex: Prediciting emails that is spam or non-spam Prediciting animals whether it is cat or dog or others"
   ]
  },
  {
   "cell_type": "markdown",
   "id": "684685cf",
   "metadata": {},
   "source": [
    "Machine Learning algorithms for classifictaion \n",
    "  * 1.Decision tree \n",
    "  * 2.Random forest \n",
    "  * 3.Support vector Machine(SVM) \n",
    "  * 4.Logistic Regression"
   ]
  },
  {
   "cell_type": "markdown",
   "id": "039abec6",
   "metadata": {},
   "source": [
    "Decision Tree\n",
    "_____________\n",
    "\n",
    "* The basic concept - Classfication predictions are done by tracing thorugh a series of if-else rules in an upside-down tree.\n",
    "* Training a decision tree iteratively split the dataset into two subsets based on the rules in the root and decision nodes.\n",
    "* A decision tree determines its rules autonomously by computing the level of impurity in each tree node.\n",
    "* The node's impurity level is calculated using either GINI impurity or ENTROPY score\n",
    "An impurity of 0 occurs when all the instances in a node belonging to the same class and the node is pure.\n",
    "* The idea behind the decision tree is to construct a decision tree by selecting rules with the smallest weighted impurities."
   ]
  },
  {
   "cell_type": "markdown",
   "id": "a67091c9",
   "metadata": {},
   "source": [
    "Ex: We have a dataset to predict whether it is safe to eat an unknown animal given its hairiness size and weight."
   ]
  },
  {
   "cell_type": "code",
   "execution_count": 44,
   "id": "ac73bf1d",
   "metadata": {},
   "outputs": [],
   "source": [
    "#         Hairiness           Size         Weight        Class\n",
    "                   \n",
    "# A        Not hairy           Large          3.8           Safe\n",
    "\n",
    "# B        Not hairy           Large          1.2           Safe\n",
    "\n",
    "# C        Not hairy           Small          3.5           Safe\n",
    "\n",
    "# D        Not hairy           Small          3.2          Dangerous\n",
    "\n",
    "# E         Hairy              Large          5.4          Dangerous\n",
    "\n",
    "# F         Hairy              Small          3.6          Dangerous"
   ]
  },
  {
   "cell_type": "markdown",
   "id": "07906859",
   "metadata": {},
   "source": [
    "Sort the weight feature 1.2,3.2,3.5,3.6,3.8,5.4\n",
    "    \n",
    "    Mean of adjacent values  2.2, 3.35 , 3.55, 3.7, 4.6 \n",
    "    \n",
    "   The possible rule can be \n",
    "           \n",
    "           if weight <= 2.2,classify it into subset 1,else subset 2\n",
    "    \n",
    "    Hairiness feature is encoded as\n",
    "           \n",
    "           0 = Not hairy\n",
    "           \n",
    "           1 = Hairy\n",
    "     \n",
    "     The possible rule is \n",
    "           \n",
    "          if hairiness <= 0.5 classify it into subset 1,else into subset 2."
   ]
  },
  {
   "cell_type": "code",
   "execution_count": 47,
   "id": "f948fa11",
   "metadata": {},
   "outputs": [],
   "source": [
    "#               Subset 1              Subset 2\n",
    "                    \n",
    "                   \n",
    "# Safe           A,B,C                  -\n",
    " \n",
    "# Dangerous       D                     E,F"
   ]
  },
  {
   "cell_type": "markdown",
   "id": "22548993",
   "metadata": {},
   "source": [
    "Gini impurity = 1- Sum of P(k)^2 for all the classes\n",
    "\n",
    "    where P(k) stands for the proportion of instances that belongs to class k in a particular subset.\n",
    "P(Safe) = 3/4 , P(Dangerous) = 1/4\n",
    "    \n",
    "Gini impurity = 1 - ((3/4)^2 + (1/4)^2)\n",
    "                           = 0.375\n",
    "    \n",
    "         There are 2 subsets and both belongs to Dangerous\n",
    "        \n",
    "            Gini impurity = 1 - (2/2)^2\n",
    "                          = 0"
   ]
  },
  {
   "cell_type": "markdown",
   "id": "26fdfbc5",
   "metadata": {},
   "source": [
    "Random forest algorithm\n",
    "_______________________\n",
    "\n",
    "* The decision tree algorithm is an intuitive algorithm that is very easy to interpret,but they tend to be unstable.\n",
    "* That is a slight change in dataset can significantly change the tree structure,hence decision trees are relatively inaccurate when making predictions.\n",
    "* To resolve the above issue use an ensemble of decision trees to make multiple predictions and return the final prediction  based on an aggregate function."
   ]
  },
  {
   "cell_type": "code",
   "execution_count": 52,
   "id": "09284152",
   "metadata": {},
   "outputs": [
    {
     "data": {
      "text/html": [
       "<div>\n",
       "<style scoped>\n",
       "    .dataframe tbody tr th:only-of-type {\n",
       "        vertical-align: middle;\n",
       "    }\n",
       "\n",
       "    .dataframe tbody tr th {\n",
       "        vertical-align: top;\n",
       "    }\n",
       "\n",
       "    .dataframe thead th {\n",
       "        text-align: right;\n",
       "    }\n",
       "</style>\n",
       "<table border=\"1\" class=\"dataframe\">\n",
       "  <thead>\n",
       "    <tr style=\"text-align: right;\">\n",
       "      <th></th>\n",
       "      <th>Glucose</th>\n",
       "      <th>BMI</th>\n",
       "      <th>Outcome</th>\n",
       "    </tr>\n",
       "  </thead>\n",
       "  <tbody>\n",
       "    <tr>\n",
       "      <th>0</th>\n",
       "      <td>141</td>\n",
       "      <td>33.02</td>\n",
       "      <td>0</td>\n",
       "    </tr>\n",
       "    <tr>\n",
       "      <th>1</th>\n",
       "      <td>83</td>\n",
       "      <td>30.20</td>\n",
       "      <td>0</td>\n",
       "    </tr>\n",
       "    <tr>\n",
       "      <th>2</th>\n",
       "      <td>128</td>\n",
       "      <td>27.16</td>\n",
       "      <td>0</td>\n",
       "    </tr>\n",
       "    <tr>\n",
       "      <th>3</th>\n",
       "      <td>112</td>\n",
       "      <td>35.16</td>\n",
       "      <td>1</td>\n",
       "    </tr>\n",
       "    <tr>\n",
       "      <th>4</th>\n",
       "      <td>71</td>\n",
       "      <td>27.22</td>\n",
       "      <td>0</td>\n",
       "    </tr>\n",
       "    <tr>\n",
       "      <th>5</th>\n",
       "      <td>86</td>\n",
       "      <td>31.12</td>\n",
       "      <td>0</td>\n",
       "    </tr>\n",
       "    <tr>\n",
       "      <th>6</th>\n",
       "      <td>141</td>\n",
       "      <td>41.76</td>\n",
       "      <td>1</td>\n",
       "    </tr>\n",
       "    <tr>\n",
       "      <th>7</th>\n",
       "      <td>160</td>\n",
       "      <td>29.60</td>\n",
       "      <td>1</td>\n",
       "    </tr>\n",
       "    <tr>\n",
       "      <th>8</th>\n",
       "      <td>88</td>\n",
       "      <td>29.86</td>\n",
       "      <td>0</td>\n",
       "    </tr>\n",
       "    <tr>\n",
       "      <th>9</th>\n",
       "      <td>91</td>\n",
       "      <td>35.34</td>\n",
       "      <td>0</td>\n",
       "    </tr>\n",
       "  </tbody>\n",
       "</table>\n",
       "</div>"
      ],
      "text/plain": [
       "   Glucose    BMI  Outcome\n",
       "0      141  33.02        0\n",
       "1       83  30.20        0\n",
       "2      128  27.16        0\n",
       "3      112  35.16        1\n",
       "4       71  27.22        0\n",
       "5       86  31.12        0\n",
       "6      141  41.76        1\n",
       "7      160  29.60        1\n",
       "8       88  29.86        0\n",
       "9       91  35.34        0"
      ]
     },
     "execution_count": 52,
     "metadata": {},
     "output_type": "execute_result"
    }
   ],
   "source": [
    "df1=pd.read_csv(\"C:/Users/sabth/Documents/diabetes.csv\")\n",
    "df1.head(10)"
   ]
  },
  {
   "cell_type": "markdown",
   "id": "0841f0ed",
   "metadata": {},
   "source": [
    "* Our goal is to predict whether the person has diabetes or not using BMI and Glucose level."
   ]
  },
  {
   "cell_type": "code",
   "execution_count": 53,
   "id": "8ef4421f",
   "metadata": {},
   "outputs": [
    {
     "data": {
      "text/plain": [
       "Glucose    0\n",
       "BMI        0\n",
       "Outcome    0\n",
       "dtype: int64"
      ]
     },
     "execution_count": 53,
     "metadata": {},
     "output_type": "execute_result"
    }
   ],
   "source": [
    "df1.isnull().sum()"
   ]
  },
  {
   "cell_type": "code",
   "execution_count": 54,
   "id": "5ed8bcbe",
   "metadata": {},
   "outputs": [],
   "source": [
    "X = df1.iloc[:,:-1].to_numpy()\n",
    "#select all rows except target variable"
   ]
  },
  {
   "cell_type": "code",
   "execution_count": 56,
   "id": "9a4c9022",
   "metadata": {},
   "outputs": [],
   "source": [
    "y = df1.iloc[:,-1].to_numpy()\n",
    "#select all column except target variable"
   ]
  },
  {
   "cell_type": "code",
   "execution_count": 57,
   "id": "9ba80dca",
   "metadata": {},
   "outputs": [],
   "source": [
    "from sklearn.model_selection import train_test_split\n",
    "X_train, X_test, y_train, y_test = train_test_split(X, y, test_size=0.2, random_state=0)"
   ]
  },
  {
   "cell_type": "code",
   "execution_count": 58,
   "id": "9bcb72fc",
   "metadata": {},
   "outputs": [
    {
     "data": {
      "image/png": "[encoded data removed]",
      "text/plain": [
       "<Figure size 2000x1000 with 1 Axes>"
      ]
     },
     "metadata": {},
     "output_type": "display_data"
    }
   ],
   "source": [
    "from sklearn.tree import DecisionTreeClassifier \n",
    "clf = DecisionTreeClassifier(random_state=0)\n",
    "clf.fit(X_train, y_train)\n",
    "import matplotlib.pyplot as plt\n",
    "%matplotlib inline\n",
    "from sklearn.tree import plot_tree \n",
    "plt.figure(figsize=(20,10))\n",
    "plot_tree(clf, feature_names=['Glucose', 'BMI'], class_names=['No','Yes'])\n",
    "plt.show()"
   ]
  },
  {
   "cell_type": "code",
   "execution_count": 59,
   "id": "0b25bc73",
   "metadata": {},
   "outputs": [
    {
     "data": {
      "image/png": "[encoded data removed]",
      "text/plain": [
       "<Figure size 2000x1000 with 1 Axes>"
      ]
     },
     "metadata": {},
     "output_type": "display_data"
    }
   ],
   "source": [
    "clf.set_params(max_depth = 3)\n",
    "clf.fit(X_train, y_train)\n",
    "plt.figure(figsize=(20,10))\n",
    "plot_tree(clf, feature_names=['Glucose', 'BMI'], class_names=['No','Yes'])\n",
    "plt.show()"
   ]
  },
  {
   "cell_type": "code",
   "execution_count": 60,
   "id": "cccffb57",
   "metadata": {},
   "outputs": [
    {
     "data": {
      "text/plain": [
       "array([0, 1], dtype=int64)"
      ]
     },
     "execution_count": 60,
     "metadata": {},
     "output_type": "execute_result"
    }
   ],
   "source": [
    "clf.predict([[90, 20], [200, 30]])"
   ]
  },
  {
   "cell_type": "code",
   "execution_count": 61,
   "id": "a6b848a9",
   "metadata": {},
   "outputs": [],
   "source": [
    "from sklearn.model_selection import cross_val_score \n",
    "scores = cross_val_score(clf, X_train, y_train, cv=5, scoring=\"accuracy\")\n",
    "accuracy = scores.mean()"
   ]
  },
  {
   "cell_type": "code",
   "execution_count": 62,
   "id": "7011b928",
   "metadata": {},
   "outputs": [],
   "source": [
    "from sklearn.ensemble import RandomForestClassifier\n",
    "clf_rf= RandomForestClassifier(n_estimators = 200, max_depth=3, random_state=0)\n",
    "clf_rf.fit(X_train, y_train)\n",
    "scores = cross_val_score(clf_rf, X_train, y_train, cv=5, scoring=\"accuracy\")\n",
    "accuracy = scores.mean()"
   ]
  },
  {
   "cell_type": "markdown",
   "id": "5b5bedc4",
   "metadata": {},
   "source": [
    "#### Support Vector Machine(SVM)\n",
    "###### Binary Classification\n",
    "_____________________\n",
    "\n",
    "* A task of classifying instances into two classes.\n",
    "* For binary classification SVM tries to find out a boundary(hyperplane) that seperates the instances into two classes.\n",
    "* SVM vector works by finding a hyperplane that maximizes the distance between the plane and the closest data points."
   ]
  },
  {
   "cell_type": "markdown",
   "id": "b95a84d2",
   "metadata": {},
   "source": [
    "#### Non Linear SVM model\n",
    "____________________\n",
    "\n",
    "* If the data was more convoluted and a straight line could not seperate the two classes well we need to use a non linear SVM.\n",
    "* Here we use polynomial regression instead of linear regression.\n",
    "* To seperate data that is not linear seperable,map the data to a higher dimensional space.\n",
    "* In the figure the dataset on top(x) is not seperable by linear line we can map it to a 2d space by adding a new dimension x^2.\n",
    "* Example: x=-3 and x^2=9 can be mapped"
   ]
  },
  {
   "cell_type": "markdown",
   "id": "22b4979d",
   "metadata": {},
   "source": [
    "#### Kernel trick\n",
    "____________\n",
    "\n",
    "* To use kernel trick,pass a kernel hyper parameter to the SVM model when instantiating it.\n",
    "* The kernels available in sklearn are\n",
    "\n",
    "     1. linear \n",
    "     \n",
    "     2. poly\n",
    "     \n",
    "     3. rbf(default)\n",
    "     \n",
    "     4. sigmoid\n",
    "     \n",
    "     5. precomputed"
   ]
  },
  {
   "cell_type": "markdown",
   "id": "0c1f05f0",
   "metadata": {},
   "source": [
    "#### Multiclass Classification\n",
    "_________________________\n",
    "multiple classes we can use any one of the following curistic methods.\n",
    "\n",
    "     1.OvR(One-vs-Rest)\n",
    "    \n",
    "     2.OvO(One-vs-One)"
   ]
  },
  {
   "cell_type": "markdown",
   "id": "04a50e51",
   "metadata": {},
   "source": [
    "#### One-vs-Rest\n",
    "___________\n",
    "\n",
    "* We need to classify our dataset into three classes class1,class2,class3\n",
    "* OvR splits the problem into binary classification problem as follows\n",
    "\n",
    "            1. class1 vs not class1(class2 and class3 are combined to not class1)\n",
    "            \n",
    "            2. class2 vs not class2\n",
    "            \n",
    "            3. class3 vs not class3\n",
    "* The binary classifier is trained on each problem and decision score is generated for each classifier.\n",
    "* The output of the classifier with the highest score is selected."
   ]
  },
  {
   "cell_type": "markdown",
   "id": "d566a753",
   "metadata": {},
   "source": [
    "#### One-vs-One\n",
    "__________\n",
    "\n",
    "* This method trains the binary classifier for each pair of classes and selects the class with the most votes.\n",
    "* class1 vs class2     \n",
    "* class1 vs class3\n",
    "* class2 vs class3"
   ]
  },
  {
   "cell_type": "markdown",
   "id": "b1331192",
   "metadata": {},
   "source": [
    "OvR and OvO\n",
    "* sklearn provides two classes\n",
    "\n",
    "          1.OneVsOneClassifier\n",
    "          \n",
    "          2.OneVsRestClassifier"
   ]
  },
  {
   "cell_type": "code",
   "execution_count": 72,
   "id": "bfeb5341",
   "metadata": {},
   "outputs": [],
   "source": [
    "from sklearn.pipeline import Pipeline\n",
    "from sklearn.model_selection import cross_val_score\n",
    "from sklearn.preprocessing import StandardScaler\n",
    "from sklearn.svm import SVC\n",
    "\n",
    "pipeline = Pipeline([\n",
    "    ('scaler', StandardScaler()), \n",
    "    ('svm', SVC()) \n",
    "])\n",
    "\n",
    "scores = cross_val_score(pipeline, X_train, y_train, cv=5, scoring=\"accuracy\")\n",
    "accuracy = scores.mean()"
   ]
  },
  {
   "cell_type": "code",
   "execution_count": null,
   "id": "6d9b286f",
   "metadata": {},
   "outputs": [],
   "source": []
  }
 ],
 "metadata": {
  "kernelspec": {
   "display_name": "Python 3 (ipykernel)",
   "language": "python",
   "name": "python3"
  },
  "language_info": {
   "codemirror_mode": {
    "name": "ipython",
    "version": 3
   },
   "file_extension": ".py",
   "mimetype": "text/x-python",
   "name": "python",
   "nbconvert_exporter": "python",
   "pygments_lexer": "ipython3",
   "version": "3.11.5"
  }
 },
 "nbformat": 4,
 "nbformat_minor": 5
}
